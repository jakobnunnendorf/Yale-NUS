{
 "cells": [
  {
   "cell_type": "markdown",
   "metadata": {},
   "source": [
    "# Homework 2: Table Manipulation, Visualization, Functions"
   ]
  },
  {
   "cell_type": "markdown",
   "metadata": {},
   "source": [
    "Please complete this notebook by filling in the cells provided. Before you begin, execute the following cell to load the provided tests. Each time you start your server, you will need to execute this cell again to load the tests.\n",
    "\n",
    "Throughout this homework and all future ones, please be sure to not re-assign variables throughout the notebook! For example, if you use `max_temperature` in your answer to one question, do not reassign it later on. Moreover, please be sure to only put your written answers in the provided cells. \n",
    "\n",
    "Deadline:\n",
    "\n",
    "This assignment is due on January 27 (Friday), 2023 at 23:59\n",
    "\n",
    "Directly sharing answers is not okay, but discussing problems with the course staff or with other students is encouraged. Refer to the policies page to learn more about how to learn cooperatively.\n",
    "\n",
    "You should start early so that you have time to get help if you're stuck. "
   ]
  },
  {
   "cell_type": "code",
   "execution_count": 6,
   "metadata": {},
   "outputs": [],
   "source": [
    "# Don't change this cell; just run it. \n",
    "\n",
    "import numpy as np\n",
    "from datascience import *\n",
    "\n",
    "\n",
    "# These lines do some fancy plotting magic.\",\n",
    "import matplotlib\n",
    "%matplotlib inline\n",
    "import matplotlib.pyplot as plots\n",
    "plots.style.use('fivethirtyeight')"
   ]
  },
  {
   "cell_type": "markdown",
   "metadata": {},
   "source": [
    "## Differences between Universities"
   ]
  },
  {
   "cell_type": "markdown",
   "metadata": {},
   "source": [
    "**Question 1.** Suppose you're choosing a university to attend, and you'd like to *quantify* how *dissimilar* any two universities are.  You rate each university you're considering on several numerical traits.  You decide on a very detailed list of 1000 traits, and you measure all of them!  Some examples:\n",
    "\n",
    "* The cost to attend (per year).\n",
    "* The average Yelp review of nearby Thai restaurants.\n",
    "* The USA Today ranking of the Medical school.\n",
    "* The USA Today ranking of the Engineering school.\n",
    "\n",
    "You decide that the dissimilarity between two universities is the *total* of the differences in their traits.  That is, the dissimilarity is:\n",
    "\n",
    "* the **sum** of\n",
    "* the absolute values of\n",
    "* the 1000 differences in their trait values.\n",
    "\n",
    "In the next cell, we've loaded arrays containing the 1000 trait values for University A and University B.  Compute the dissimilarity (according to the above technique) between University A and University B.  Call your answer `dissimilarity`.  Use a single line of code to compute the answer."
   ]
  },
  {
   "cell_type": "code",
   "execution_count": 10,
   "metadata": {},
   "outputs": [
    {
     "data": {
      "text/plain": [
       "14060.558701067921"
      ]
     },
     "execution_count": 10,
     "metadata": {},
     "output_type": "execute_result"
    }
   ],
   "source": [
    "A = Table.read_table(\"A.csv\").column(\"Trait value\")\n",
    "B = Table.read_table(\"B.csv\").column(\"Trait value\")\n",
    "\n",
    "dissimilarity = np.sum(np.abs(A - B))\n",
    "dissimilarity"
   ]
  },
  {
   "cell_type": "markdown",
   "metadata": {},
   "source": [
    "##### Weighing the traits\n",
    "After computing dissimilarities between several schools, you notice a problem with your method: the scale of the traits matters a lot.\n",
    "\n",
    "Since schools cost tens of thousands of dollars to attend, the cost-to-attend trait is always a much bigger *number* than most other traits.  That makes it affect the dissimilarity a lot more than other traits.  Two schools that differ in cost-to-attend by $\\$900$, but are otherwise identical, get a dissimilarity of $900$.  But two schools that differ in graduation rate by $0.9$ (a huge difference!), but are otherwise identical, get a dissimilarity of only $0.9$.\n",
    "\n",
    "One way to fix this problem is to assign different \"weights\" to different traits. For example, we could fix the problem above by multiplying the difference in the cost-to-attend traits by $.001$, so that a difference of $\\$900$ in the attendance cost results in a dissimilarity of $\\$900 \\times .001$, or $0.9$.\n",
    "\n",
    "Here's a revised method that does that for every trait:\n",
    "\n",
    "1. For each trait, subtract the two schools' trait values.\n",
    "2. Then take the absolute value of that difference.\n",
    "3. Now multiply that absolute value by a trait-specific number, like $.001$ or $2$.\n",
    "4. Now, sum the 1000 resulting numbers.\n",
    "\n",
    "**Question 2.** Suppose you've already decided on a weight for each trait.  These are loaded into an array called `weights` in the cell below.  `weights.item(0)` is the weight for the first trait, `weights.item(1)` is the weight for the second trait, and so on.  Use the revised method to compute a revised dissimilarity between University A and University B.\n",
    "\n",
    "*Hint:* Using array arithmetic, your answer should be almost as short as in question 1."
   ]
  },
  {
   "cell_type": "code",
   "execution_count": 11,
   "metadata": {},
   "outputs": [
    {
     "data": {
      "text/plain": [
       "505.98313211458839"
      ]
     },
     "execution_count": 11,
     "metadata": {},
     "output_type": "execute_result"
    }
   ],
   "source": [
    "weights = Table.read_table(\"weights.csv\").column(\"Weight\")\n",
    "\n",
    "revised_dissimilarity = np.sum(np.abs(A - B) * weights)\n",
    "revised_dissimilarity"
   ]
  },
  {
   "cell_type": "markdown",
   "metadata": {},
   "source": [
    "## 2. Unemployment\n"
   ]
  },
  {
   "cell_type": "markdown",
   "metadata": {},
   "source": [
    "The Federal Reserve Bank of St. Louis publishes data about jobs in the US.  Below, we've loaded data on unemployment in the United States. There are many ways of defining unemployment, and our dataset includes two notions of the unemployment rate:\n",
    "\n",
    "1. Among people who are able to work and are looking for a full-time job, the percentage who can't find a job.  This is called the Non-Employment Index, or NEI.\n",
    "2. Among people who are able to work and are looking for a full-time job, the percentage who can't find any job *or* are only working at a part-time job.  The latter group is called \"Part-Time for Economic Reasons\", so the acronym for this index is NEI-PTER.  (Economists are great at marketing.)\n",
    "\n",
    "The source of the data is [here](https://fred.stlouisfed.org/categories/33509)."
   ]
  },
  {
   "cell_type": "markdown",
   "metadata": {},
   "source": [
    "**Question 1.** The data are in a CSV file located in the same directory as this notebook called `unemployment.csv`.  Load that file into a table called `unemployment`."
   ]
  },
  {
   "cell_type": "code",
   "execution_count": 12,
   "metadata": {},
   "outputs": [
    {
     "data": {
      "text/html": [
       "<table border=\"1\" class=\"dataframe\">\n",
       "    <thead>\n",
       "        <tr>\n",
       "            <th>Date</th> <th>NEI</th> <th>NEI-PTER</th>\n",
       "        </tr>\n",
       "    </thead>\n",
       "    <tbody>\n",
       "        <tr>\n",
       "            <td>1994-01-01</td> <td>10.0974</td> <td>11.172  </td>\n",
       "        </tr>\n",
       "        <tr>\n",
       "            <td>1994-04-01</td> <td>9.6239 </td> <td>10.7883 </td>\n",
       "        </tr>\n",
       "        <tr>\n",
       "            <td>1994-07-01</td> <td>9.3276 </td> <td>10.4831 </td>\n",
       "        </tr>\n",
       "        <tr>\n",
       "            <td>1994-10-01</td> <td>9.1071 </td> <td>10.2361 </td>\n",
       "        </tr>\n",
       "        <tr>\n",
       "            <td>1995-01-01</td> <td>8.9693 </td> <td>10.1832 </td>\n",
       "        </tr>\n",
       "        <tr>\n",
       "            <td>1995-04-01</td> <td>9.0314 </td> <td>10.1071 </td>\n",
       "        </tr>\n",
       "        <tr>\n",
       "            <td>1995-07-01</td> <td>8.9802 </td> <td>10.1084 </td>\n",
       "        </tr>\n",
       "        <tr>\n",
       "            <td>1995-10-01</td> <td>8.9932 </td> <td>10.1046 </td>\n",
       "        </tr>\n",
       "        <tr>\n",
       "            <td>1996-01-01</td> <td>9.0002 </td> <td>10.0531 </td>\n",
       "        </tr>\n",
       "        <tr>\n",
       "            <td>1996-04-01</td> <td>8.9038 </td> <td>9.9782  </td>\n",
       "        </tr>\n",
       "    </tbody>\n",
       "</table>\n",
       "<p>... (80 rows omitted)</p>"
      ],
      "text/plain": [
       "Date       | NEI     | NEI-PTER\n",
       "1994-01-01 | 10.0974 | 11.172\n",
       "1994-04-01 | 9.6239  | 10.7883\n",
       "1994-07-01 | 9.3276  | 10.4831\n",
       "1994-10-01 | 9.1071  | 10.2361\n",
       "1995-01-01 | 8.9693  | 10.1832\n",
       "1995-04-01 | 9.0314  | 10.1071\n",
       "1995-07-01 | 8.9802  | 10.1084\n",
       "1995-10-01 | 8.9932  | 10.1046\n",
       "1996-01-01 | 9.0002  | 10.0531\n",
       "1996-04-01 | 8.9038  | 9.9782\n",
       "... (80 rows omitted)"
      ]
     },
     "execution_count": 12,
     "metadata": {},
     "output_type": "execute_result"
    }
   ],
   "source": [
    "unemployment = Table.read_table(\"unemployment.csv\")\n",
    "unemployment"
   ]
  },
  {
   "cell_type": "markdown",
   "metadata": {},
   "source": [
    "**Question 2.** Sort the data in descending order by NEI, naming the sorted table `by_nei`.  Create another table called `by_nei_pter` that's sorted in descending order by NEI-PTER instead."
   ]
  },
  {
   "cell_type": "code",
   "execution_count": 13,
   "metadata": {},
   "outputs": [
    {
     "data": {
      "text/html": [
       "<table border=\"1\" class=\"dataframe\">\n",
       "    <thead>\n",
       "        <tr>\n",
       "            <th>Date</th> <th>NEI</th> <th>NEI-PTER</th>\n",
       "        </tr>\n",
       "    </thead>\n",
       "    <tbody>\n",
       "        <tr>\n",
       "            <td>2009-10-01</td> <td>10.9698</td> <td>12.8557 </td>\n",
       "        </tr>\n",
       "        <tr>\n",
       "            <td>2010-01-01</td> <td>10.9054</td> <td>12.7311 </td>\n",
       "        </tr>\n",
       "        <tr>\n",
       "            <td>2009-07-01</td> <td>10.8089</td> <td>12.7404 </td>\n",
       "        </tr>\n",
       "        <tr>\n",
       "            <td>2009-04-01</td> <td>10.7082</td> <td>12.5497 </td>\n",
       "        </tr>\n",
       "        <tr>\n",
       "            <td>2010-04-01</td> <td>10.6597</td> <td>12.5664 </td>\n",
       "        </tr>\n",
       "    </tbody>\n",
       "</table>\n",
       "<p>... (85 rows omitted)</p>"
      ],
      "text/plain": [
       "<IPython.core.display.HTML object>"
      ]
     },
     "metadata": {},
     "output_type": "display_data"
    },
    {
     "data": {
      "text/html": [
       "<table border=\"1\" class=\"dataframe\">\n",
       "    <thead>\n",
       "        <tr>\n",
       "            <th>Date</th> <th>NEI</th> <th>NEI-PTER</th>\n",
       "        </tr>\n",
       "    </thead>\n",
       "    <tbody>\n",
       "        <tr>\n",
       "            <td>2009-10-01</td> <td>10.9698</td> <td>12.8557 </td>\n",
       "        </tr>\n",
       "        <tr>\n",
       "            <td>2009-07-01</td> <td>10.8089</td> <td>12.7404 </td>\n",
       "        </tr>\n",
       "        <tr>\n",
       "            <td>2010-01-01</td> <td>10.9054</td> <td>12.7311 </td>\n",
       "        </tr>\n",
       "        <tr>\n",
       "            <td>2010-04-01</td> <td>10.6597</td> <td>12.5664 </td>\n",
       "        </tr>\n",
       "        <tr>\n",
       "            <td>2009-04-01</td> <td>10.7082</td> <td>12.5497 </td>\n",
       "        </tr>\n",
       "    </tbody>\n",
       "</table>\n",
       "<p>... (85 rows omitted)</p>"
      ],
      "text/plain": [
       "<IPython.core.display.HTML object>"
      ]
     },
     "metadata": {},
     "output_type": "display_data"
    }
   ],
   "source": [
    "by_nei = unemployment.sort(\"NEI\", descending = True)\n",
    "by_nei_pter = unemployment.sort(\"NEI-PTER\", descending = True)\n",
    "by_nei.show(5)\n",
    "by_nei_pter.show(5)"
   ]
  },
  {
   "cell_type": "markdown",
   "metadata": {},
   "source": [
    "**Question 3.** Use `take` to make a table containing the data for the 10 quarters when NEI was greatest.  Call that table `greatest_nei`."
   ]
  },
  {
   "cell_type": "code",
   "execution_count": 14,
   "metadata": {},
   "outputs": [
    {
     "data": {
      "text/html": [
       "<table border=\"1\" class=\"dataframe\">\n",
       "    <thead>\n",
       "        <tr>\n",
       "            <th>Date</th> <th>NEI</th> <th>NEI-PTER</th>\n",
       "        </tr>\n",
       "    </thead>\n",
       "    <tbody>\n",
       "        <tr>\n",
       "            <td>2009-10-01</td> <td>10.9698</td> <td>12.8557 </td>\n",
       "        </tr>\n",
       "        <tr>\n",
       "            <td>2010-01-01</td> <td>10.9054</td> <td>12.7311 </td>\n",
       "        </tr>\n",
       "        <tr>\n",
       "            <td>2009-07-01</td> <td>10.8089</td> <td>12.7404 </td>\n",
       "        </tr>\n",
       "        <tr>\n",
       "            <td>2009-04-01</td> <td>10.7082</td> <td>12.5497 </td>\n",
       "        </tr>\n",
       "        <tr>\n",
       "            <td>2010-04-01</td> <td>10.6597</td> <td>12.5664 </td>\n",
       "        </tr>\n",
       "        <tr>\n",
       "            <td>2010-10-01</td> <td>10.5856</td> <td>12.4329 </td>\n",
       "        </tr>\n",
       "        <tr>\n",
       "            <td>2010-07-01</td> <td>10.5521</td> <td>12.3897 </td>\n",
       "        </tr>\n",
       "        <tr>\n",
       "            <td>2011-01-01</td> <td>10.5024</td> <td>12.3017 </td>\n",
       "        </tr>\n",
       "        <tr>\n",
       "            <td>2011-07-01</td> <td>10.4856</td> <td>12.2507 </td>\n",
       "        </tr>\n",
       "        <tr>\n",
       "            <td>2011-04-01</td> <td>10.4409</td> <td>12.247  </td>\n",
       "        </tr>\n",
       "    </tbody>\n",
       "</table>"
      ],
      "text/plain": [
       "Date       | NEI     | NEI-PTER\n",
       "2009-10-01 | 10.9698 | 12.8557\n",
       "2010-01-01 | 10.9054 | 12.7311\n",
       "2009-07-01 | 10.8089 | 12.7404\n",
       "2009-04-01 | 10.7082 | 12.5497\n",
       "2010-04-01 | 10.6597 | 12.5664\n",
       "2010-10-01 | 10.5856 | 12.4329\n",
       "2010-07-01 | 10.5521 | 12.3897\n",
       "2011-01-01 | 10.5024 | 12.3017\n",
       "2011-07-01 | 10.4856 | 12.2507\n",
       "2011-04-01 | 10.4409 | 12.247"
      ]
     },
     "execution_count": 14,
     "metadata": {},
     "output_type": "execute_result"
    }
   ],
   "source": [
    "greatest_nei = by_nei.take(range(10))\n",
    "greatest_nei"
   ]
  },
  {
   "cell_type": "markdown",
   "metadata": {},
   "source": [
    "**Question 4.** It's believed that many people became PTER (recall: \"Part-Time for Economic Reasons\") in the \"Great Recession\" of 2008-2009.  NEI-PTER is the percentage of people who are unemployed (and counted in the NEI) plus the percentage of people who are PTER.  Compute an array containing the percentage of people who were PTER in each quarter.  (The first element of the array should correspond to the first row of `unemployment`, and so on.)\n",
    "\n",
    "*Note:* Use the original `unemployment` table for this."
   ]
  },
  {
   "cell_type": "code",
   "execution_count": 19,
   "metadata": {},
   "outputs": [
    {
     "data": {
      "text/plain": [
       "array([ 1.8859,  1.835 ,  1.9222,  1.8582,  1.89  ,  1.8473,  1.8376,\n",
       "        1.7993,  1.7651,  1.8061,  1.7927,  1.7446,  1.6999,  1.6629,\n",
       "        1.6631,  1.6261,  1.5003,  1.598 ,  1.4584,  1.624 ,  1.5362,\n",
       "        1.1644,  1.4461,  1.3949,  1.4075,  1.4499,  1.3699,  1.3087,\n",
       "        1.2496,  1.2159,  1.1713,  1.1711,  1.1551,  1.1271,  1.1269,\n",
       "        1.1353,  1.127 ,  1.1091,  1.0926,  1.0826,  1.0744,  1.046 ,\n",
       "        1.0357,  1.0634,  1.0538,  1.0721,  1.0884,  1.1141,  1.1027,\n",
       "        1.0519,  1.054 ,  1.0519,  1.0485,  1.0368,  1.0196,  1.0205,\n",
       "        1.1022,  1.0774,  1.0762,  1.0249,  1.0455,  1.0038,  0.9515,\n",
       "        0.9748,  0.9875,  0.9711,  0.9309,  0.9179,  0.9093,  0.8977,\n",
       "        0.9242,  0.9409,  0.9523,  0.9525,  0.955 ,  0.9429,  0.898 ,\n",
       "        0.8668,  0.8105,  0.8367,  0.857 ,  0.8048,  0.8248,  0.8208,\n",
       "        0.7578,  0.7399,  0.7543,  0.743 ,  0.7438,  0.7251])"
      ]
     },
     "execution_count": 19,
     "metadata": {},
     "output_type": "execute_result"
    }
   ],
   "source": [
    "pter = by_nei_pter.column(\"NEI-PTER\") - by_nei.column(\"NEI\")\n",
    "pter"
   ]
  },
  {
   "cell_type": "markdown",
   "metadata": {},
   "source": [
    "**Question 5.** Add `pter` as a column to `unemployment` (named \"PTER\") and sort the resulting table by that column in descending order.  Call the table `by_pter`.\n",
    "\n",
    "Try to do this with a single line of code, if you can."
   ]
  },
  {
   "cell_type": "code",
   "execution_count": 20,
   "metadata": {},
   "outputs": [
    {
     "data": {
      "text/html": [
       "<table border=\"1\" class=\"dataframe\">\n",
       "    <thead>\n",
       "        <tr>\n",
       "            <th>Date</th> <th>NEI</th> <th>NEI-PTER</th> <th>PTER</th>\n",
       "        </tr>\n",
       "    </thead>\n",
       "    <tbody>\n",
       "        <tr>\n",
       "            <td>1994-01-01</td> <td>10.0974</td> <td>11.172  </td> <td>1.8859</td>\n",
       "        </tr>\n",
       "        <tr>\n",
       "            <td>1994-04-01</td> <td>9.6239 </td> <td>10.7883 </td> <td>1.835 </td>\n",
       "        </tr>\n",
       "        <tr>\n",
       "            <td>1994-07-01</td> <td>9.3276 </td> <td>10.4831 </td> <td>1.9222</td>\n",
       "        </tr>\n",
       "        <tr>\n",
       "            <td>1994-10-01</td> <td>9.1071 </td> <td>10.2361 </td> <td>1.8582</td>\n",
       "        </tr>\n",
       "        <tr>\n",
       "            <td>1995-01-01</td> <td>8.9693 </td> <td>10.1832 </td> <td>1.89  </td>\n",
       "        </tr>\n",
       "        <tr>\n",
       "            <td>1995-04-01</td> <td>9.0314 </td> <td>10.1071 </td> <td>1.8473</td>\n",
       "        </tr>\n",
       "        <tr>\n",
       "            <td>1995-07-01</td> <td>8.9802 </td> <td>10.1084 </td> <td>1.8376</td>\n",
       "        </tr>\n",
       "        <tr>\n",
       "            <td>1995-10-01</td> <td>8.9932 </td> <td>10.1046 </td> <td>1.7993</td>\n",
       "        </tr>\n",
       "        <tr>\n",
       "            <td>1996-01-01</td> <td>9.0002 </td> <td>10.0531 </td> <td>1.7651</td>\n",
       "        </tr>\n",
       "        <tr>\n",
       "            <td>1996-04-01</td> <td>8.9038 </td> <td>9.9782  </td> <td>1.8061</td>\n",
       "        </tr>\n",
       "    </tbody>\n",
       "</table>\n",
       "<p>... (80 rows omitted)</p>"
      ],
      "text/plain": [
       "Date       | NEI     | NEI-PTER | PTER\n",
       "1994-01-01 | 10.0974 | 11.172   | 1.8859\n",
       "1994-04-01 | 9.6239  | 10.7883  | 1.835\n",
       "1994-07-01 | 9.3276  | 10.4831  | 1.9222\n",
       "1994-10-01 | 9.1071  | 10.2361  | 1.8582\n",
       "1995-01-01 | 8.9693  | 10.1832  | 1.89\n",
       "1995-04-01 | 9.0314  | 10.1071  | 1.8473\n",
       "1995-07-01 | 8.9802  | 10.1084  | 1.8376\n",
       "1995-10-01 | 8.9932  | 10.1046  | 1.7993\n",
       "1996-01-01 | 9.0002  | 10.0531  | 1.7651\n",
       "1996-04-01 | 8.9038  | 9.9782   | 1.8061\n",
       "... (80 rows omitted)"
      ]
     },
     "execution_count": 20,
     "metadata": {},
     "output_type": "execute_result"
    }
   ],
   "source": [
    "by_pter = unemployment.with_column(\"PTER\", pter)\n",
    "by_pter"
   ]
  },
  {
   "cell_type": "markdown",
   "metadata": {},
   "source": [
    "**Question 6.** Create a line plot of the PTER over time. To do this, first add the `year` array and the `pter` array to the `unemployment` table; label these columns \"Year\" and \"PTER\", respectively. Assign this new table to `pter_over_time`. \n",
    "\n",
    "Then, generate a line plot using one of the table methods you've learned in class."
   ]
  },
  {
   "cell_type": "code",
   "execution_count": 33,
   "metadata": {},
   "outputs": [
    {
     "data": {
      "image/png": "[encoded data removed]",
      "text/plain": [
       "<Figure size 600x600 with 1 Axes>"
      ]
     },
     "metadata": {},
     "output_type": "display_data"
    }
   ],
   "source": [
    "year = 1994 + np.arange(by_pter.num_rows)/4\n",
    "pter_over_time = by_pter.with_column(\"Year\", year).plot(\"Year\", \"PTER\")"
   ]
  },
  {
   "cell_type": "markdown",
   "metadata": {},
   "source": [
    "## 3. Birth Rates\n"
   ]
  },
  {
   "cell_type": "markdown",
   "metadata": {},
   "source": [
    "The following table gives census-based population estimates for each state on both July 1, 2015 and July 1, 2016. The last four columns describe the components of the estimated change in population during this time interval. **For all questions below, assume that the word \"states\" refers to all 52 rows including Puerto Rico & the District of Columbia.**\n",
    "\n",
    "The data was taken from [here](http://www2.census.gov/programs-surveys/popest/datasets/2010-2016/national/totals/nst-est2016-alldata.csv).\n",
    "\n",
    "If you want to read more about the different column descriptions, go [here](http://www2.census.gov/programs-surveys/popest/datasets/2010-2015/national/totals/nst-est2015-alldata.pdf)."
   ]
  },
  {
   "cell_type": "code",
   "execution_count": 34,
   "metadata": {},
   "outputs": [
    {
     "data": {
      "text/html": [
       "<table border=\"1\" class=\"dataframe\">\n",
       "    <thead>\n",
       "        <tr>\n",
       "            <th>REGION</th> <th>NAME</th> <th>2015</th> <th>2016</th> <th>BIRTHS</th> <th>DEATHS</th> <th>MIGRATION</th> <th>OTHER</th>\n",
       "        </tr>\n",
       "    </thead>\n",
       "    <tbody>\n",
       "        <tr>\n",
       "            <td>3     </td> <td>Alabama             </td> <td>4,853,875 </td> <td>4,863,300 </td> <td>58,556 </td> <td>52,405 </td> <td>3,874    </td> <td>-600  </td>\n",
       "        </tr>\n",
       "        <tr>\n",
       "            <td>4     </td> <td>Alaska              </td> <td>737,709   </td> <td>741,894   </td> <td>11,255 </td> <td>4,511  </td> <td>-2,557   </td> <td>-2    </td>\n",
       "        </tr>\n",
       "        <tr>\n",
       "            <td>4     </td> <td>Arizona             </td> <td>6,817,565 </td> <td>6,931,071 </td> <td>87,204 </td> <td>56,564 </td> <td>76,405   </td> <td>6,461 </td>\n",
       "        </tr>\n",
       "        <tr>\n",
       "            <td>3     </td> <td>Arkansas            </td> <td>2,977,853 </td> <td>2,988,248 </td> <td>37,936 </td> <td>30,581 </td> <td>3,530    </td> <td>-490  </td>\n",
       "        </tr>\n",
       "        <tr>\n",
       "            <td>4     </td> <td>California          </td> <td>38,993,940</td> <td>39,250,017</td> <td>502,848</td> <td>273,850</td> <td>33,530   </td> <td>-6,451</td>\n",
       "        </tr>\n",
       "        <tr>\n",
       "            <td>4     </td> <td>Colorado            </td> <td>5,448,819 </td> <td>5,540,545 </td> <td>67,453 </td> <td>37,121 </td> <td>60,773   </td> <td>621   </td>\n",
       "        </tr>\n",
       "        <tr>\n",
       "            <td>1     </td> <td>Connecticut         </td> <td>3,584,730 </td> <td>3,576,452 </td> <td>35,848 </td> <td>30,638 </td> <td>-12,822  </td> <td>-666  </td>\n",
       "        </tr>\n",
       "        <tr>\n",
       "            <td>3     </td> <td>Delaware            </td> <td>944,076   </td> <td>952,065   </td> <td>10,922 </td> <td>8,945  </td> <td>5,583    </td> <td>429   </td>\n",
       "        </tr>\n",
       "        <tr>\n",
       "            <td>3     </td> <td>District of Columbia</td> <td>670,377   </td> <td>681,170   </td> <td>9,779  </td> <td>5,455  </td> <td>6,392    </td> <td>77    </td>\n",
       "        </tr>\n",
       "        <tr>\n",
       "            <td>3     </td> <td>Florida             </td> <td>20,244,914</td> <td>20,612,439</td> <td>222,793</td> <td>201,485</td> <td>325,986  </td> <td>20,231</td>\n",
       "        </tr>\n",
       "        <tr>\n",
       "            <td>3     </td> <td>Georgia             </td> <td>10,199,398</td> <td>10,310,371</td> <td>130,862</td> <td>81,525 </td> <td>60,612   </td> <td>1,024 </td>\n",
       "        </tr>\n",
       "        <tr>\n",
       "            <td>4     </td> <td>Hawaii              </td> <td>1,425,157 </td> <td>1,428,557 </td> <td>18,507 </td> <td>12,237 </td> <td>-2,583   </td> <td>-287  </td>\n",
       "        </tr>\n",
       "        <tr>\n",
       "            <td>4     </td> <td>Idaho               </td> <td>1,652,828 </td> <td>1,683,140 </td> <td>22,792 </td> <td>12,496 </td> <td>18,869   </td> <td>1,147 </td>\n",
       "        </tr>\n",
       "        <tr>\n",
       "            <td>2     </td> <td>Illinois            </td> <td>12,839,047</td> <td>12,801,539</td> <td>155,238</td> <td>108,040</td> <td>-83,210  </td> <td>-1,496</td>\n",
       "        </tr>\n",
       "        <tr>\n",
       "            <td>2     </td> <td>Indiana             </td> <td>6,612,768 </td> <td>6,633,053 </td> <td>83,267 </td> <td>60,909 </td> <td>-1,083   </td> <td>-990  </td>\n",
       "        </tr>\n",
       "        <tr>\n",
       "            <td>2     </td> <td>Iowa                </td> <td>3,121,997 </td> <td>3,134,693 </td> <td>39,349 </td> <td>28,739 </td> <td>2,944    </td> <td>-858  </td>\n",
       "        </tr>\n",
       "        <tr>\n",
       "            <td>2     </td> <td>Kansas              </td> <td>2,906,721 </td> <td>2,907,289 </td> <td>38,702 </td> <td>25,128 </td> <td>-12,744  </td> <td>-262  </td>\n",
       "        </tr>\n",
       "        <tr>\n",
       "            <td>3     </td> <td>Kentucky            </td> <td>4,424,611 </td> <td>4,436,974 </td> <td>55,198 </td> <td>44,883 </td> <td>3,305    </td> <td>-1,257</td>\n",
       "        </tr>\n",
       "        <tr>\n",
       "            <td>3     </td> <td>Louisiana           </td> <td>4,668,960 </td> <td>4,681,666 </td> <td>63,570 </td> <td>45,030 </td> <td>-5,020   </td> <td>-814  </td>\n",
       "        </tr>\n",
       "        <tr>\n",
       "            <td>1     </td> <td>Maine               </td> <td>1,329,453 </td> <td>1,331,479 </td> <td>12,542 </td> <td>13,842 </td> <td>3,954    </td> <td>-628  </td>\n",
       "        </tr>\n",
       "        <tr>\n",
       "            <td>3     </td> <td>Maryland            </td> <td>5,994,983 </td> <td>6,016,447 </td> <td>73,321 </td> <td>50,036 </td> <td>176      </td> <td>-1,997</td>\n",
       "        </tr>\n",
       "        <tr>\n",
       "            <td>1     </td> <td>Massachusetts       </td> <td>6,784,240 </td> <td>6,811,779 </td> <td>72,024 </td> <td>57,563 </td> <td>15,292   </td> <td>-2,214</td>\n",
       "        </tr>\n",
       "        <tr>\n",
       "            <td>2     </td> <td>Michigan            </td> <td>9,917,715 </td> <td>9,928,300 </td> <td>113,437</td> <td>94,353 </td> <td>-5,328   </td> <td>-3,171</td>\n",
       "        </tr>\n",
       "        <tr>\n",
       "            <td>2     </td> <td>Minnesota           </td> <td>5,482,435 </td> <td>5,519,952 </td> <td>69,190 </td> <td>41,938 </td> <td>11,882   </td> <td>-1,617</td>\n",
       "        </tr>\n",
       "        <tr>\n",
       "            <td>3     </td> <td>Mississippi         </td> <td>2,989,390 </td> <td>2,988,726 </td> <td>37,880 </td> <td>31,006 </td> <td>-7,467   </td> <td>-71   </td>\n",
       "        </tr>\n",
       "        <tr>\n",
       "            <td>2     </td> <td>Missouri            </td> <td>6,076,204 </td> <td>6,093,000 </td> <td>74,423 </td> <td>58,723 </td> <td>2,163    </td> <td>-1,067</td>\n",
       "        </tr>\n",
       "        <tr>\n",
       "            <td>4     </td> <td>Montana             </td> <td>1,032,073 </td> <td>1,042,520 </td> <td>12,431 </td> <td>9,597  </td> <td>7,422    </td> <td>191   </td>\n",
       "        </tr>\n",
       "        <tr>\n",
       "            <td>2     </td> <td>Nebraska            </td> <td>1,893,765 </td> <td>1,907,116 </td> <td>26,553 </td> <td>15,355 </td> <td>2,043    </td> <td>110   </td>\n",
       "        </tr>\n",
       "        <tr>\n",
       "            <td>4     </td> <td>Nevada              </td> <td>2,883,758 </td> <td>2,940,058 </td> <td>36,462 </td> <td>23,771 </td> <td>41,967   </td> <td>1,642 </td>\n",
       "        </tr>\n",
       "        <tr>\n",
       "            <td>1     </td> <td>New Hampshire       </td> <td>1,330,111 </td> <td>1,334,795 </td> <td>12,274 </td> <td>11,572 </td> <td>4,362    </td> <td>-380  </td>\n",
       "        </tr>\n",
       "        <tr>\n",
       "            <td>1     </td> <td>New Jersey          </td> <td>8,935,421 </td> <td>8,944,469 </td> <td>102,166</td> <td>74,762 </td> <td>-16,704  </td> <td>-1,652</td>\n",
       "        </tr>\n",
       "        <tr>\n",
       "            <td>4     </td> <td>New Mexico          </td> <td>2,080,328 </td> <td>2,081,015 </td> <td>25,491 </td> <td>17,799 </td> <td>-7,111   </td> <td>106   </td>\n",
       "        </tr>\n",
       "        <tr>\n",
       "            <td>1     </td> <td>New York            </td> <td>19,747,183</td> <td>19,745,289</td> <td>236,507</td> <td>160,713</td> <td>-72,889  </td> <td>-4,799</td>\n",
       "        </tr>\n",
       "        <tr>\n",
       "            <td>3     </td> <td>North Carolina      </td> <td>10,035,186</td> <td>10,146,788</td> <td>120,778</td> <td>89,721 </td> <td>80,078   </td> <td>467   </td>\n",
       "        </tr>\n",
       "        <tr>\n",
       "            <td>2     </td> <td>North Dakota        </td> <td>756,835   </td> <td>757,952   </td> <td>11,824 </td> <td>6,172  </td> <td>-4,684   </td> <td>149   </td>\n",
       "        </tr>\n",
       "        <tr>\n",
       "            <td>2     </td> <td>Ohio                </td> <td>11,605,090</td> <td>11,614,373</td> <td>138,012</td> <td>115,938</td> <td>-7,967   </td> <td>-4,824</td>\n",
       "        </tr>\n",
       "        <tr>\n",
       "            <td>3     </td> <td>Oklahoma            </td> <td>3,907,414 </td> <td>3,923,561 </td> <td>53,175 </td> <td>39,588 </td> <td>2,894    </td> <td>-334  </td>\n",
       "        </tr>\n",
       "        <tr>\n",
       "            <td>4     </td> <td>Oregon              </td> <td>4,024,634 </td> <td>4,093,465 </td> <td>46,198 </td> <td>35,371 </td> <td>56,972   </td> <td>1,032 </td>\n",
       "        </tr>\n",
       "        <tr>\n",
       "            <td>1     </td> <td>Pennsylvania        </td> <td>12,791,904</td> <td>12,784,227</td> <td>140,897</td> <td>133,053</td> <td>-10,887  </td> <td>-4,634</td>\n",
       "        </tr>\n",
       "        <tr>\n",
       "            <td>1     </td> <td>Rhode Island        </td> <td>1,055,607 </td> <td>1,056,426 </td> <td>10,770 </td> <td>9,849  </td> <td>419      </td> <td>-521  </td>\n",
       "        </tr>\n",
       "        <tr>\n",
       "            <td>3     </td> <td>South Carolina      </td> <td>4,894,834 </td> <td>4,961,119 </td> <td>57,926 </td> <td>47,514 </td> <td>52,844   </td> <td>3,029 </td>\n",
       "        </tr>\n",
       "        <tr>\n",
       "            <td>2     </td> <td>South Dakota        </td> <td>857,919   </td> <td>865,454   </td> <td>12,114 </td> <td>7,296  </td> <td>2,573    </td> <td>144   </td>\n",
       "        </tr>\n",
       "        <tr>\n",
       "            <td>3     </td> <td>Tennessee           </td> <td>6,595,056 </td> <td>6,651,194 </td> <td>81,443 </td> <td>65,454 </td> <td>39,959   </td> <td>190   </td>\n",
       "        </tr>\n",
       "        <tr>\n",
       "            <td>3     </td> <td>Texas               </td> <td>27,429,639</td> <td>27,862,596</td> <td>404,533</td> <td>192,814</td> <td>217,542  </td> <td>3,696 </td>\n",
       "        </tr>\n",
       "        <tr>\n",
       "            <td>4     </td> <td>Utah                </td> <td>2,990,632 </td> <td>3,051,217 </td> <td>51,444 </td> <td>16,447 </td> <td>25,412   </td> <td>176   </td>\n",
       "        </tr>\n",
       "        <tr>\n",
       "            <td>1     </td> <td>Vermont             </td> <td>626,088   </td> <td>624,594   </td> <td>6,035  </td> <td>5,547  </td> <td>-1,910   </td> <td>-72   </td>\n",
       "        </tr>\n",
       "        <tr>\n",
       "            <td>3     </td> <td>Virginia            </td> <td>8,367,587 </td> <td>8,411,808 </td> <td>102,366</td> <td>66,558 </td> <td>7,202    </td> <td>1,211 </td>\n",
       "        </tr>\n",
       "        <tr>\n",
       "            <td>4     </td> <td>Washington          </td> <td>7,160,290 </td> <td>7,288,000 </td> <td>89,982 </td> <td>55,979 </td> <td>91,981   </td> <td>1,726 </td>\n",
       "        </tr>\n",
       "        <tr>\n",
       "            <td>3     </td> <td>West Virginia       </td> <td>1,841,053 </td> <td>1,831,102 </td> <td>19,799 </td> <td>22,479 </td> <td>-6,583   </td> <td>-688  </td>\n",
       "        </tr>\n",
       "        <tr>\n",
       "            <td>2     </td> <td>Wisconsin           </td> <td>5,767,891 </td> <td>5,778,708 </td> <td>66,079 </td> <td>49,823 </td> <td>-4,405   </td> <td>-1,034</td>\n",
       "        </tr>\n",
       "    </tbody>\n",
       "</table>\n",
       "<p>... (2 rows omitted)</p>"
      ],
      "text/plain": [
       "<IPython.core.display.HTML object>"
      ]
     },
     "metadata": {},
     "output_type": "display_data"
    }
   ],
   "source": [
    "# Don't change this cell; just run it.\n",
    "pop = Table.read_table('nst-est2016-alldata.csv').where('SUMLEV', 40).select([1, 4, 12, 13, 27, 34, 62, 69])\n",
    "pop = pop.relabeled('POPESTIMATE2015', '2015').relabeled('POPESTIMATE2016', '2016')\n",
    "pop = pop.relabeled('BIRTHS2016', 'BIRTHS').relabeled('DEATHS2016', 'DEATHS')\n",
    "pop = pop.relabeled('NETMIG2016', 'MIGRATION').relabeled('RESIDUAL2016', 'OTHER')\n",
    "pop.set_format([2, 3, 4, 5, 6, 7], NumberFormatter(decimals=0)).show(50)"
   ]
  },
  {
   "cell_type": "markdown",
   "metadata": {},
   "source": [
    "**Question 1.** Assign `us_birth_rate` to the total US annual birth rate during this time interval. The annual birth rate for a year-long period is the total number of births in that period as a proportion of the population size at the start of the time period.\n",
    "\n",
    "**Hint:** What year corresponds to the start of the time period?"
   ]
  },
  {
   "cell_type": "code",
   "execution_count": 35,
   "metadata": {},
   "outputs": [
    {
     "data": {
      "text/plain": [
       "4008736"
      ]
     },
     "execution_count": 35,
     "metadata": {},
     "output_type": "execute_result"
    }
   ],
   "source": [
    "us_birth_rate = np.sum(pop.column(\"BIRTHS\"))\n",
    "us_birth_rate"
   ]
  },
  {
   "cell_type": "markdown",
   "metadata": {},
   "source": [
    "**Question 2.** Assign `fastest_growth` to an array of the names of the five states with the fastest population growth rates in *descending order of growth rate*. We have first created a new version of the `pop` table, called `growth_rates`, which includes a column with the growth rate of each state. Making intermediate tables can improve the readability of the code and make it easier to follow when revisting at a later time. You can check the intermediate table by using tbl.show(5)."
   ]
  },
  {
   "cell_type": "code",
   "execution_count": 36,
   "metadata": {},
   "outputs": [
    {
     "data": {
      "text/html": [
       "<table border=\"1\" class=\"dataframe\">\n",
       "    <thead>\n",
       "        <tr>\n",
       "            <th>REGION</th> <th>NAME</th> <th>2015</th> <th>2016</th> <th>BIRTHS</th> <th>DEATHS</th> <th>MIGRATION</th> <th>OTHER</th> <th>Growth Rate</th>\n",
       "        </tr>\n",
       "    </thead>\n",
       "    <tbody>\n",
       "        <tr>\n",
       "            <td>4     </td> <td>Utah      </td> <td>2,990,632 </td> <td>3,051,217 </td> <td>51,444 </td> <td>16,447 </td> <td>25,412   </td> <td>176   </td> <td>0.0202583  </td>\n",
       "        </tr>\n",
       "        <tr>\n",
       "            <td>4     </td> <td>Nevada    </td> <td>2,883,758 </td> <td>2,940,058 </td> <td>36,462 </td> <td>23,771 </td> <td>41,967   </td> <td>1,642 </td> <td>0.0195231  </td>\n",
       "        </tr>\n",
       "        <tr>\n",
       "            <td>4     </td> <td>Idaho     </td> <td>1,652,828 </td> <td>1,683,140 </td> <td>22,792 </td> <td>12,496 </td> <td>18,869   </td> <td>1,147 </td> <td>0.0183395  </td>\n",
       "        </tr>\n",
       "        <tr>\n",
       "            <td>3     </td> <td>Florida   </td> <td>20,244,914</td> <td>20,612,439</td> <td>222,793</td> <td>201,485</td> <td>325,986  </td> <td>20,231</td> <td>0.0181539  </td>\n",
       "        </tr>\n",
       "        <tr>\n",
       "            <td>4     </td> <td>Washington</td> <td>7,160,290 </td> <td>7,288,000 </td> <td>89,982 </td> <td>55,979 </td> <td>91,981   </td> <td>1,726 </td> <td>0.0178359  </td>\n",
       "        </tr>\n",
       "    </tbody>\n",
       "</table>"
      ],
      "text/plain": [
       "REGION | NAME       | 2015       | 2016       | BIRTHS  | DEATHS  | MIGRATION | OTHER  | Growth Rate\n",
       "4      | Utah       | 2,990,632  | 3,051,217  | 51,444  | 16,447  | 25,412    | 176    | 0.0202583\n",
       "4      | Nevada     | 2,883,758  | 2,940,058  | 36,462  | 23,771  | 41,967    | 1,642  | 0.0195231\n",
       "4      | Idaho      | 1,652,828  | 1,683,140  | 22,792  | 12,496  | 18,869    | 1,147  | 0.0183395\n",
       "3      | Florida    | 20,244,914 | 20,612,439 | 222,793 | 201,485 | 325,986   | 20,231 | 0.0181539\n",
       "4      | Washington | 7,160,290  | 7,288,000  | 89,982  | 55,979  | 91,981    | 1,726  | 0.0178359"
      ]
     },
     "execution_count": 36,
     "metadata": {},
     "output_type": "execute_result"
    }
   ],
   "source": [
    "growth_rates = pop.with_column('Growth Rate', (pop.column(3) / pop.column(2)) - 1)\n",
    "fastest_growth = growth_rates.sort('Growth Rate', descending = True).take(range(5))\n",
    "fastest_growth"
   ]
  },
  {
   "cell_type": "markdown",
   "metadata": {},
   "source": [
    "**Question 3.** Assign `movers` to the number of states for which the **absolute value** of the **annual rate of migration** was higher than 1%. \n",
    "\n",
    "The annual rate of migration for a year-long period is the net number of migrations (in and out) as a proportion of the population size at the start of the period. \n",
    "\n",
    "The `MIGRATION` column contains estimated annual net migration counts by state."
   ]
  },
  {
   "cell_type": "code",
   "execution_count": 52,
   "metadata": {},
   "outputs": [
    {
     "data": {
      "text/html": [
       "<table border=\"1\" class=\"dataframe\">\n",
       "    <thead>\n",
       "        <tr>\n",
       "            <th>REGION</th> <th>NAME</th> <th>2015</th> <th>2016</th> <th>BIRTHS</th> <th>DEATHS</th> <th>MIGRATION</th> <th>OTHER</th> <th>Migration Rate</th>\n",
       "        </tr>\n",
       "    </thead>\n",
       "    <tbody>\n",
       "        <tr>\n",
       "            <td>3     </td> <td>Florida       </td> <td>20,244,914</td> <td>20,612,439</td> <td>222,793</td> <td>201,485</td> <td>325,986  </td> <td>20,231</td> <td>0.0161021     </td>\n",
       "        </tr>\n",
       "        <tr>\n",
       "            <td>4     </td> <td>Nevada        </td> <td>2,883,758 </td> <td>2,940,058 </td> <td>36,462 </td> <td>23,771 </td> <td>41,967   </td> <td>1,642 </td> <td>0.0145529     </td>\n",
       "        </tr>\n",
       "        <tr>\n",
       "            <td>4     </td> <td>Oregon        </td> <td>4,024,634 </td> <td>4,093,465 </td> <td>46,198 </td> <td>35,371 </td> <td>56,972   </td> <td>1,032 </td> <td>0.0141558     </td>\n",
       "        </tr>\n",
       "        <tr>\n",
       "            <td>4     </td> <td>Washington    </td> <td>7,160,290 </td> <td>7,288,000 </td> <td>89,982 </td> <td>55,979 </td> <td>91,981   </td> <td>1,726 </td> <td>0.012846      </td>\n",
       "        </tr>\n",
       "        <tr>\n",
       "            <td>4     </td> <td>Idaho         </td> <td>1,652,828 </td> <td>1,683,140 </td> <td>22,792 </td> <td>12,496 </td> <td>18,869   </td> <td>1,147 </td> <td>0.0114162     </td>\n",
       "        </tr>\n",
       "        <tr>\n",
       "            <td>4     </td> <td>Arizona       </td> <td>6,817,565 </td> <td>6,931,071 </td> <td>87,204 </td> <td>56,564 </td> <td>76,405   </td> <td>6,461 </td> <td>0.0112071     </td>\n",
       "        </tr>\n",
       "        <tr>\n",
       "            <td>4     </td> <td>Colorado      </td> <td>5,448,819 </td> <td>5,540,545 </td> <td>67,453 </td> <td>37,121 </td> <td>60,773   </td> <td>621   </td> <td>0.0111534     </td>\n",
       "        </tr>\n",
       "        <tr>\n",
       "            <td>3     </td> <td>South Carolina</td> <td>4,894,834 </td> <td>4,961,119 </td> <td>57,926 </td> <td>47,514 </td> <td>52,844   </td> <td>3,029 </td> <td>0.0107959     </td>\n",
       "        </tr>\n",
       "    </tbody>\n",
       "</table>"
      ],
      "text/plain": [
       "REGION | NAME           | 2015       | 2016       | BIRTHS  | DEATHS  | MIGRATION | OTHER  | Migration Rate\n",
       "3      | Florida        | 20,244,914 | 20,612,439 | 222,793 | 201,485 | 325,986   | 20,231 | 0.0161021\n",
       "4      | Nevada         | 2,883,758  | 2,940,058  | 36,462  | 23,771  | 41,967    | 1,642  | 0.0145529\n",
       "4      | Oregon         | 4,024,634  | 4,093,465  | 46,198  | 35,371  | 56,972    | 1,032  | 0.0141558\n",
       "4      | Washington     | 7,160,290  | 7,288,000  | 89,982  | 55,979  | 91,981    | 1,726  | 0.012846\n",
       "4      | Idaho          | 1,652,828  | 1,683,140  | 22,792  | 12,496  | 18,869    | 1,147  | 0.0114162\n",
       "4      | Arizona        | 6,817,565  | 6,931,071  | 87,204  | 56,564  | 76,405    | 6,461  | 0.0112071\n",
       "4      | Colorado       | 5,448,819  | 5,540,545  | 67,453  | 37,121  | 60,773    | 621    | 0.0111534\n",
       "3      | South Carolina | 4,894,834  | 4,961,119  | 57,926  | 47,514  | 52,844    | 3,029  | 0.0107959"
      ]
     },
     "execution_count": 52,
     "metadata": {},
     "output_type": "execute_result"
    }
   ],
   "source": [
    "migration_rates = pop.with_column('Migration Rate', (pop.column(\"MIGRATION\") / pop.column(\"2015\"))).sort(\"Migration Rate\", descending = True)\n",
    "movers = migration_rates.where(migration_rates.column(\"Migration Rate\")>0.01)\n",
    "movers"
   ]
  },
  {
   "cell_type": "markdown",
   "metadata": {},
   "source": [
    "**Question 4.** Assign `west_births` to the total number of births that occurred in region 4 (the Western US). \n",
    "\n",
    "**Hint:** Make sure you double check the type of the values in the region column."
   ]
  },
  {
   "cell_type": "code",
   "execution_count": 106,
   "metadata": {},
   "outputs": [
    {
     "data": {
      "text/plain": [
       "979657"
      ]
     },
     "execution_count": 106,
     "metadata": {},
     "output_type": "execute_result"
    }
   ],
   "source": [
    "west_births = np.sum(pop.where(pop.column(\"REGION\")==\"4\").column(\"BIRTHS\"))\n",
    "west_births"
   ]
  },
  {
   "cell_type": "markdown",
   "metadata": {},
   "source": [
    "**Question 5.** Assign `less_than_west_births` to the number of states that had a total population in 2016 that was smaller than the *total number of births in region 4 (the Western US)* during this time interval."
   ]
  },
  {
   "cell_type": "code",
   "execution_count": 115,
   "metadata": {},
   "outputs": [
    {
     "data": {
      "text/plain": [
       "7"
      ]
     },
     "execution_count": 115,
     "metadata": {},
     "output_type": "execute_result"
    }
   ],
   "source": [
    "less_than_west_births = sum(pop.column(\"2016\")<west_births)\n",
    "less_than_west_births"
   ]
  },
  {
   "cell_type": "markdown",
   "metadata": {},
   "source": [
    "**Question 6.** \n",
    "\n",
    "In the code cell below, create a visualization that will help us determine if there is an association between birth rate and death rate during this time interval. It may be helpful to create an intermediate table here."
   ]
  },
  {
   "cell_type": "code",
   "execution_count": 131,
   "metadata": {},
   "outputs": [
    {
     "data": {
      "image/png": "[encoded data removed]",
      "text/plain": [
       "<Figure size 500x500 with 1 Axes>"
      ]
     },
     "metadata": {},
     "output_type": "display_data"
    }
   ],
   "source": [
    "# Generate your chart in this cell\n",
    "birth_and_death_rate = Table().with_columns(\"Name\", pop.column(\"NAME\"), \"Birth Rate\", pop.column(\"BIRTHS\")/pop.column(\"2016\"), \"Death Rate\", pop.column(\"DEATHS\")/pop.column(\"2016\"))\n",
    "birth_and_death_rate.scatter(\"Birth Rate\", \"Death Rate\")"
   ]
  },
  {
   "cell_type": "markdown",
   "metadata": {},
   "source": [
    "## 4. Marginal Histograms\n"
   ]
  },
  {
   "cell_type": "markdown",
   "metadata": {},
   "source": [
    "Consider the following scatter plot: ![](scatter.png)\n",
    "\n",
    "The axes of the plot represent values of two variables: $x$ and $y$. "
   ]
  },
  {
   "cell_type": "markdown",
   "metadata": {},
   "source": [
    "Suppose we have a table called `t` that has two columns in it:\n",
    "\n",
    "- `x`: a column containing the x-values of the points in the scatter plot\n",
    "- `y`: a column containing the y-values of the points in the scatter plot"
   ]
  },
  {
   "cell_type": "markdown",
   "metadata": {},
   "source": [
    "**Question 1:** Match each of the following histograms to the code that produced them. Explain your reasoning."
   ]
  },
  {
   "cell_type": "markdown",
   "metadata": {},
   "source": [
    "**Histogram A:** ![](var1.png)\n",
    "\n",
    "**Histogram B:** ![](var2.png)"
   ]
  },
  {
   "attachments": {},
   "cell_type": "markdown",
   "metadata": {
    "deletable": false,
    "for_assignment_type": "student",
    "manual_problem_id": "hist_x"
   },
   "source": [
    "**Line 1:** `t.hist('x')`\n",
    "\n",
    "**HistogramB for Line 1:**\n",
    "\n",
    "**Explanation:**\n",
    "Because the range of x-values is -2 to 3 and there are no y-values equal to zero"
   ]
  },
  {
   "attachments": {},
   "cell_type": "markdown",
   "metadata": {
    "deletable": false,
    "for_assignment_type": "student",
    "manual_problem_id": "hist_y"
   },
   "source": [
    "**Line 2:** `t.hist('y')`\n",
    "\n",
    "**HistogramA for Line 2:**\n",
    "\n",
    "**Explanation:**\n",
    "Because the y-values have to high points at approximately -1 and 1 and an assymptote at 0"
   ]
  },
  {
   "cell_type": "markdown",
   "metadata": {},
   "source": [
    "## 5. Working with Text using Functions\n"
   ]
  },
  {
   "cell_type": "markdown",
   "metadata": {},
   "source": [
    "The following table contains the words from four chapters of Charles Dickens' [*A Tale of Two Cities*](http://www.gutenberg.org/cache/epub/98/pg98.txt).  We're going to compute some simple facts about each chapter.  Since we're performing the same computation on each chapter, it's best to encapsulate each computational procedure in a function, and then call the function several times. Run the cell to get a table with one column."
   ]
  },
  {
   "cell_type": "code",
   "execution_count": 132,
   "metadata": {},
   "outputs": [
    {
     "data": {
      "text/html": [
       "<table border=\"1\" class=\"dataframe\">\n",
       "    <thead>\n",
       "        <tr>\n",
       "            <th>Chapter text</th>\n",
       "        </tr>\n",
       "    </thead>\n",
       "    <tbody>\n",
       "        <tr>\n",
       "            <td>I. The Period\n",
       "\n",
       "\n",
       "It was the best of times,\n",
       "it was the wor ...</td>\n",
       "        </tr>\n",
       "        <tr>\n",
       "            <td>II. The Mail\n",
       "\n",
       "\n",
       "It was the Dover road that lay, on a Frid ...</td>\n",
       "        </tr>\n",
       "        <tr>\n",
       "            <td>III. The Night Shadows\n",
       "\n",
       "\n",
       "A wonderful fact to reflect upo ...</td>\n",
       "        </tr>\n",
       "        <tr>\n",
       "            <td>IV. The Preparation\n",
       "\n",
       "\n",
       "When the mail got successfully to  ...</td>\n",
       "        </tr>\n",
       "    </tbody>\n",
       "</table>"
      ],
      "text/plain": [
       "Chapter text\n",
       "I. The Period\n",
       "\n",
       "\n",
       "It was the best of times,\n",
       "it was the wor ...\n",
       "II. The Mail\n",
       "\n",
       "\n",
       "It was the Dover road that lay, on a Frid ...\n",
       "III. The Night Shadows\n",
       "\n",
       "\n",
       "A wonderful fact to reflect upo ...\n",
       "IV. The Preparation\n",
       "\n",
       "\n",
       "When the mail got successfully to  ..."
      ]
     },
     "execution_count": 132,
     "metadata": {},
     "output_type": "execute_result"
    }
   ],
   "source": [
    "# Just run this cell to load the data.\n",
    "tale_chapters = Table.read_table(\"tale.csv\")\n",
    "tale_chapters"
   ]
  },
  {
   "cell_type": "markdown",
   "metadata": {},
   "source": [
    "**Question 1.** Write a function called `word_count` that takes a single argument, the text of a single chapter, and returns the number of words in that chapter.  Assume that words are separated from each other by spaces. \n",
    "\n",
    "*Hint:* Try the string method [`split`](https://docs.python.org/3/library/stdtypes.html#str.split) and the function [`len`](https://docs.python.org/3/library/functions.html#len)."
   ]
  },
  {
   "cell_type": "code",
   "execution_count": 133,
   "metadata": {},
   "outputs": [
    {
     "data": {
      "text/plain": [
       "1005"
      ]
     },
     "execution_count": 133,
     "metadata": {},
     "output_type": "execute_result"
    }
   ],
   "source": [
    "def word_count(text):\n",
    "    return len(text.split())\n",
    "\n",
    "word_count(tale_chapters.column(\"Chapter text\").item(0))"
   ]
  },
  {
   "cell_type": "markdown",
   "metadata": {},
   "source": [
    "**Question 2.** Create an array called `chapter_lengths` which contains the length of each chapter in `tale_chapters`.\n",
    "\n",
    "**Hint:** Consider using `apply` along with the function you have defined in the previous question."
   ]
  },
  {
   "cell_type": "code",
   "execution_count": 134,
   "metadata": {},
   "outputs": [
    {
     "data": {
      "text/plain": [
       "array([1005, 2016, 1613, 4382])"
      ]
     },
     "execution_count": 134,
     "metadata": {},
     "output_type": "execute_result"
    }
   ],
   "source": [
    "chapter_lengths = tale_chapters.apply(word_count, \"Chapter text\")\n",
    "chapter_lengths"
   ]
  },
  {
   "cell_type": "markdown",
   "metadata": {},
   "source": [
    "**Question 3.** Write a function called `character_count`.  It should take a string as its argument and return the number of characters in that string that aren't spaces (\" \"), periods (\".\"), exclamation marks (\"!\"), or question marks (\"?\"). \n",
    "\n",
    "*Hint:* Try using the string method `replace` several times to remove the characters we don't want to count."
   ]
  },
  {
   "cell_type": "code",
   "execution_count": 135,
   "metadata": {},
   "outputs": [],
   "source": [
    "def character_count(string):\n",
    "    return len(string.replace(\" \", \"\").replace(\".\", \"\").replace(\"!\", \"\").replace(\"?\", \"\"))"
   ]
  },
  {
   "cell_type": "markdown",
   "metadata": {},
   "source": [
    "**Question 4.** Write a function called `chapter_number`.  It should take a single argument, the text of a chapter from our dataset, and return the number of that chapter, as a Roman numeral.  (For example, it should return the string \"I\" for the first chapter and \"II\" for the second.)  If the argument doesn't have a chapter number in the same place as the chapters in our dataset, `chapter_number` can return whatever you like.\n",
    "\n",
    "To help you with this, we've included a function called `text_before`.  Its documentation describes what it does.\n",
    "\n",
    "*Note*: This process of using a function to call another function to reduce the total number of arguments is called \"currying\". Notice how `text_before` takes two arguments, but your `chapter_number` function only takes one argument."
   ]
  },
  {
   "cell_type": "code",
   "execution_count": 147,
   "metadata": {},
   "outputs": [
    {
     "data": {
      "text/plain": [
       "'I'"
      ]
     },
     "execution_count": 147,
     "metadata": {},
     "output_type": "execute_result"
    }
   ],
   "source": [
    "def text_before(full_text, pattern):\n",
    "    \"\"\"Finds all the text that occurs in full_text before the specified pattern.\n",
    "\n",
    "    Parameters\n",
    "    ----------\n",
    "    full_text : str\n",
    "        The text we want to search within.\n",
    "    pattern : str\n",
    "        The thing we want to search for.\n",
    "\n",
    "    Returns\n",
    "    -------\n",
    "    str\n",
    "        All the text that occurs in full_text before pattern.  If pattern\n",
    "        doesn't appear anywhere, all of full_text is returned.\n",
    "    \n",
    "    Examples\n",
    "    --------\n",
    "    \n",
    "    >>> text_before(\"The rain in Spain falls mainly on the plain.\", \"Spain\")\n",
    "    'The rain in '\n",
    "    >>> text_before(\"The rain in Spain falls mainly on the plain.\", \"ain\")\n",
    "    'The r'\n",
    "    >>> text_before(\"The rain in Spain falls mainly on the plain.\", \"Portugal\")\n",
    "    'The rain in Spain falls mainly on the plain.'\n",
    "    \"\"\"\n",
    "    return np.array(full_text.split(pattern)).item(0)"
   ]
  },
  {
   "cell_type": "code",
   "execution_count": 152,
   "metadata": {},
   "outputs": [
    {
     "ename": "IndexError",
     "evalue": "index 4 is out of bounds for axis 0 with size 4",
     "output_type": "error",
     "traceback": [
      "\u001b[0;31m---------------------------------------------------------------------------\u001b[0m",
      "\u001b[0;31mIndexError\u001b[0m                                Traceback (most recent call last)",
      "\u001b[0;32m/var/folders/wf/xv73h74d6t185xgzct38jv400000gn/T/ipykernel_19209/3298859499.py\u001b[0m in \u001b[0;36m<module>\u001b[0;34m\u001b[0m\n\u001b[1;32m      2\u001b[0m     \u001b[0;32mreturn\u001b[0m \u001b[0mtext_before\u001b[0m\u001b[0;34m(\u001b[0m\u001b[0mchapter_text\u001b[0m\u001b[0;34m,\u001b[0m \u001b[0;34m\". The \"\u001b[0m\u001b[0;34m)\u001b[0m\u001b[0;34m\u001b[0m\u001b[0;34m\u001b[0m\u001b[0m\n\u001b[1;32m      3\u001b[0m \u001b[0;34m\u001b[0m\u001b[0m\n\u001b[0;32m----> 4\u001b[0;31m \u001b[0mchapter_number\u001b[0m\u001b[0;34m(\u001b[0m\u001b[0mtale_chapters\u001b[0m\u001b[0;34m.\u001b[0m\u001b[0mcolumn\u001b[0m\u001b[0;34m(\u001b[0m\u001b[0;34m\"Chapter text\"\u001b[0m\u001b[0;34m)\u001b[0m\u001b[0;34m.\u001b[0m\u001b[0mitem\u001b[0m\u001b[0;34m(\u001b[0m\u001b[0;36m4\u001b[0m\u001b[0;34m)\u001b[0m\u001b[0;34m)\u001b[0m\u001b[0;34m\u001b[0m\u001b[0;34m\u001b[0m\u001b[0m\n\u001b[0m",
      "\u001b[0;31mIndexError\u001b[0m: index 4 is out of bounds for axis 0 with size 4"
     ]
    }
   ],
   "source": [
    "def chapter_number(chapter_text):\n",
    "    return text_before(chapter_text, \". The \")\n",
    "\n",
    "chapter_number(tale_chapters.column(\"Chapter text\").item(0))"
   ]
  },
  {
   "cell_type": "markdown",
   "metadata": {},
   "source": [
    "## 6. Uber\n"
   ]
  },
  {
   "cell_type": "markdown",
   "metadata": {},
   "source": [
    "Below we load tables containing 200,000 weekday Uber rides in the Manila, Philippines, and Boston, Massachusetts metropolitan areas from the [Uber Movement](https://movement.uber.com) project. The `sourceid` and `dstid` columns contain codes corresponding to start and end locations of each ride. The `hod` column contains codes corresponding to the hour of the day the ride took place. The `ride time` table contains the length of the ride, in minutes."
   ]
  },
  {
   "cell_type": "code",
   "execution_count": 153,
   "metadata": {
    "for_question_type": "solution",
    "scrolled": true
   },
   "outputs": [
    {
     "name": "stdout",
     "output_type": "stream",
     "text": [
      "Boston Table\n"
     ]
    },
    {
     "data": {
      "text/html": [
       "<table border=\"1\" class=\"dataframe\">\n",
       "    <thead>\n",
       "        <tr>\n",
       "            <th>sourceid</th> <th>dstid</th> <th>hod</th> <th>ride time</th>\n",
       "        </tr>\n",
       "    </thead>\n",
       "    <tbody>\n",
       "        <tr>\n",
       "            <td>584     </td> <td>33   </td> <td>7   </td> <td>11.866   </td>\n",
       "        </tr>\n",
       "        <tr>\n",
       "            <td>1013    </td> <td>1116 </td> <td>13  </td> <td>17.7993  </td>\n",
       "        </tr>\n",
       "        <tr>\n",
       "            <td>884     </td> <td>1190 </td> <td>22  </td> <td>19.3488  </td>\n",
       "        </tr>\n",
       "        <tr>\n",
       "            <td>211     </td> <td>364  </td> <td>1   </td> <td>1.7235   </td>\n",
       "        </tr>\n",
       "    </tbody>\n",
       "</table>\n",
       "<p>... (199996 rows omitted)</p>"
      ],
      "text/plain": [
       "<IPython.core.display.HTML object>"
      ]
     },
     "metadata": {},
     "output_type": "display_data"
    },
    {
     "name": "stdout",
     "output_type": "stream",
     "text": [
      "Manila Table\n"
     ]
    },
    {
     "data": {
      "text/html": [
       "<table border=\"1\" class=\"dataframe\">\n",
       "    <thead>\n",
       "        <tr>\n",
       "            <th>sourceid</th> <th>dstid</th> <th>hod</th> <th>ride time</th>\n",
       "        </tr>\n",
       "    </thead>\n",
       "    <tbody>\n",
       "        <tr>\n",
       "            <td>544     </td> <td>5    </td> <td>22  </td> <td>22.8115  </td>\n",
       "        </tr>\n",
       "        <tr>\n",
       "            <td>302     </td> <td>240  </td> <td>21  </td> <td>7.02267  </td>\n",
       "        </tr>\n",
       "        <tr>\n",
       "            <td>278     </td> <td>99   </td> <td>16  </td> <td>21.6437  </td>\n",
       "        </tr>\n",
       "        <tr>\n",
       "            <td>720     </td> <td>775  </td> <td>18  </td> <td>13.0597  </td>\n",
       "        </tr>\n",
       "    </tbody>\n",
       "</table>\n",
       "<p>... (199996 rows omitted)</p>"
      ],
      "text/plain": [
       "<IPython.core.display.HTML object>"
      ]
     },
     "metadata": {},
     "output_type": "display_data"
    }
   ],
   "source": [
    "boston = Table.read_table(\"boston.csv\")\n",
    "manila = Table.read_table(\"manila.csv\")\n",
    "print(\"Boston Table\")\n",
    "boston.show(4)\n",
    "print(\"Manila Table\")\n",
    "manila.show(4)"
   ]
  },
  {
   "cell_type": "markdown",
   "metadata": {},
   "source": [
    "**Question 1.**\n",
    "Produce histograms of all ride times in Boston and in Manila, using the given bins. Please put the code for both of them in the following cell, and put the ride times for Boston first. Make sure they use the same bins and that you are using density on the y-axis.\n",
    "\n",
    "*Bonus*: Practice using matplotlib to make these graphs!"
   ]
  },
  {
   "cell_type": "code",
   "execution_count": 199,
   "metadata": {},
   "outputs": [
    {
     "data": {
      "text/plain": [
       "(0.0, 130.0)"
      ]
     },
     "execution_count": 199,
     "metadata": {},
     "output_type": "execute_result"
    },
    {
     "data": {
      "image/png": "[encoded data removed]",
      "text/plain": [
       "<Figure size 640x480 with 2 Axes>"
      ]
     },
     "metadata": {},
     "output_type": "display_data"
    }
   ],
   "source": [
    "bins = np.arange(0, 120, 5)\n",
    "plots.subplot(1, 2, 1) # row 1, col 2 index 1\n",
    "plots.hist(boston.column(\"ride time\"), bins = bins, density=True)\n",
    "plots.title(\"Boston\")\n",
    "plots.xlabel(\"Ride time in min\")\n",
    "plots.subplot(1, 2, 2) # row 1, col 2 index 1\n",
    "plots.hist(manila.column(\"ride time\"), bins = bins, density=True)\n",
    "plots.title(\"Manila\")\n",
    "plots.xlabel(\"Ride time in min\")\n",
    "ax = plots.gca()\n",
    "ax.set_ylim([0, 0.05])\n",
    "ax.set_xlim([0, 130])\n"
   ]
  },
  {
   "cell_type": "markdown",
   "metadata": {},
   "source": [
    "**Question 2.** Set the two variables below to estimates of what percentage of rides are less than 10 minutes in Boston and Manila. Find your estimates by visually assessing the histograms. \n",
    "\n",
    "Show your work - your solution should consist of only mathematical operations and numbers."
   ]
  },
  {
   "cell_type": "code",
   "execution_count": 215,
   "metadata": {},
   "outputs": [
    {
     "data": {
      "text/plain": [
       "0.22829"
      ]
     },
     "execution_count": 215,
     "metadata": {},
     "output_type": "execute_result"
    }
   ],
   "source": [
    "boston_under_10 = len(boston.where(boston.column(\"ride time\")<10).column(\"ride time\"))/len(boston.column(\"ride time\"))\n",
    "manila_under_10 = len(manila.where(manila.column(\"ride time\")<10).column(\"ride time\"))/len(manila.column(\"ride time\"))\n"
   ]
  },
  {
   "cell_type": "markdown",
   "metadata": {},
   "source": [
    "**Question 3.** Comment on the main difference between the two histograms. What might be causing this?"
   ]
  },
  {
   "attachments": {},
   "cell_type": "markdown",
   "metadata": {
    "deletable": false,
    "for_assignment_type": "student",
    "manual_problem_id": "uber_3"
   },
   "source": [
    "The main difference is that the ride times in manila are much more wide spread, Boston rides tend to be shorter than in Manila. This might be due to population density and the cost of a ride."
   ]
  },
  {
   "cell_type": "markdown",
   "metadata": {},
   "source": [
    "**Question 4.** The `hod` column in each table represents the hour of the day during which the Uber was called. 0 corresponds to 12-1 AM, 1 to 1-2 AM, 13 to 1-2 PM, etc. \n",
    "\n",
    "Write a function which takes in a table like `boston` or `manila`, and an `hod` number between 0 and 23, and displays a histogram of ride lengths from that hour in that city. Use the same bins as before and assume that the table passed into the `tbl` argument has the same columns as `boston` or `manila`."
   ]
  },
  {
   "cell_type": "code",
   "execution_count": 224,
   "metadata": {},
   "outputs": [
    {
     "data": {
      "image/png": "[encoded data removed]",
      "text/plain": [
       "<Figure size 600x400 with 1 Axes>"
      ]
     },
     "metadata": {},
     "output_type": "display_data"
    },
    {
     "data": {
      "image/png": "[encoded data removed]",
      "text/plain": [
       "<Figure size 600x400 with 1 Axes>"
      ]
     },
     "metadata": {},
     "output_type": "display_data"
    },
    {
     "data": {
      "image/png": "[encoded data removed]",
      "text/plain": [
       "<Figure size 600x400 with 1 Axes>"
      ]
     },
     "metadata": {},
     "output_type": "display_data"
    },
    {
     "data": {
      "image/png": "[encoded data removed]",
      "text/plain": [
       "<Figure size 600x400 with 1 Axes>"
      ]
     },
     "metadata": {},
     "output_type": "display_data"
    }
   ],
   "source": [
    "def hist_for_time(tbl, hod):\n",
    "    bins = np.arange(0, 120, 5)\n",
    "    tbl = tbl.where(tbl.column(\"hod\") == hod)\n",
    "    tbl.hist(\"ride time\", bins = bins, density=True)\n",
    "\n",
    "#DO NOT DELETE THIS LINE! \n",
    "hist_for_time(boston, 10)\n",
    "hist_for_time(boston, 22)\n",
    "hist_for_time(manila, 10)\n",
    "hist_for_time(manila, 22)"
   ]
  },
  {
   "cell_type": "markdown",
   "metadata": {},
   "source": [
    "**Question 5.** Which city has a larger difference between Uber ride times at 10 AM vs. 10 PM? In other words, which is larger: the difference between 10 AM and 10 PM Uber ride times in Manila or the difference between 10 AM and 10 PM uber ride times in Boston. Use the function you just created to answer this question. You do not need to calculate an actual difference.\n",
    "\n",
    "Assign `larger_diff` to the number 1 if the answer is Manila, and 2 if the answer is Boston. "
   ]
  },
  {
   "cell_type": "code",
   "execution_count": null,
   "metadata": {
    "deletable": false,
    "for_assignment_type": "student",
    "manual_problem_id": "manual_grading"
   },
   "outputs": [],
   "source": [
    "larger_diff = 1"
   ]
  },
  {
   "cell_type": "markdown",
   "metadata": {},
   "source": [
    "## 7. Submission\n"
   ]
  },
  {
   "cell_type": "markdown",
   "metadata": {},
   "source": [
    "To submit your assignment, please download your notebook as a .ipynb file and submit to Canvas. You can do so by navigating to the toolbar at the top of this page, clicking File > Download as... > Notebook (.ipynb) or HTML (.html). Then, upload your files under \"Assignment 2\" on Canvas."
   ]
  }
 ],
 "metadata": {
  "assignment": "hw03",
  "celltoolbar": "Edit Metadata",
  "course": "SJCC",
  "kernelspec": {
   "display_name": "base",
   "language": "python",
   "name": "python3"
  },
  "language_info": {
   "codemirror_mode": {
    "name": "ipython",
    "version": 3
   },
   "file_extension": ".py",
   "mimetype": "text/x-python",
   "name": "python",
   "nbconvert_exporter": "python",
   "pygments_lexer": "ipython3",
   "version": "3.9.13"
  },
  "section": "1",
  "vscode": {
   "interpreter": {
    "hash": "99a39fdea343db6387cd32c1c7750babb393722c184595cc643f29f053bc7c5b"
   }
  }
 },
 "nbformat": 4,
 "nbformat_minor": 4
}
