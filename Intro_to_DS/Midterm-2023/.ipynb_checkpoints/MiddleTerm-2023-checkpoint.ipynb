{
 "cells": [
  {
   "cell_type": "markdown",
   "id": "06d9fc92",
   "metadata": {},
   "source": [
    "# YSC2239 Midterm Spring 2023"
   ]
  },
  {
   "cell_type": "markdown",
   "id": "af96ada1",
   "metadata": {},
   "source": [
    "### This exam consists of 3 questions.\n",
    "\n",
    "### Time: March 2nd 7:05pm - 8:25pm (No submission will be accepted after the deadline)\n",
    "\n",
    "### Venue:  Science Centre Classroom 17 at Yale-NUS College"
   ]
  },
  {
   "cell_type": "markdown",
   "id": "2d150f48",
   "metadata": {},
   "source": [
    "## Table of Contents\n",
    "\n",
    "### [1. Tennis serving strategy (40 points)](#q1)\n",
    "\n",
    "### [2. Testing hypotheses (40 points)](#q2)\n",
    "\n",
    "### [3. Housing price vs fertility rate (20 points)](#q3)\n",
    "\n"
   ]
  },
  {
   "cell_type": "markdown",
   "id": "ba7d5eb6",
   "metadata": {},
   "source": [
    "For all problems that you must write explanations and sentences for, you must provide your answer in the designated space. Moreover, please be sure to not re-assign variables throughout the notebook! For example, if you use max_value in your answer to one question, do not reassign it later on. Otherwise, you may fail the test!"
   ]
  },
  {
   "cell_type": "code",
   "execution_count": 1,
   "id": "fbae9d94",
   "metadata": {},
   "outputs": [],
   "source": [
    "# Run this cell, but please don't change it.\n",
    "\n",
    "# These lines import the Numpy and Datascience modules.\n",
    "import numpy as np\n",
    "import random\n",
    "from datascience import *\n",
    "\n",
    "# These lines do some fancy plotting magic.\n",
    "import matplotlib\n",
    "%matplotlib inline\n",
    "import matplotlib.pyplot as plots\n",
    "plots.style.use('fivethirtyeight')\n",
    "import warnings\n",
    "warnings.simplefilter('ignore', FutureWarning)"
   ]
  },
  {
   "cell_type": "markdown",
   "id": "d95bccac",
   "metadata": {},
   "source": [
    "### 1. Tennis serving strategy (40 points) <a id='q1'></a>"
   ]
  },
  {
   "cell_type": "markdown",
   "id": "687a7a21",
   "metadata": {},
   "source": [
    "Data, analytics, and machine learning have become ubiquitous around sports over the past decade or so. One of the values of sports analytics is in opposition scouting, for example what an optimal strategy might look like. Today we are going to analyse the serving stragegy in tennis sport (Please refer to the [link](https://www.keithprowse.co.uk/news-and-blog/2019/01/02/tennis-terminology-explained/) on Essential terminology of tennis sport). \n",
    "\n",
    "In tennis, the player serving the ball has an advantage because they are able to start the **point** — giving them strategic choices like where to place the ball and what type of spin to hit with. The serve is also one of the fastest shots in tennis. Not only that, but the server gets two chances at their serve in case they miss the first. So first serves are typically hit with the intent to give the server a strong advantage. They are powerful and sometimes erratic, but the server can take some risk because there is always a second chance with the second serve. As second serves have no such safety net, they are by and large delivered with more caution. \n",
    "\n",
    "Most players, amateur and professional, employ two different serves: players typically use their first serve to play a ball faster and into tighter, more advantageous windows, such as out wide or down the center of the “T,” where the service boxes meet. The point is to gain an advantage by forcing a weak return, pushing the opponent into an undesirable court position, or winning the point uncontested through an **ace**. The second serve, then, is typically played more safely. Players tend to use play a slower ball into windows with a higher margin for error. The player will still attempt to gain an advantage by controlling the opponent’s court position, but the advantage tends to be smaller than on a successful first serve.\n",
    "\n",
    "The strategy for players comes down to maximizing their chance of winning a point on serve. Let's call this `p_Won`. To get the explicit formula we need a few more quantities:\n",
    "\n",
    "`p_1stIn` : the probability of first serve landing it in,\n",
    "\n",
    "`p_1stWon`: the probability of winning on first serve given that it lands in. \n",
    "\n",
    "Similarly, `p_2ndIn` and `p_2ndWon` be the corresponding probabilities on the second serve. Note by assigning an initial random value to these names, we are just declaring these variables in Python. The values of these variables can be updated."
   ]
  },
  {
   "cell_type": "code",
   "execution_count": 2,
   "id": "12d0d156",
   "metadata": {},
   "outputs": [],
   "source": [
    "# Don't change this cell; just run it\n",
    "p_1stIn = random.random()\n",
    "p_1stWon = random.random()\n",
    "p_2ndIn = random.random()\n",
    "p_2ndWon = random.random()"
   ]
  },
  {
   "cell_type": "markdown",
   "id": "3e45c967",
   "metadata": {},
   "source": [
    "Question 1.1 What is a player’s winning probability `p_Won` when serving? (5 points)"
   ]
  },
  {
   "cell_type": "code",
   "execution_count": null,
   "id": "87370efd",
   "metadata": {},
   "outputs": [],
   "source": [
    "#Answer_to_Question 1.1 \n",
    "p_Won = ...\n",
    "p_Won"
   ]
  },
  {
   "cell_type": "markdown",
   "id": "be25c634",
   "metadata": {},
   "source": [
    "Question 1.2 Here is the average statistics on Top 50 men's player. They win 73.6 percent of service points when the first serve lands in, compared to 57.5 percent when the second serve lands in. But first serve lands in just 61.9 percent of the time, compared to 91.1 percent of second serves. So what is the winning probability for the average player (denoted by `p_ave_Won`)? Show your calculation formula (5 points)"
   ]
  },
  {
   "cell_type": "code",
   "execution_count": null,
   "id": "16d6a30d",
   "metadata": {},
   "outputs": [],
   "source": [
    "#Answer_to_Question 1.2\n",
    "p_ave_Won = ...\n",
    "p_ave_Won"
   ]
  },
  {
   "cell_type": "markdown",
   "id": "d663e608",
   "metadata": {},
   "source": [
    "Question 1.3 Even for great players, risk control isn’t always easy. Sometimes the control of the second serve can get so out of whack that they are better off sticking with their first serve. So two-first-serve strategy is an alternative option in tennis. What is a player's winning probability  when serving using two-first-serve strategy (denoted by `p_Won_alt`)? (5 points)"
   ]
  },
  {
   "cell_type": "code",
   "execution_count": null,
   "id": "7465f00d",
   "metadata": {},
   "outputs": [],
   "source": [
    "#Answer_to_Question 1.3\n",
    "p_Won_alt = ...\n",
    "p_Won_alt"
   ]
  },
  {
   "cell_type": "markdown",
   "id": "15577852",
   "metadata": {},
   "source": [
    "Question 1.4 We can make a rational decision regarding the two serving strategies (i.e common one and the alternative two-first-serve strategy) based upon the calculation of the corresponding winning probabilities. Please help provide one example where two-first-serve is more preferable than the common strategy. (5 points)"
   ]
  },
  {
   "cell_type": "code",
   "execution_count": null,
   "id": "3fa0822b",
   "metadata": {},
   "outputs": [],
   "source": [
    "#Answer_to_Question 1.4\n",
    "...\n"
   ]
  },
  {
   "cell_type": "markdown",
   "id": "46f8cef2",
   "metadata": {},
   "source": [
    "There is a Github repository containing excellent data on ATP matches over the timeframe. One CSV file regarding ATP Matches in 2022 is downloaded from the Github."
   ]
  },
  {
   "cell_type": "code",
   "execution_count": 3,
   "id": "eb17b393",
   "metadata": {},
   "outputs": [
    {
     "data": {
      "text/html": [
       "<table border=\"1\" class=\"dataframe\">\n",
       "    <thead>\n",
       "        <tr>\n",
       "            <th>tourney_id</th> <th>tourney_name</th> <th>surface</th> <th>draw_size</th> <th>tourney_level</th> <th>tourney_date</th> <th>match_num</th> <th>winner_id</th> <th>winner_seed</th> <th>winner_entry</th> <th>winner_name</th> <th>winner_hand</th> <th>winner_ht</th> <th>winner_ioc</th> <th>winner_age</th> <th>loser_id</th> <th>loser_seed</th> <th>loser_entry</th> <th>loser_name</th> <th>loser_hand</th> <th>loser_ht</th> <th>loser_ioc</th> <th>loser_age</th> <th>score</th> <th>best_of</th> <th>round</th> <th>minutes</th> <th>w_ace</th> <th>w_df</th> <th>w_svpt</th> <th>w_1stIn</th> <th>w_1stWon</th> <th>w_2ndWon</th> <th>w_SvGms</th> <th>w_bpSaved</th> <th>w_bpFaced</th> <th>l_ace</th> <th>l_df</th> <th>l_svpt</th> <th>l_1stIn</th> <th>l_1stWon</th> <th>l_2ndWon</th> <th>l_SvGms</th> <th>l_bpSaved</th> <th>l_bpFaced</th> <th>winner_rank</th> <th>winner_rank_points</th> <th>loser_rank</th> <th>loser_rank_points</th>\n",
       "        </tr>\n",
       "    </thead>\n",
       "    <tbody>\n",
       "        <tr>\n",
       "            <td>2022-8888 </td> <td>Atp Cup     </td> <td>Hard   </td> <td>16       </td> <td>A            </td> <td>20220103    </td> <td>300      </td> <td>200000   </td> <td>nan        </td> <td>nan         </td> <td>Felix Auger Aliassime</td> <td>R          </td> <td>193      </td> <td>CAN       </td> <td>21.4      </td> <td>105138  </td> <td>nan       </td> <td>nan        </td> <td>Roberto Bautista Agut</td> <td>R         </td> <td>183     </td> <td>ESP      </td> <td>33.7     </td> <td>7-6(3) 6-3       </td> <td>3      </td> <td>F    </td> <td>129    </td> <td>15   </td> <td>6   </td> <td>78    </td> <td>51     </td> <td>38      </td> <td>14      </td> <td>11     </td> <td>10       </td> <td>11       </td> <td>0    </td> <td>2   </td> <td>70    </td> <td>50     </td> <td>32      </td> <td>7       </td> <td>10     </td> <td>3        </td> <td>5        </td> <td>11         </td> <td>3308              </td> <td>19        </td> <td>2260             </td>\n",
       "        </tr>\n",
       "        <tr>\n",
       "            <td>2022-8888 </td> <td>Atp Cup     </td> <td>Hard   </td> <td>16       </td> <td>A            </td> <td>20220103    </td> <td>299      </td> <td>133430   </td> <td>nan        </td> <td>nan         </td> <td>Denis Shapovalov     </td> <td>L          </td> <td>185      </td> <td>CAN       </td> <td>22.7      </td> <td>105807  </td> <td>nan       </td> <td>nan        </td> <td>Pablo Carreno Busta  </td> <td>R         </td> <td>188     </td> <td>ESP      </td> <td>30.4     </td> <td>6-4 6-3          </td> <td>3      </td> <td>F    </td> <td>98     </td> <td>7    </td> <td>2   </td> <td>78    </td> <td>49     </td> <td>34      </td> <td>16      </td> <td>10     </td> <td>8        </td> <td>9        </td> <td>1    </td> <td>0   </td> <td>50    </td> <td>33     </td> <td>21      </td> <td>8       </td> <td>9      </td> <td>3        </td> <td>6        </td> <td>14         </td> <td>2475              </td> <td>20        </td> <td>2230             </td>\n",
       "        </tr>\n",
       "        <tr>\n",
       "            <td>2022-8888 </td> <td>Atp Cup     </td> <td>Hard   </td> <td>16       </td> <td>A            </td> <td>20220103    </td> <td>298      </td> <td>105138   </td> <td>nan        </td> <td>nan         </td> <td>Roberto Bautista Agut</td> <td>R          </td> <td>183      </td> <td>ESP       </td> <td>33.7      </td> <td>128034  </td> <td>nan       </td> <td>nan        </td> <td>Hubert Hurkacz       </td> <td>R         </td> <td>196     </td> <td>POL      </td> <td>24.8     </td> <td>7-6(6) 2-6 7-6(5)</td> <td>3      </td> <td>SF   </td> <td>164    </td> <td>1    </td> <td>2   </td> <td>96    </td> <td>64     </td> <td>50      </td> <td>20      </td> <td>16     </td> <td>1        </td> <td>4        </td> <td>24   </td> <td>3   </td> <td>120   </td> <td>80     </td> <td>62      </td> <td>20      </td> <td>16     </td> <td>6        </td> <td>7        </td> <td>19         </td> <td>2260              </td> <td>9         </td> <td>3706             </td>\n",
       "        </tr>\n",
       "        <tr>\n",
       "            <td>2022-8888 </td> <td>Atp Cup     </td> <td>Hard   </td> <td>16       </td> <td>A            </td> <td>20220103    </td> <td>297      </td> <td>105807   </td> <td>nan        </td> <td>nan         </td> <td>Pablo Carreno Busta  </td> <td>R          </td> <td>188      </td> <td>ESP       </td> <td>30.4      </td> <td>126591  </td> <td>nan       </td> <td>nan        </td> <td>Jan Zielinski        </td> <td>R         </td> <td>nan     </td> <td>POL      </td> <td>25.1     </td> <td>6-2 6-1          </td> <td>3      </td> <td>SF   </td> <td>53     </td> <td>6    </td> <td>0   </td> <td>45    </td> <td>33     </td> <td>25      </td> <td>8       </td> <td>8      </td> <td>0        </td> <td>0        </td> <td>2    </td> <td>1   </td> <td>38    </td> <td>27     </td> <td>17      </td> <td>1       </td> <td>7      </td> <td>4        </td> <td>8        </td> <td>20         </td> <td>2230              </td> <td>860       </td> <td>18               </td>\n",
       "        </tr>\n",
       "        <tr>\n",
       "            <td>2022-8888 </td> <td>Atp Cup     </td> <td>Hard   </td> <td>16       </td> <td>A            </td> <td>20220103    </td> <td>296      </td> <td>106421   </td> <td>nan        </td> <td>nan         </td> <td>Daniil Medvedev      </td> <td>R          </td> <td>198      </td> <td>RUS       </td> <td>25.8      </td> <td>200000  </td> <td>nan       </td> <td>nan        </td> <td>Felix Auger Aliassime</td> <td>R         </td> <td>193     </td> <td>CAN      </td> <td>21.4     </td> <td>6-4 6-0          </td> <td>3      </td> <td>SF   </td> <td>68     </td> <td>6    </td> <td>4   </td> <td>41    </td> <td>25     </td> <td>22      </td> <td>10      </td> <td>8      </td> <td>0        </td> <td>0        </td> <td>6    </td> <td>2   </td> <td>48    </td> <td>35     </td> <td>22      </td> <td>4       </td> <td>8      </td> <td>3        </td> <td>7        </td> <td>2          </td> <td>8640              </td> <td>11        </td> <td>3308             </td>\n",
       "        </tr>\n",
       "    </tbody>\n",
       "</table>\n",
       "<p>... (2912 rows omitted)</p>"
      ],
      "text/plain": [
       "<IPython.core.display.HTML object>"
      ]
     },
     "metadata": {},
     "output_type": "display_data"
    }
   ],
   "source": [
    "# Don't change this cell; just run it\n",
    "atp = Table.read_table(\"atp_2022.csv\")\n",
    "atp.show(5)"
   ]
  },
  {
   "cell_type": "markdown",
   "id": "6a3c4b8a",
   "metadata": {},
   "source": [
    "Quesiton 1.5 Understanding data is normally our first step for data science project. Even though it may be straightforward for some columns, others are a bit technical. So you can refer to the explanation page (with the [link](https://github.com/JeffSackmann/tennis_atp/blob/master/matches_data_dictionary.txt)). Please take a few minutes to understand the data and show how can we calculate `p_1stIn`, `p_1stWon`, `p_2ndIn` and `p_2ndWon` in any given match based on the csv provided? (10 points)\n",
    "\n",
    "Hint: **double faults** count against the player’s proper (or legal in tennis terminology) second-serve cases."
   ]
  },
  {
   "cell_type": "code",
   "execution_count": null,
   "id": "1108a6f5",
   "metadata": {},
   "outputs": [],
   "source": [
    "#Answer_to_Question 1.5\n",
    "...\n"
   ]
  },
  {
   "cell_type": "markdown",
   "id": "c270e431",
   "metadata": {},
   "source": [
    "Question 1.6 For any male player in the csv, we would like to know his performance over the year, in particular the results about `p_1stIn`, `p_1stWon`, `p_2ndIn` and `p_2ndWon`. Please help define a function called `perfmance_2022`. It takes the name of the player as the only arguments and returns an array with those four probabilitities. (10 points)\n",
    "\n",
    "Hint: for any match listed in the file, any participating player can be the winner or the loser of the match."
   ]
  },
  {
   "cell_type": "code",
   "execution_count": null,
   "id": "2d987ff3",
   "metadata": {},
   "outputs": [],
   "source": [
    "#Answer_to_Question 1.6\n",
    "def performance_2022(player_name):\n",
    "    ...\n",
    "\n",
    "# An example call to your function:\n",
    "performance_2022('Rafael Nadal')"
   ]
  },
  {
   "cell_type": "markdown",
   "id": "bf308c61",
   "metadata": {},
   "source": [
    "### 2. Testing hypotheses (40 points) <a id='q2'></a>"
   ]
  },
  {
   "cell_type": "markdown",
   "id": "9a6e27b2",
   "metadata": {},
   "source": [
    "An area code in US is defined to be a three digit number from 200-999 inclusive. In reality, many of these area codes are not in use, but for this question we'll simplify things and assume they all are. \n",
    "\n",
    "Steve gets a lot of spam calls. Throughout these questions, you should assume that the area code of Steve is 781. Steve suspects that there's a higher chance that the spammers are using his area code (781) to trick him into thinking it's someone from his area calling him. John thinks that this is not the case, and that spammers are just choosing area codes of the spam calls at random from all possible area codes (Remember, for this question we’re assuming the possible area codes are 200-999, inclusive). Steve wants to test his claim using the 50 spam calls he received in the past month. Here's a dataset of the area codes of the 50 spam calls he received in the past month"
   ]
  },
  {
   "cell_type": "code",
   "execution_count": 4,
   "id": "9dc7570b",
   "metadata": {},
   "outputs": [
    {
     "data": {
      "text/html": [
       "<table border=\"1\" class=\"dataframe\">\n",
       "    <thead>\n",
       "        <tr>\n",
       "            <th>Area Code</th>\n",
       "        </tr>\n",
       "    </thead>\n",
       "    <tbody>\n",
       "        <tr>\n",
       "            <td>891      </td>\n",
       "        </tr>\n",
       "        <tr>\n",
       "            <td>924      </td>\n",
       "        </tr>\n",
       "        <tr>\n",
       "            <td>516      </td>\n",
       "        </tr>\n",
       "        <tr>\n",
       "            <td>512      </td>\n",
       "        </tr>\n",
       "        <tr>\n",
       "            <td>328      </td>\n",
       "        </tr>\n",
       "    </tbody>\n",
       "</table>\n",
       "<p>... (45 rows omitted)</p>"
      ],
      "text/plain": [
       "<IPython.core.display.HTML object>"
      ]
     },
     "metadata": {},
     "output_type": "display_data"
    }
   ],
   "source": [
    "# Don't change this cell; just run it\n",
    "spam = Table.read_table('spam.csv')\n",
    "spam.show(5)"
   ]
  },
  {
   "cell_type": "markdown",
   "id": "9a926024",
   "metadata": {},
   "source": [
    "Question 2.1 What is our **null hypothesis**? (5 points)"
   ]
  },
  {
   "cell_type": "code",
   "execution_count": null,
   "id": "f1822b96",
   "metadata": {},
   "outputs": [],
   "source": [
    "#Answer_to_Question 2.1 \n",
    "null_hypothesis = ...\n",
    "null_hypothesis"
   ]
  },
  {
   "cell_type": "markdown",
   "id": "2b6c8edc",
   "metadata": {},
   "source": [
    "Our **alternative hypothesis** is that there's a higher chance of getting a spam call with an area code of 781. **Suppose you decide to use the number of times you see the area code 781 in 50 spam calls as your test statistic.**"
   ]
  },
  {
   "cell_type": "markdown",
   "id": "47284f6d",
   "metadata": {},
   "source": [
    "Question 2.2 Write a function called `simulate` that generates exactly one simulated value of your test statistic under the null hypothesis.  It should take no arguments and simulate 50 area codes (with replacement) under the assumption that the result of each area is sampled from the range 200-999 inclusive with equal probability. Your function should return the number of times you saw the 781 area code in those 50 random spam calls. (10 points)\n"
   ]
  },
  {
   "cell_type": "code",
   "execution_count": null,
   "id": "2fd586e3",
   "metadata": {},
   "outputs": [],
   "source": [
    "#Answer_to_Question 2.2\n",
    "def simulate():\n",
    "    ...\n",
    "    \n",
    "# Call your function to make sure it works\n",
    "simulate()"
   ]
  },
  {
   "cell_type": "markdown",
   "id": "b8c4b8f1",
   "metadata": {},
   "source": [
    "Question 2.3 Generate 10,000 simulated values of the number of times you see the area code 781 in 50 random spam calls. Assign test_statistics_under_null to an array that stores the result of each of these trials. (5 points)"
   ]
  },
  {
   "cell_type": "code",
   "execution_count": null,
   "id": "fe6cf4fb",
   "metadata": {},
   "outputs": [],
   "source": [
    "#Answer_to_Question 2.3\n",
    "test_statistics_under_null = ...\n",
    "repetitions = ...\n",
    "\n",
    "...\n",
    "    \n",
    "test_statistics_under_null"
   ]
  },
  {
   "cell_type": "markdown",
   "id": "1c575a88",
   "metadata": {},
   "source": [
    "Question 2.4 Using the results from Question 2.3, generate a histogram of the empirical distribution of the number of times you saw the area code 781 in your simulation. NOTE: Use the provided bins when making the histogram. (5 points)"
   ]
  },
  {
   "cell_type": "code",
   "execution_count": null,
   "id": "87c2de23",
   "metadata": {},
   "outputs": [],
   "source": [
    "#Answer_to_Question 2.4\n",
    "bins = np.arange(0,5,1) # Use these provided bins\n",
    "..."
   ]
  },
  {
   "cell_type": "markdown",
   "id": "753fcb36",
   "metadata": {},
   "source": [
    "Question 2.5 Compute an empirical P-value for this test. (10 points)"
   ]
  },
  {
   "cell_type": "code",
   "execution_count": null,
   "id": "40f87aae",
   "metadata": {},
   "outputs": [],
   "source": [
    "#Answer_to_Question 2.5\n",
    "# First calculate the observed value of the test statistic from the `spam` table.\n",
    "observed_val = ...\n",
    "p_value = ...\n",
    "p_value"
   ]
  },
  {
   "cell_type": "markdown",
   "id": "b16d8d14",
   "metadata": {},
   "source": [
    "Question 2.6 Suppose you use a P-value cutoff of 1%. What do you conclude from the hypothesis test? Why? (5 points)"
   ]
  },
  {
   "cell_type": "code",
   "execution_count": null,
   "id": "de0c57d4",
   "metadata": {},
   "outputs": [],
   "source": [
    "#Answer_to_Question 2.6\n",
    "testing_conclusion = ...\n",
    "conclusion_reason = ...\n",
    "testing_conclusion\n",
    "conclusion_reason"
   ]
  },
  {
   "cell_type": "markdown",
   "id": "be9d445c",
   "metadata": {},
   "source": [
    "### 3. Housing price vs fertility rate (20 points) <a id='q3'></a>"
   ]
  },
  {
   "cell_type": "markdown",
   "id": "2bc8eca0",
   "metadata": {},
   "source": [
    "In this question, we are going to make a brief investigation on hot topics in Singapore. Fertility rate issue has been discussed quite a lot since 1980s, but the situation has not been turning better. Singapore’s total fertility rate (TFR) hit a historic low of 1.05 in 2022. While it's a complicated issue and involves quite a few evolving factors to consider, housing seems to be one of the factors. So here we just use simple method we have learned so far to see the correlation (if any) between them.\n",
    "\n",
    "With the csv files provided, we have yearly TFRs from 1960 until 2021, the quarterly HDB index from the first quarter of 1990 to the third quarter of 2022 and the priviate property index (landed, non-landed and all) from the first quarter of 1975 until the fourth quarter of 2022)."
   ]
  },
  {
   "cell_type": "code",
   "execution_count": 5,
   "id": "dc6cc6c4",
   "metadata": {},
   "outputs": [],
   "source": [
    "# Don't change this cell; just run it\n",
    "TFR_raw = Table.read_table('TFR2021.csv')\n",
    "hdb = Table.read_table('hdb-index.csv')\n",
    "ura = Table.read_table('private-index.csv')"
   ]
  },
  {
   "cell_type": "markdown",
   "id": "5bd21d51",
   "metadata": {},
   "source": [
    "Question 3.1. Data manipulation is an important part of data science project. In our case, we have yearly TFRs and also quarterly housing indices. In addition, for private housing, there are three difference indices due the difference between landed and non-landed. To make the situation simple, there are three assumptions: First, we use the average of four quarters to be the housing indices for the corresponding year. Second, we ingore landed private housing as it's a niche asset class, so we only use non-landed residential entries. Third, as we can only calculate if there are data available, so we only consider the maximum shared year range in all three files. Create a table `final_raw` consists of four columns in the special order `Year`, `TFR`,`HDB_Index` and `Private_Index`. (10 points) "
   ]
  },
  {
   "cell_type": "code",
   "execution_count": null,
   "id": "4f17e4b6",
   "metadata": {},
   "outputs": [],
   "source": [
    "#Answer_to_Question 3.1\n",
    "Year = ...\n",
    "TFR = ...\n",
    "HDB_Index = ...\n",
    "Private_Index = ...\n",
    "final_raw = ...\n",
    "final_raw"
   ]
  },
  {
   "cell_type": "markdown",
   "id": "6f664a57",
   "metadata": {},
   "source": [
    "Question 2. For the relationship between `TFR` and `HDB_Index`, what is the correlation coeifficient, slope and intercept? In addition, please draw the scatter plot of the data, as well as the regression line. (5 points)"
   ]
  },
  {
   "cell_type": "code",
   "execution_count": null,
   "id": "8e4d5f08",
   "metadata": {},
   "outputs": [],
   "source": [
    "#Answer_to_Question 3.2\n",
    "TFR_HDB_correlation = ...\n",
    "TFR_HDB_slope = ...\n",
    "TFR_HDB_intercept = ...\n"
   ]
  },
  {
   "cell_type": "markdown",
   "id": "9332abbd",
   "metadata": {},
   "source": [
    "Question 3. For the relationship between `TFR` and `Private_Index`, what is the correlation coeifficient, slope and intercept? In addition, please draw the scatter plot of the data, as well as the regression line. (5 points)"
   ]
  },
  {
   "cell_type": "code",
   "execution_count": null,
   "id": "4fa15625",
   "metadata": {},
   "outputs": [],
   "source": [
    "#Answer_to_Question 3.3\n",
    "TFR_URA_correlation = ...\n",
    "TFR_URA_slope = ...\n",
    "TFR_URA_intercept = ...\n",
    "\n"
   ]
  },
  {
   "cell_type": "markdown",
   "id": "f7d8bff2",
   "metadata": {},
   "source": [
    "### Final Words  (0 point) <a id='q4'></a>"
   ]
  },
  {
   "cell_type": "markdown",
   "id": "fecb88dd",
   "metadata": {},
   "source": [
    "If there was any question that you thought was ambiguous and required clarification to be answerable, please identify the question and state your assumptions. Be warned: We only plan to consider this information if we agree that the question was erroneous or ambiguous and we consider your assumption reasonable. (0 point)"
   ]
  },
  {
   "cell_type": "code",
   "execution_count": null,
   "id": "9b84fb64",
   "metadata": {},
   "outputs": [],
   "source": [
    "#Comment\n",
    "\n"
   ]
  },
  {
   "cell_type": "markdown",
   "id": "dd0889ef",
   "metadata": {},
   "source": [
    "### No more questions and Submission <a id='q5'></a>"
   ]
  },
  {
   "cell_type": "markdown",
   "id": "bd9133b6",
   "metadata": {},
   "source": [
    "To submit your answer, please download your notebook as a .ipynb and .html file and submit to Canvas. You can do so by navigating to the toolbar at the top of this page, clicking File > Download as ... > Notebook (.ipynb) or HTML (.html). Then, upload both files under \"Mid-term\" in the Assignments on Canvas."
   ]
  }
 ],
 "metadata": {
  "kernelspec": {
   "display_name": "Python 3 (ipykernel)",
   "language": "python",
   "name": "python3"
  },
  "language_info": {
   "codemirror_mode": {
    "name": "ipython",
    "version": 3
   },
   "file_extension": ".py",
   "mimetype": "text/x-python",
   "name": "python",
   "nbconvert_exporter": "python",
   "pygments_lexer": "ipython3",
   "version": "3.10.10"
  }
 },
 "nbformat": 4,
 "nbformat_minor": 5
}
