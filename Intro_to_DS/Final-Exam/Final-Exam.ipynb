{
 "cells": [
  {
   "cell_type": "markdown",
   "id": "84e06bcb",
   "metadata": {},
   "source": [
    "# YSC2239 Final Examination Spring 2023"
   ]
  },
  {
   "cell_type": "markdown",
   "id": "df69f9ed",
   "metadata": {},
   "source": [
    "### This exam consists of 3 questions.\n",
    "\n",
    "### Time: April 28th (Friday) 2:45pm - 5:15pm (No submission will be accepted after the deadline)\n",
    "\n",
    "### Venue: Tan Chin Tuan Lecture Theatre at Yale-NUS College\n"
   ]
  },
  {
   "cell_type": "markdown",
   "id": "dca09b00",
   "metadata": {},
   "source": [
    "## Table of Contents\n",
    "\n",
    "### [1 Basic Data Science (40 points) ](#q1)\n",
    "\n",
    "### [2 Basic Mathematics (22 points)](#q2)\n",
    "\n",
    "### [3 Logistic Regression vs Decision Tree (38 points)](#q3)\n"
   ]
  },
  {
   "cell_type": "code",
   "execution_count": 417,
   "id": "d7154ac2",
   "metadata": {},
   "outputs": [],
   "source": [
    "# Run this cell to set up your notebook\n",
    "import numpy as np\n",
    "import pandas as pd\n",
    "import matplotlib.pyplot as plt\n",
    "from matplotlib.colors import ListedColormap\n",
    "import seaborn as sns\n",
    "from scipy.optimize import minimize\n",
    "\n",
    "from sklearn.linear_model import LogisticRegression\n",
    "from sklearn.model_selection import train_test_split\n",
    "from sklearn import tree\n",
    "\n",
    "# you may get a warning from importing ensemble. It is OK to ignore said warning\n",
    "from sklearn import ensemble\n",
    "plt.style.use('fivethirtyeight')"
   ]
  },
  {
   "cell_type": "markdown",
   "id": "f57a4e64",
   "metadata": {},
   "source": [
    "## 1 Basic Data Science (40 points) <a id='q1'></a>"
   ]
  },
  {
   "cell_type": "markdown",
   "id": "fe472487",
   "metadata": {},
   "source": [
    "Our module is called the introduction to data science, so at the end of the module, it's worthy to have some brief review in restrospect. We spend quite some time on getting ourselves familiar with coding tool i.e. Python and some useful packages(for example datascience, pandas). As the saying goes, good tools are prerequisite to the success of a job. So then what is the \"job\" of the course? Definitely not the tool, as tools may differ from time to time. Instead, the key lies in the word `model`.\n",
    "\n"
   ]
  },
  {
   "cell_type": "markdown",
   "id": "2df0b1ff",
   "metadata": {},
   "source": [
    "### Question 1.1 (2 points) Define the notation of model in data science."
   ]
  },
  {
   "cell_type": "code",
   "execution_count": 418,
   "id": "c0c48ef8",
   "metadata": {},
   "outputs": [],
   "source": [
    "# Simply write your answer to Question 1.1 below and no need to Run this cell\n",
    "\n",
    "# In data science, a model is a function that maps a certain number of input parameters to an output of some sort.\n",
    "# We call this output a prediction and the closer the models predictions come to real world data, the better we consider our model to be.\n",
    "# In order to do that it analyses data and finds patterns in it. That is it finds a relationship between the input parameters and the output,\n",
    "# through which it maps the independent variables to the dependent variable. \n",
    "# A model is called model because it only represents reality to some degree of accuracy but not perfectly.\n",
    "\n",
    "\n"
   ]
  },
  {
   "cell_type": "markdown",
   "id": "ac6d2230",
   "metadata": {},
   "source": [
    "Recall that there are four steps basic step when we talk about the modeling process:\n",
    "\n",
    "A. Define a model.\n",
    "\n",
    "B. Define a loss function.\n",
    "\n",
    "C. Find the parameters that minimizes the loss.\n",
    "\n",
    "D. Evaluate the model performance\n",
    "\n",
    "We'll go through the `first three steps` on some example dataset from online repository loaded by using `load_dataset` command of `seaborn` package. The description of `load_dataset` is available at https://seaborn.pydata.org/generated/seaborn.load_dataset.html and the list of datasets is avaiable at https://github.com/mwaskom/seaborn-data. \n",
    "\n",
    "Note since we are not going to evaluate the model performance, we are not going to split the dataset into train set and test test. Instead, we use the full dataset to train various models for this part."
   ]
  },
  {
   "cell_type": "markdown",
   "id": "b0f18505",
   "metadata": {},
   "source": [
    "### Question 1.2 (3 points) Load the dataset named `tips` into our notebook and give the dataset the same name (i.e. tips) and show the last 15 rows of the dataset."
   ]
  },
  {
   "cell_type": "code",
   "execution_count": 419,
   "id": "7b3dd018",
   "metadata": {},
   "outputs": [
    {
     "data": {
      "text/html": [
       "<div>\n",
       "<style scoped>\n",
       "    .dataframe tbody tr th:only-of-type {\n",
       "        vertical-align: middle;\n",
       "    }\n",
       "\n",
       "    .dataframe tbody tr th {\n",
       "        vertical-align: top;\n",
       "    }\n",
       "\n",
       "    .dataframe thead th {\n",
       "        text-align: right;\n",
       "    }\n",
       "</style>\n",
       "<table border=\"1\" class=\"dataframe\">\n",
       "  <thead>\n",
       "    <tr style=\"text-align: right;\">\n",
       "      <th></th>\n",
       "      <th>total_bill</th>\n",
       "      <th>tip</th>\n",
       "      <th>sex</th>\n",
       "      <th>smoker</th>\n",
       "      <th>day</th>\n",
       "      <th>time</th>\n",
       "      <th>size</th>\n",
       "    </tr>\n",
       "  </thead>\n",
       "  <tbody>\n",
       "    <tr>\n",
       "      <th>0</th>\n",
       "      <td>16.99</td>\n",
       "      <td>1.01</td>\n",
       "      <td>Female</td>\n",
       "      <td>No</td>\n",
       "      <td>Sun</td>\n",
       "      <td>Dinner</td>\n",
       "      <td>2</td>\n",
       "    </tr>\n",
       "    <tr>\n",
       "      <th>1</th>\n",
       "      <td>10.34</td>\n",
       "      <td>1.66</td>\n",
       "      <td>Male</td>\n",
       "      <td>No</td>\n",
       "      <td>Sun</td>\n",
       "      <td>Dinner</td>\n",
       "      <td>3</td>\n",
       "    </tr>\n",
       "    <tr>\n",
       "      <th>2</th>\n",
       "      <td>21.01</td>\n",
       "      <td>3.50</td>\n",
       "      <td>Male</td>\n",
       "      <td>No</td>\n",
       "      <td>Sun</td>\n",
       "      <td>Dinner</td>\n",
       "      <td>3</td>\n",
       "    </tr>\n",
       "    <tr>\n",
       "      <th>3</th>\n",
       "      <td>23.68</td>\n",
       "      <td>3.31</td>\n",
       "      <td>Male</td>\n",
       "      <td>No</td>\n",
       "      <td>Sun</td>\n",
       "      <td>Dinner</td>\n",
       "      <td>2</td>\n",
       "    </tr>\n",
       "    <tr>\n",
       "      <th>4</th>\n",
       "      <td>24.59</td>\n",
       "      <td>3.61</td>\n",
       "      <td>Female</td>\n",
       "      <td>No</td>\n",
       "      <td>Sun</td>\n",
       "      <td>Dinner</td>\n",
       "      <td>4</td>\n",
       "    </tr>\n",
       "    <tr>\n",
       "      <th>5</th>\n",
       "      <td>25.29</td>\n",
       "      <td>4.71</td>\n",
       "      <td>Male</td>\n",
       "      <td>No</td>\n",
       "      <td>Sun</td>\n",
       "      <td>Dinner</td>\n",
       "      <td>4</td>\n",
       "    </tr>\n",
       "    <tr>\n",
       "      <th>6</th>\n",
       "      <td>8.77</td>\n",
       "      <td>2.00</td>\n",
       "      <td>Male</td>\n",
       "      <td>No</td>\n",
       "      <td>Sun</td>\n",
       "      <td>Dinner</td>\n",
       "      <td>2</td>\n",
       "    </tr>\n",
       "    <tr>\n",
       "      <th>7</th>\n",
       "      <td>26.88</td>\n",
       "      <td>3.12</td>\n",
       "      <td>Male</td>\n",
       "      <td>No</td>\n",
       "      <td>Sun</td>\n",
       "      <td>Dinner</td>\n",
       "      <td>4</td>\n",
       "    </tr>\n",
       "    <tr>\n",
       "      <th>8</th>\n",
       "      <td>15.04</td>\n",
       "      <td>1.96</td>\n",
       "      <td>Male</td>\n",
       "      <td>No</td>\n",
       "      <td>Sun</td>\n",
       "      <td>Dinner</td>\n",
       "      <td>2</td>\n",
       "    </tr>\n",
       "    <tr>\n",
       "      <th>9</th>\n",
       "      <td>14.78</td>\n",
       "      <td>3.23</td>\n",
       "      <td>Male</td>\n",
       "      <td>No</td>\n",
       "      <td>Sun</td>\n",
       "      <td>Dinner</td>\n",
       "      <td>2</td>\n",
       "    </tr>\n",
       "    <tr>\n",
       "      <th>10</th>\n",
       "      <td>10.27</td>\n",
       "      <td>1.71</td>\n",
       "      <td>Male</td>\n",
       "      <td>No</td>\n",
       "      <td>Sun</td>\n",
       "      <td>Dinner</td>\n",
       "      <td>2</td>\n",
       "    </tr>\n",
       "    <tr>\n",
       "      <th>11</th>\n",
       "      <td>35.26</td>\n",
       "      <td>5.00</td>\n",
       "      <td>Female</td>\n",
       "      <td>No</td>\n",
       "      <td>Sun</td>\n",
       "      <td>Dinner</td>\n",
       "      <td>4</td>\n",
       "    </tr>\n",
       "    <tr>\n",
       "      <th>12</th>\n",
       "      <td>15.42</td>\n",
       "      <td>1.57</td>\n",
       "      <td>Male</td>\n",
       "      <td>No</td>\n",
       "      <td>Sun</td>\n",
       "      <td>Dinner</td>\n",
       "      <td>2</td>\n",
       "    </tr>\n",
       "    <tr>\n",
       "      <th>13</th>\n",
       "      <td>18.43</td>\n",
       "      <td>3.00</td>\n",
       "      <td>Male</td>\n",
       "      <td>No</td>\n",
       "      <td>Sun</td>\n",
       "      <td>Dinner</td>\n",
       "      <td>4</td>\n",
       "    </tr>\n",
       "    <tr>\n",
       "      <th>14</th>\n",
       "      <td>14.83</td>\n",
       "      <td>3.02</td>\n",
       "      <td>Female</td>\n",
       "      <td>No</td>\n",
       "      <td>Sun</td>\n",
       "      <td>Dinner</td>\n",
       "      <td>2</td>\n",
       "    </tr>\n",
       "  </tbody>\n",
       "</table>\n",
       "</div>"
      ],
      "text/plain": [
       "    total_bill   tip     sex smoker  day    time  size\n",
       "0        16.99  1.01  Female     No  Sun  Dinner     2\n",
       "1        10.34  1.66    Male     No  Sun  Dinner     3\n",
       "2        21.01  3.50    Male     No  Sun  Dinner     3\n",
       "3        23.68  3.31    Male     No  Sun  Dinner     2\n",
       "4        24.59  3.61  Female     No  Sun  Dinner     4\n",
       "5        25.29  4.71    Male     No  Sun  Dinner     4\n",
       "6         8.77  2.00    Male     No  Sun  Dinner     2\n",
       "7        26.88  3.12    Male     No  Sun  Dinner     4\n",
       "8        15.04  1.96    Male     No  Sun  Dinner     2\n",
       "9        14.78  3.23    Male     No  Sun  Dinner     2\n",
       "10       10.27  1.71    Male     No  Sun  Dinner     2\n",
       "11       35.26  5.00  Female     No  Sun  Dinner     4\n",
       "12       15.42  1.57    Male     No  Sun  Dinner     2\n",
       "13       18.43  3.00    Male     No  Sun  Dinner     4\n",
       "14       14.83  3.02  Female     No  Sun  Dinner     2"
      ]
     },
     "execution_count": 419,
     "metadata": {},
     "output_type": "execute_result"
    }
   ],
   "source": [
    "# Write your codes to Question 1.2 below and then Run this cell\n",
    "tips = sns.load_dataset('tips')\n",
    "tips.head(15)"
   ]
  },
  {
   "cell_type": "markdown",
   "id": "facd2581",
   "metadata": {},
   "source": [
    "Throughout the rest of questions (for part 1 Basic Data Science), we try to predict restaurant tips in **absolute amounts**.\n",
    "\n",
    "`y_tips`: Each actual tip in our dataset is $y$, which is what we call the **observed value** or **dependent variable**. We want to predict each observed value as $\\hat{y}$."
   ]
  },
  {
   "cell_type": "code",
   "execution_count": 420,
   "id": "fd52c074",
   "metadata": {},
   "outputs": [],
   "source": [
    "# No further action needed, just Run this cell to define y_tips array, the array of observed tips.\n",
    "y_tips = np.array(tips['tip'])              "
   ]
  },
  {
   "cell_type": "markdown",
   "id": "f8fdb291",
   "metadata": {},
   "source": [
    "### Question 1.3 (in total 6 points) Use a **constant model $\\hat{y} = \\theta_0$ with $L_2$ loss** to predict the tip $\\hat{y}$. In other words, regardless of any other details (i.e., features) about the meals, we will always predict our tip $\\hat{y}$ as one single value: $\\theta_0$. \n",
    "\n",
    "Remark on **$L_2$ loss** (also **squared loss**): for an observed tip value $y$ (i.e., the real tip), our prediction of the tip $\\hat{y}$ would give an $L_2$ loss of:\n",
    "\n",
    "$$\\large L_2(y, \\hat{y}) = \\large (y - \\hat{y})^2 = \\large (y - \\theta_0)^2 $$\n",
    "\n",
    "We just defined loss for a single datapoint. Let's extend the above function to our entire dataset by taking the **average loss** across the dataset."
   ]
  },
  {
   "cell_type": "markdown",
   "id": "5b133084",
   "metadata": {},
   "source": [
    "### Question 1.3a (3 points) Define the `mse_tips_constant` function which computes the **average $L_2$ error** on the tips dataset for the constant model with parameter $\\theta_0$.\n",
    "\n",
    "**Hint:** \n",
    "* You should use the array `y_tips` defined before.\n"
   ]
  },
  {
   "cell_type": "code",
   "execution_count": 421,
   "id": "630a55c3",
   "metadata": {},
   "outputs": [
    {
     "data": {
      "text/plain": [
       "7.20452950819672"
      ]
     },
     "execution_count": 421,
     "metadata": {},
     "output_type": "execute_result"
    }
   ],
   "source": [
    "#Complete the definition of the function and then Run the cell\n",
    "def mse_tips_constant(theta0):\n",
    "    \"\"\"\n",
    "    Calculate the average squared loss on the tips data for a constant model.\n",
    "    \n",
    "    Parameters\n",
    "    ------------\n",
    "    theta0 : fitted constant model\n",
    "    \n",
    "    Returns\n",
    "    ------------\n",
    "    The mean square error on the tips data for a constant model.\n",
    "    \"\"\"\n",
    "    return np.mean((y_tips - theta0)**2)\n",
    "\n",
    "mse_tips_constant(5.3) # Arbitrarily pick theta0 = 5.3"
   ]
  },
  {
   "cell_type": "markdown",
   "id": "cf7659bb",
   "metadata": {},
   "source": [
    "### Question 1.3b (3 points) Find the value of $\\theta_0$ that minimizes the mean squared error for our `tips` dataset by using the `minimize` function. \n",
    "\n",
    "Note the function `minimize` from [`scipy.optimize`](https://docs.scipy.org/doc/scipy/reference/generated/scipy.optimize.minimize.html) will attempt to minimize any function you throw at it.\n",
    "\n",
    "**Hints:** \n",
    "* You should use the function you defined earlier: `mse_tips_constant`.\n",
    "* Assign `min_scipy_constant` to the result of the `minimize` function which is called with initial `x0 = 0.0`."
   ]
  },
  {
   "cell_type": "code",
   "execution_count": 422,
   "id": "95617fe2",
   "metadata": {},
   "outputs": [
    {
     "data": {
      "text/plain": [
       "2.9982787346405537"
      ]
     },
     "execution_count": 422,
     "metadata": {},
     "output_type": "execute_result"
    }
   ],
   "source": [
    "# Complete the ... part and then Run this cell.\n",
    "min_scipy_constant = minimize(mse_tips_constant, x0=0.0)\n",
    "theta0_hat_constant = min_scipy_constant['x'][0]\n",
    "theta0_hat_constant"
   ]
  },
  {
   "cell_type": "code",
   "execution_count": 423,
   "id": "855734b5",
   "metadata": {},
   "outputs": [
    {
     "name": "stdout",
     "output_type": "stream",
     "text": [
      "2.99827868852459\n"
     ]
    }
   ],
   "source": [
    "print(np.mean(tips['tip']))"
   ]
  },
  {
   "cell_type": "markdown",
   "id": "87aed2d0",
   "metadata": {},
   "source": [
    "### Question 1.4 (in total 11 points) Instead of using the constant model, we assume that tip depends on the total amount of the bill of the meal and furthermore we assume **a linear model with $L_2$ loss** to predict the tip $\\hat{y}$.\n",
    "\n",
    "We define our model as the **linear model** that takes a single input feature, `total_bill`, $x$, and predicts the dependent variable, $\\hat{y}$:\n",
    "\n",
    "$$\\large\n",
    "\\hat{y} = \\theta_0 + \\theta_1 x\n",
    "$$\n",
    "\n",
    "Our modeling goal is to find optimal parameter(s) $\\hat{\\theta_0}$ and $\\hat{\\theta_1}$ that **best fit our data**. We use **$L_2$ loss**, therefore for an observed tip value $y$ (i.e., the real tip), our prediction of the tip $\\hat{y}$ would give an $L_2$ loss of:\n",
    "\n",
    "$$\\large L_2(y, \\hat{y}) = \\large (y - \\hat{y})^2 = \\large (y - (\\theta_0 + \\theta_1 x))^2 $$"
   ]
  },
  {
   "cell_type": "code",
   "execution_count": 424,
   "id": "d22fc933",
   "metadata": {},
   "outputs": [],
   "source": [
    "# No further action needed, just Run this cell to define x_total_bills, the feature of our model.\n",
    "x_total_bills = np.array(tips['total_bill'])"
   ]
  },
  {
   "cell_type": "markdown",
   "id": "32ebb78c",
   "metadata": {},
   "source": [
    "### Question 1.4a (3 points) Define the `mse_tips_linear` function which computes the mean squared error on the tips dataset for the linear model with parameters $\\theta_0$ and $\\theta_1$.\n",
    "\n",
    "**Hints:** \n",
    "* This function takes in two parameters `theta0` and `theta1`.\n",
    "* You should use the arrays `x_total_bills` and `y_tips` defined before."
   ]
  },
  {
   "cell_type": "code",
   "execution_count": 425,
   "id": "84f0dc2d",
   "metadata": {},
   "outputs": [
    {
     "name": "stdout",
     "output_type": "stream",
     "text": [
      "1.9870855604508193\n",
      "1.036034185513731\n",
      "1.052336405737705\n"
     ]
    }
   ],
   "source": [
    "#Complete the definition of the function and then Run the cell\n",
    "def mse_tips_linear(theta0, theta1):\n",
    "    \"\"\"\n",
    "    Calculate the mean squared error on the tips data for a linear model.\n",
    "    \n",
    "    Parameters\n",
    "    ------------\n",
    "    theta0 : intercept of the fitted linear model\n",
    "    theta1 : slope of the fitted linear model\n",
    "    \n",
    "    Returns\n",
    "    ------------\n",
    "    The mean square error on the tips data for a linear model.\n",
    "    \"\"\"\n",
    "    return np.mean((y_tips - (theta0 + theta1 * x_total_bills))**2)\n",
    "\n",
    "print(mse_tips_linear(0.92, 0.15))\n",
    "print(mse_tips_linear(0.9117181358798989, 0.10545671704437132)) #works\n",
    "print(mse_tips_linear(0.9, 0.1)) # Arbitrarily pick theta0 = 0.9, theta1 = 0.1"
   ]
  },
  {
   "cell_type": "markdown",
   "id": "f3af293c",
   "metadata": {},
   "source": [
    "### Question 1.4b (8 points) As we learn in linear regression, the optimal parameter(s) $\\hat{\\theta_0}$ and $\\hat{\\theta_1}$ are just the intercept and slope of the regression line between `x_total_bills` and `y_tips`. Write down the expression for $\\hat{\\theta_0}$ and $\\hat{\\theta_1}$ explicitely, denoted by `theta0_hat_analytic` and `theta1_hat_analytic` respectively."
   ]
  },
  {
   "cell_type": "code",
   "execution_count": 426,
   "id": "9f011611",
   "metadata": {},
   "outputs": [
    {
     "data": {
      "text/plain": [
       "(0.9117181358798989, 0.10545671704437132)"
      ]
     },
     "execution_count": 426,
     "metadata": {},
     "output_type": "execute_result"
    }
   ],
   "source": [
    "# Write out the slope and intercept of the regression line and then Run the Cell\n",
    "theta1_hat_analytic = np.cov(x_total_bills, y_tips)[0, 1] / np.var(x_total_bills)\n",
    "theta0_hat_analytic = np.mean(y_tips) - theta1_hat_analytic * np.mean(x_total_bills)\n",
    "theta0_hat_analytic, theta1_hat_analytic"
   ]
  },
  {
   "cell_type": "markdown",
   "id": "f89f1b7f",
   "metadata": {},
   "source": [
    "### Question 1.5 (3 points) For predicting tip on the `tips` dataset, would you rather use the constant model or the linear model assuming an $L_2$ loss function for both and why?  "
   ]
  },
  {
   "cell_type": "code",
   "execution_count": 427,
   "id": "0f528494",
   "metadata": {},
   "outputs": [],
   "source": [
    "# Simply write your answer to Question 1.5 below and no need to Run this cell\n",
    "# In many countries, at least in germany the tip is calculated as a percentage of the bill (in germany 10-20%).\n",
    "# Because of that we need the L2 model that takes this into account so the L2 loss function may be more suitable for this purpose\n",
    "# since the constant model will not capture the relationship between the tip and the bill."
   ]
  },
  {
   "cell_type": "markdown",
   "id": "8ce8a4a4",
   "metadata": {},
   "source": [
    "### Question 1.6 (in total 9 points) Now we assume **a linear model with $L_1$ loss** (also known as the absolute loss) to predict the tip $\\hat{y}$. For an observed tip value $y$, our prediction of the tip $\\hat{y}$ would give an $L_1$ loss of:\n",
    "\n",
    "$$\\large L_1(y, \\hat{y}) = |y - \\hat{y}| = |y - (\\theta_0 + \\theta_1 x)|$$"
   ]
  },
  {
   "cell_type": "markdown",
   "id": "cb90b621",
   "metadata": {},
   "source": [
    "### Question 1.6a (3 points) Define the `mae_tips_linear` function which computes the **Mean Absolute Error (MAE)** on the dataset for the linear model with parameters $\\theta_0$ and $\\theta_1$.\n",
    "\n",
    "**Hint**: \n",
    "* You should use the arrays `x_total_bills` and `y_tips` defined before."
   ]
  },
  {
   "cell_type": "code",
   "execution_count": 428,
   "id": "c37a16e0",
   "metadata": {},
   "outputs": [
    {
     "name": "stdout",
     "output_type": "stream",
     "text": [
      "0.737377571727286\n"
     ]
    },
    {
     "data": {
      "text/plain": [
       "41.87360655737705"
      ]
     },
     "execution_count": 428,
     "metadata": {},
     "output_type": "execute_result"
    }
   ],
   "source": [
    "#Complete the definition of the function and then Run the cell\n",
    "def mae_tips_linear(theta0, theta1):\n",
    "    \"\"\"\n",
    "    Calculate the mean absolute error on the tips data for a linear model.\n",
    "    \n",
    "    Parameters\n",
    "    ------------\n",
    "    theta0 : intercept of the fitted linear model\n",
    "    theta1 : slope of the fitted linear model\n",
    "    \n",
    "    Returns\n",
    "    ------------\n",
    "    The mean absolute error on the tips data for a linear model.\n",
    "    \"\"\"\n",
    "    return np.mean(np.abs(y_tips - (theta0 + theta1 * x_total_bills)))\n",
    "\n",
    "print(mae_tips_linear(0.5180755329767546, 0.12355450119525357))\n",
    "mae_tips_linear(5.3, 2) # Arbitrarily pick theta0 = 5.3 and theta1 = 2"
   ]
  },
  {
   "cell_type": "markdown",
   "id": "7149cb84",
   "metadata": {},
   "source": [
    "### Question 1.6b (3 points) In this case, unlike in Question 1.4, we do not have explicit analytical solution. So we are going to use the `minimize` function to find the value for $\\hat{\\theta_0}$ and $\\hat{\\theta_1}$. But there is a small technical issue. The `minimize` function can minimize functions of multiple variables. There's one quirk, however, which is that functions have to accept its parameters as a single list, so we will define $\\vec{\\theta} = \\begin{bmatrix}\\theta_0\\\\ \\theta_1 \\end{bmatrix}$, as a single list input to the function.\n",
    "\n",
    "\n",
    "Implement the `mae_tips_linear_list` function, which is exactly like `mae_tips_linear` defined previously except that it takes in a single list of 2 variables rather than two separate variables."
   ]
  },
  {
   "cell_type": "code",
   "execution_count": 429,
   "id": "618e9b1a",
   "metadata": {},
   "outputs": [
    {
     "name": "stdout",
     "output_type": "stream",
     "text": [
      "0.737377571727286\n"
     ]
    },
    {
     "data": {
      "text/plain": [
       "41.87360655737705"
      ]
     },
     "execution_count": 429,
     "metadata": {},
     "output_type": "execute_result"
    }
   ],
   "source": [
    "#Complete the definition of the function and then Run the cell\n",
    "def mae_tips_linear_list(theta):\n",
    "    \"\"\"\n",
    "    Calculate the mean absolute error on the tips data for a linear model.\n",
    "    \n",
    "    Parameters\n",
    "    ------------\n",
    "    theta : a list containg [theta0, theta1]\n",
    "    \n",
    "    Returns\n",
    "    ------------\n",
    "    The mean absolute error on the tips data for a linear model.\n",
    "    \"\"\"\n",
    "    return mae_tips_linear(theta[0], theta[1])\n",
    "\n",
    "print(mae_tips_linear_list([0.5180755329767546, 0.12355450119525357]))\n",
    "mae_tips_linear_list([5.3, 2]) # Arbitrarily pick theta = [5.3, 2]"
   ]
  },
  {
   "cell_type": "markdown",
   "id": "edde3247",
   "metadata": {},
   "source": [
    "### Question 1.6c (3 points) Compute the optimal value for $\\hat{\\theta_0}$ and $\\hat{\\theta_1}$ denoted by `theta0_hat_mae` and `theta1_hat_mae` respectively.\n",
    "\n",
    "**Hint:**\n",
    "* Assign `min_linear_mae` to the result of the `minimize` function which is called with initial `x0 = [0.0, 0.0]`."
   ]
  },
  {
   "cell_type": "code",
   "execution_count": 430,
   "id": "03e28d66",
   "metadata": {},
   "outputs": [
    {
     "data": {
      "text/plain": [
       "(0.5180755329767546, 0.12355450119525357)"
      ]
     },
     "execution_count": 430,
     "metadata": {},
     "output_type": "execute_result"
    }
   ],
   "source": [
    "# Complete the ... part and then Run this cell.\n",
    "min_linear_mae = minimize(mae_tips_linear_list, x0=[0.0, 0.0])\n",
    "theta0_hat_mae = min_linear_mae['x'][0]\n",
    "theta1_hat_mae = min_linear_mae['x'][1]\n",
    "theta0_hat_mae, theta1_hat_mae"
   ]
  },
  {
   "cell_type": "markdown",
   "id": "0d97facc",
   "metadata": {},
   "source": [
    "### Question 1.7 (6 points) Identify some key differences you observe between the **$L_1$ loss** and **$L_2$ loss**. Which one you prefer and why?\n",
    "\n",
    "**Hint:**\n",
    "* You can try ploting `mae_tips_linear` and `mse_tips_linear` to get some idea"
   ]
  },
  {
   "cell_type": "code",
   "execution_count": 465,
   "metadata": {},
   "outputs": [
    {
     "name": "stdout",
     "output_type": "stream",
     "text": [
      "count    244.000000\n",
      "mean       2.998279\n",
      "std        1.383638\n",
      "min        1.000000\n",
      "25%        2.000000\n",
      "50%        2.900000\n",
      "75%        3.562500\n",
      "max       10.000000\n",
      "Name: tip, dtype: float64\n"
     ]
    },
    {
     "data": {
      "text/plain": [
       "<Axes: >"
      ]
     },
     "execution_count": 465,
     "metadata": {},
     "output_type": "execute_result"
    },
    {
     "data": {
      "image/png": "[encoded data removed]",
      "text/plain": [
       "<Figure size 640x480 with 1 Axes>"
      ]
     },
     "metadata": {},
     "output_type": "display_data"
    }
   ],
   "source": [
    "print(tips['tip'].describe())\n",
    "tips['tip'].hist(bins=20)"
   ]
  },
  {
   "cell_type": "code",
   "execution_count": 432,
   "id": "d94452ff",
   "metadata": {},
   "outputs": [],
   "source": [
    "# Simply write your answer to Question 1.7 below and no need to Run this cell\n",
    "# When we choose which loss function to use we have to think about which will be most appropriate to the type of data that we have. \n",
    "# The mean squared error will ampllify any outliers more than the mean absolute error because the mse is a higher power. \n",
    "# So if we think about it in terms of taylor expansion, the ones with lowest power are most accurate close to x0 and the\n",
    "# ones with highest power are most accurate far away from x0. By that token if we have a lot of outliers we should use the mae\n",
    "# In this case the mean and median are very close, the standard deviation is over 30% of the mean though and the highest tip is 10 dollars\n",
    "# while the lowest is 1 dollar. 50% of data is at least 30% off and it is skewed because the tips are cut off at 0 but the upper limit is\n",
    "# technically open. So it seems like we do have some outliers. I think I would use the mae in this case."
   ]
  },
  {
   "cell_type": "markdown",
   "id": "e47db4b7",
   "metadata": {},
   "source": [
    "## 2 Basic Mathematics (22 points) <a id='q2'></a>"
   ]
  },
  {
   "cell_type": "markdown",
   "id": "3c486836",
   "metadata": {},
   "source": [
    "Recall that for the Regression Line we learned in the first half of this semester, it is written as follows:\n",
    "\n",
    "$$\\hat{y} = \\theta_0 + \\theta_1 x,$$\n",
    "\n",
    "where $\\hat{y}$ denotes the predicted value of $y$ for the input value of $x$, $\\theta_0$ is the intercept term and $\\theta_1$ is the slope. \n",
    "\n",
    "In the second-half of this semester, we generalize the above simple linear regression (SLR) by including more varialbes or features so that the formulation of our multiple linear regression model is:\n",
    "\n",
    "$$\\hat{y} = \\theta_0 + \\theta_1 x_1 + \\dots + \\theta_p x_p$$\n",
    "\n",
    "We can rewrite our multiple linear regression model using matrix notation. Let $\\mathbb{Y}$ be the (column) vector of all $n$ observations in our sample. Then our prediction vector $\\hat{\\mathbb{Y}}$ is\n",
    "\n",
    "$$\\Large \\hat{\\mathbb{Y}} = \\mathbb{X} \\theta$$\n",
    "\n",
    "meaning the prediction vector $\\hat{\\mathbb{Y}}$ is just the matrix multiplication between $\\mathbb{X}$ and $\\theta$, where $\\mathbb{X}$ is the **design matrix** representing the $p$ features for all $n$ datapoints in our sample and $\\theta$ is the parameter vector. You can refer to basic rules on the matrix multiplicaiton at wiki link (https://en.wikipedia.org/wiki/Matrix_multiplication) if need.\n",
    "\n",
    "Note that for our SLR model, $p = 1$ and therefore the matrix notation seems rather silly. Nevertheless it is valuable to start small and build on our intuition.\n",
    "\n",
    "Because we have an intercept term $\\theta_0$ in our parameter vector $\\theta$, our design matrix $\\mathbb{X}$ for $p$ features actually has dimension\n",
    "\n",
    "$$ \\Large \\mathbb{X} \\in \\mathbb{R}^{n \\times (p + 1)}$$\n",
    "\n",
    "Therefore, the resulting matrix expression $\\hat{\\mathbb{Y}} = \\mathbb{X} \\theta$ represents $n$ linear equations, where for $i$-th observation, \n",
    "$$\\hat{y_i} = \\theta_0 + \\theta_1 x_1^i + \\dots + \\theta_p x_p^i = [1, x_1^i, \\dots,x_p^i] \\begin{bmatrix}\\theta_0\\\\ \\theta_1 \\\\ \\dots \\\\ \\theta_p \\end{bmatrix}$$.\n",
    "\n",
    "The constant all-ones column of $\\mathbb{X}$ is sometimes called the **bias feature**; $\\theta_0$ is frequently called the **bias or intercept term**."
   ]
  },
  {
   "cell_type": "markdown",
   "id": "119a1581",
   "metadata": {},
   "source": [
    "### Question 2.1 (3 points) As the example dataset for this part (i.e  2 Basic Mathematics), load the dataset named `mpg` into our notebook, denote the dataset by the same name (i.e. `mpg`) and drop any rows that have missing data."
   ]
  },
  {
   "cell_type": "code",
   "execution_count": 433,
   "id": "305e395e",
   "metadata": {},
   "outputs": [
    {
     "data": {
      "text/html": [
       "<div>\n",
       "<style scoped>\n",
       "    .dataframe tbody tr th:only-of-type {\n",
       "        vertical-align: middle;\n",
       "    }\n",
       "\n",
       "    .dataframe tbody tr th {\n",
       "        vertical-align: top;\n",
       "    }\n",
       "\n",
       "    .dataframe thead th {\n",
       "        text-align: right;\n",
       "    }\n",
       "</style>\n",
       "<table border=\"1\" class=\"dataframe\">\n",
       "  <thead>\n",
       "    <tr style=\"text-align: right;\">\n",
       "      <th></th>\n",
       "      <th>mpg</th>\n",
       "      <th>cylinders</th>\n",
       "      <th>displacement</th>\n",
       "      <th>horsepower</th>\n",
       "      <th>weight</th>\n",
       "      <th>acceleration</th>\n",
       "      <th>model_year</th>\n",
       "      <th>origin</th>\n",
       "      <th>name</th>\n",
       "    </tr>\n",
       "  </thead>\n",
       "  <tbody>\n",
       "    <tr>\n",
       "      <th>0</th>\n",
       "      <td>18.0</td>\n",
       "      <td>8</td>\n",
       "      <td>307.0</td>\n",
       "      <td>130.0</td>\n",
       "      <td>3504</td>\n",
       "      <td>12.0</td>\n",
       "      <td>70</td>\n",
       "      <td>usa</td>\n",
       "      <td>chevrolet chevelle malibu</td>\n",
       "    </tr>\n",
       "    <tr>\n",
       "      <th>1</th>\n",
       "      <td>15.0</td>\n",
       "      <td>8</td>\n",
       "      <td>350.0</td>\n",
       "      <td>165.0</td>\n",
       "      <td>3693</td>\n",
       "      <td>11.5</td>\n",
       "      <td>70</td>\n",
       "      <td>usa</td>\n",
       "      <td>buick skylark 320</td>\n",
       "    </tr>\n",
       "    <tr>\n",
       "      <th>2</th>\n",
       "      <td>18.0</td>\n",
       "      <td>8</td>\n",
       "      <td>318.0</td>\n",
       "      <td>150.0</td>\n",
       "      <td>3436</td>\n",
       "      <td>11.0</td>\n",
       "      <td>70</td>\n",
       "      <td>usa</td>\n",
       "      <td>plymouth satellite</td>\n",
       "    </tr>\n",
       "    <tr>\n",
       "      <th>3</th>\n",
       "      <td>16.0</td>\n",
       "      <td>8</td>\n",
       "      <td>304.0</td>\n",
       "      <td>150.0</td>\n",
       "      <td>3433</td>\n",
       "      <td>12.0</td>\n",
       "      <td>70</td>\n",
       "      <td>usa</td>\n",
       "      <td>amc rebel sst</td>\n",
       "    </tr>\n",
       "    <tr>\n",
       "      <th>4</th>\n",
       "      <td>17.0</td>\n",
       "      <td>8</td>\n",
       "      <td>302.0</td>\n",
       "      <td>140.0</td>\n",
       "      <td>3449</td>\n",
       "      <td>10.5</td>\n",
       "      <td>70</td>\n",
       "      <td>usa</td>\n",
       "      <td>ford torino</td>\n",
       "    </tr>\n",
       "  </tbody>\n",
       "</table>\n",
       "</div>"
      ],
      "text/plain": [
       "    mpg  cylinders  displacement  horsepower  weight  acceleration   \n",
       "0  18.0          8         307.0       130.0    3504          12.0  \\\n",
       "1  15.0          8         350.0       165.0    3693          11.5   \n",
       "2  18.0          8         318.0       150.0    3436          11.0   \n",
       "3  16.0          8         304.0       150.0    3433          12.0   \n",
       "4  17.0          8         302.0       140.0    3449          10.5   \n",
       "\n",
       "   model_year origin                       name  \n",
       "0          70    usa  chevrolet chevelle malibu  \n",
       "1          70    usa          buick skylark 320  \n",
       "2          70    usa         plymouth satellite  \n",
       "3          70    usa              amc rebel sst  \n",
       "4          70    usa                ford torino  "
      ]
     },
     "execution_count": 433,
     "metadata": {},
     "output_type": "execute_result"
    }
   ],
   "source": [
    "# Write your codes to Question 2.1 below and then Run this cell\n",
    "mpg = sns.load_dataset('mpg')\n",
    "mpg = mpg.dropna()\n",
    "mpg.head()"
   ]
  },
  {
   "cell_type": "markdown",
   "id": "faca077e",
   "metadata": {},
   "source": [
    "### Question 2.2 (3 points) Implement `add_intercept` which computes a design matrix such that the first (left-most) column is all ones. \n",
    "\n",
    "Note that once we have contruct the all-ones column `bias_feature` by using the `np.ones` function (NumPy [documentation](https://numpy.org/doc/stable/reference/generated/numpy.ones.html?highlight=ones)) properly, we then call `np.concatenate` ([documentation](https://numpy.org/doc/stable/reference/generated/numpy.concatenate.html)) function to generate `design matrix`. This part of code is already written.\n",
    "\n",
    "**Hint:**\n",
    "* `bias_feature` should be a (column) vector of dimension `(n,1)`, not a vector of dimension `(n,)`."
   ]
  },
  {
   "cell_type": "code",
   "execution_count": 434,
   "id": "75aa2952",
   "metadata": {},
   "outputs": [
    {
     "data": {
      "text/plain": [
       "(392, 2)"
      ]
     },
     "execution_count": 434,
     "metadata": {},
     "output_type": "execute_result"
    }
   ],
   "source": [
    "# Complete the ... part of the definition and then Run this cell.\n",
    "def add_intercept(X):\n",
    "    \"\"\"\n",
    "    Return X with a bias feature.\n",
    "    \n",
    "    Parameters\n",
    "    -----------\n",
    "    X: a 2D dataframe of p numeric features\n",
    "    (may also be a 2D numpy array) of shape n x p\n",
    "    \n",
    "    Returns\n",
    "    -----------\n",
    "    A 2D matrix of shape n x (p + 1), where the leftmost\n",
    "    column is a column vector of 1's\n",
    "    \"\"\"\n",
    "    n = X.shape[0]\n",
    "    bias_feature = np.ones((n, 1))\n",
    "    return np.concatenate([bias_feature, X], axis=1)\n",
    "\n",
    "X = add_intercept(mpg[['horsepower']])\n",
    "X.shape"
   ]
  },
  {
   "cell_type": "markdown",
   "id": "4fc9897c",
   "metadata": {},
   "source": [
    "### Question 2.3 (3 points) Define the model by implementing the `linear_model` function.\n",
    "\n",
    "The predictions for all $n$ points in our data are (note $\\theta = (\\theta_0, \\theta_1, \\dots, \\theta_p)$) :\n",
    "$$ \\Large \\hat{\\mathbb{Y}} = \\mathbb{X} \\theta. $$\n",
    "\n",
    "\n",
    "**Hint**: \n",
    "* You can use [np.dot](https://numpy.org/doc/stable/reference/generated/numpy.dot.html), [pd.DataFrame.dot](https://pandas.pydata.org/pandas-docs/stable/generated/pandas.DataFrame.dot.html), or the `@` operator to multiply matrices/vectors. However, while the `@` operator can be used to multiply `numpy` arrays, it generally will not work between two `pandas` dataframe objects, so keep that in mind when computing matrix-vector products!\n"
   ]
  },
  {
   "cell_type": "code",
   "execution_count": 435,
   "id": "f9fc40be",
   "metadata": {},
   "outputs": [],
   "source": [
    "# Complete the definition of the function and then Run the cell\n",
    "def linear_model(thetas, X):\n",
    "    \"\"\"\n",
    "    Return the linear combination of thetas and features as defined above.\n",
    "    \n",
    "    Parameters\n",
    "    -----------\n",
    "    thetas: a 1D vector representing the parameters of our model ([theta1, theta2, ...])\n",
    "    X: a 2D dataframe of numeric features (may also be a 2D numpy array)\n",
    "    \n",
    "    Returns\n",
    "    -----------\n",
    "    A 1D vector representing the linear combination of thetas and features as defined above.\n",
    "    \"\"\"\n",
    "    return X @ thetas"
   ]
  },
  {
   "cell_type": "markdown",
   "id": "922cf1f8",
   "metadata": {},
   "source": [
    "### Question 2.4 (5 points) When we fit a linear model with mean squared error, it is equivalent to the following optimization problem:\n",
    "\n",
    "$$\\Large \\min_{\\theta} ||\\Bbb{X}\\theta - \\Bbb{Y}||^2$$\n",
    "\n",
    "And when $X^T X$ is invertible, there is an analytic solution which is given by the equation (if you are interested, there is a geometric argument with the detail in the [link provided](https://learningds.org/ch/15/linear_multi_fit.html) but not related to this quesiton):\n",
    "\n",
    "$$ \\Large \\hat{\\theta} = (\\Bbb{X}^T\\Bbb{X})^{-1}\\Bbb{X}^T\\Bbb{Y}$$\n",
    "\n",
    "So please implement the analytic solution $\\hat{\\theta}$ using `np.linalg.inv` ([link](https://numpy.org/doc/stable/reference/generated/numpy.linalg.inv.html)) to compute the inverse of $\\Bbb{X}^T\\Bbb{X}$. Note: You can also consider using `np.linalg.solve` ([link](https://numpy.org/doc/stable/reference/generated/numpy.linalg.solve.html)) instead of `np.linalg.inv` because it is more robust (more on StackOverflow [here](https://stackoverflow.com/questions/31256252/why-does-numpy-linalg-solve-offer-more-precise-matrix-inversions-than-numpy-li)). \n",
    "\n",
    "\n",
    "**Hint**: \n",
    "* To compute the transpose of a matrix, you can use `X.T` or `X.transpose()` ([link](https://numpy.org/doc/stable/reference/generated/numpy.ndarray.T.html#numpy.ndarray.T)).\n",
    "\n"
   ]
  },
  {
   "cell_type": "code",
   "execution_count": 436,
   "id": "b075549b",
   "metadata": {},
   "outputs": [
    {
     "data": {
      "text/plain": [
       "array([39.93586102, -0.15784473])"
      ]
     },
     "execution_count": 436,
     "metadata": {},
     "output_type": "execute_result"
    }
   ],
   "source": [
    "#Complete the definition of the function and then Run the cell\n",
    "def get_analytical_sol(X, y):\n",
    "    \"\"\"\n",
    "    Computes the analytical solution to our\n",
    "    least squares problem\n",
    "    \n",
    "    Parameters\n",
    "    -----------\n",
    "    X: a 2D dataframe (or numpy array) of numeric features\n",
    "    y: a 1D vector of tip amounts\n",
    "    \n",
    "    Returns\n",
    "    -----------\n",
    "    The estimate for theta (a 1D vector) computed using the\n",
    "    equation mentioned above.\n",
    "    \"\"\"\n",
    "    return np.linalg.inv(X.T @ X) @ X.T @ y\n",
    "\n",
    "Y = mpg['mpg']\n",
    "analytical_thetas = get_analytical_sol(X, Y)\n",
    "analytical_thetas"
   ]
  },
  {
   "cell_type": "markdown",
   "id": "171c8a7b",
   "metadata": {},
   "source": [
    "### Question 2.5 (in total 8 points) It's great we can have analytic solution for the optimization problems. But unfortunately it's not always the case in reality. For such cases, as we have seen in part 1, we are going to use `minimize` command."
   ]
  },
  {
   "cell_type": "markdown",
   "id": "94132391",
   "metadata": {},
   "source": [
    "### Question 2.5a (3 points) The cell below plots some arbitrary 4th degree polynomial function"
   ]
  },
  {
   "cell_type": "code",
   "execution_count": 437,
   "id": "d3feddf2",
   "metadata": {},
   "outputs": [
    {
     "data": {
      "image/png": "[encoded data removed]",
      "text/plain": [
       "<Figure size 640x480 with 1 Axes>"
      ]
     },
     "metadata": {},
     "output_type": "display_data"
    }
   ],
   "source": [
    "# No further action is needed, just Run the cell.\n",
    "w_values = np.linspace(-4, 2.5, 100)\n",
    "\n",
    "def fx(w):\n",
    "    return 0.1 * w**4 + 0.2*w**3 + 0.2 * w **2 + 1 * w + 10\n",
    "\n",
    "plt.plot(w_values, fx(w_values));\n",
    "plt.title(\"Arbitrary 4th degree polynomial\");"
   ]
  },
  {
   "cell_type": "markdown",
   "id": "8cac2c8d",
   "metadata": {},
   "source": [
    "Compute the minimum value for the function `fx` and the optimal value of `x` which minimizes the function `fx` in the following cell, denoted by `min_of_fx` and `x_which_minimizes_fx` respectively.\n",
    "\n",
    "**Hint:**\n",
    "* Assign `min_result` to the result of `minimize` command.\n",
    "\n",
    "**Initial guess**: The parameter `x0` that we passed to the `minimize` function is where it starts looking for the minimum. For the function above, it doesn't really matter what x we start at because the function is nice. Note that no matter what your actual variable is called in your function (`w` in this case), the `minimize` routine still expects a starting point parameter called `x0`."
   ]
  },
  {
   "cell_type": "code",
   "execution_count": 438,
   "id": "0861f87a",
   "metadata": {},
   "outputs": [
    {
     "data": {
      "text/plain": [
       "(8.728505719866709, -1.746828116813396)"
      ]
     },
     "execution_count": 438,
     "metadata": {},
     "output_type": "execute_result"
    }
   ],
   "source": [
    "#Complete the ... part and then Run the cell\n",
    "min_result = minimize(fx, x0=-3.5)\n",
    "min_of_fx = min_result['fun']\n",
    "x_which_minimizes_fx = min_result['x'][0]\n",
    "min_of_fx, x_which_minimizes_fx"
   ]
  },
  {
   "cell_type": "markdown",
   "id": "0f41568a",
   "metadata": {},
   "source": [
    "### Question 2.5b (5 points) The `minimize` function can minimize functions of multiple variables. But `minimize` isn't perfect. The reason is that if the function we are given has many valleys (also known as local minima), `minimize` can get stuck when trying to minimize the function. So it's useful to have `initial guess` around the true minimum. Provide one suggestion on how we can have a good initial guess."
   ]
  },
  {
   "cell_type": "code",
   "execution_count": 439,
   "id": "5dfb1cd9",
   "metadata": {},
   "outputs": [],
   "source": [
    "# Simply write your answer to Question 2.5b below and no need to Run this cell\n",
    "# We can plot the function graphically and then estimate around which areas the minimum could be. Other methods might include mathematical\n",
    "# analysis I would for example try tailor expansion or see if I can just by looking at the function make a guess.\n",
    "# Other methods could be to find the derivative or seeing if i could factor out terms etc."
   ]
  },
  {
   "cell_type": "markdown",
   "id": "470b180c",
   "metadata": {},
   "source": [
    "## 3 Logistic Regression vs Decision Tree (38 points) <a id='q3'></a>"
   ]
  },
  {
   "cell_type": "markdown",
   "id": "3bd0fbd5",
   "metadata": {},
   "source": [
    "**Backgroud:** In our module, we have covered quite a few basic models and if you are interested, you can pursue further with more advanced data science related modules. A common concern may arise is about how to choose from those models. In fact, with the same data, we can follow different models. In this question, you are going to train a multi-class classifier with two different models (one-vs-rest logistic regression and decision trees) and compare the accuracies and decision boundaries created by each.\n",
    "\n",
    "**Data and Task:** We'll be looking at a dataset of per-game stats for all NBA players in the 2021-22 season. This dataset comes from [basketball-reference.com](https://www.basketball-reference.com/). Our goal will be to predict a player's **position** given several other features."
   ]
  },
  {
   "cell_type": "code",
   "execution_count": 440,
   "id": "76aea95d",
   "metadata": {},
   "outputs": [
    {
     "data": {
      "text/html": [
       "<div>\n",
       "<style scoped>\n",
       "    .dataframe tbody tr th:only-of-type {\n",
       "        vertical-align: middle;\n",
       "    }\n",
       "\n",
       "    .dataframe tbody tr th {\n",
       "        vertical-align: top;\n",
       "    }\n",
       "\n",
       "    .dataframe thead th {\n",
       "        text-align: right;\n",
       "    }\n",
       "</style>\n",
       "<table border=\"1\" class=\"dataframe\">\n",
       "  <thead>\n",
       "    <tr style=\"text-align: right;\">\n",
       "      <th></th>\n",
       "      <th>Rk</th>\n",
       "      <th>Player</th>\n",
       "      <th>Pos</th>\n",
       "      <th>Age</th>\n",
       "      <th>Tm</th>\n",
       "      <th>G</th>\n",
       "      <th>GS</th>\n",
       "      <th>MP</th>\n",
       "      <th>FG</th>\n",
       "      <th>FGA</th>\n",
       "      <th>...</th>\n",
       "      <th>ORB</th>\n",
       "      <th>DRB</th>\n",
       "      <th>TRB</th>\n",
       "      <th>AST</th>\n",
       "      <th>STL</th>\n",
       "      <th>BLK</th>\n",
       "      <th>TOV</th>\n",
       "      <th>PF</th>\n",
       "      <th>PTS</th>\n",
       "      <th>Player-additional</th>\n",
       "    </tr>\n",
       "  </thead>\n",
       "  <tbody>\n",
       "    <tr>\n",
       "      <th>0</th>\n",
       "      <td>1</td>\n",
       "      <td>Precious Achiuwa</td>\n",
       "      <td>C</td>\n",
       "      <td>22</td>\n",
       "      <td>TOR</td>\n",
       "      <td>73</td>\n",
       "      <td>28</td>\n",
       "      <td>23.6</td>\n",
       "      <td>3.6</td>\n",
       "      <td>8.3</td>\n",
       "      <td>...</td>\n",
       "      <td>2.0</td>\n",
       "      <td>4.5</td>\n",
       "      <td>6.5</td>\n",
       "      <td>1.1</td>\n",
       "      <td>0.5</td>\n",
       "      <td>0.6</td>\n",
       "      <td>1.2</td>\n",
       "      <td>2.1</td>\n",
       "      <td>9.1</td>\n",
       "      <td>achiupr01</td>\n",
       "    </tr>\n",
       "    <tr>\n",
       "      <th>1</th>\n",
       "      <td>2</td>\n",
       "      <td>Steven Adams</td>\n",
       "      <td>C</td>\n",
       "      <td>28</td>\n",
       "      <td>MEM</td>\n",
       "      <td>76</td>\n",
       "      <td>75</td>\n",
       "      <td>26.3</td>\n",
       "      <td>2.8</td>\n",
       "      <td>5.1</td>\n",
       "      <td>...</td>\n",
       "      <td>4.6</td>\n",
       "      <td>5.4</td>\n",
       "      <td>10.0</td>\n",
       "      <td>3.4</td>\n",
       "      <td>0.9</td>\n",
       "      <td>0.8</td>\n",
       "      <td>1.5</td>\n",
       "      <td>2.0</td>\n",
       "      <td>6.9</td>\n",
       "      <td>adamsst01</td>\n",
       "    </tr>\n",
       "    <tr>\n",
       "      <th>2</th>\n",
       "      <td>3</td>\n",
       "      <td>Bam Adebayo</td>\n",
       "      <td>C</td>\n",
       "      <td>24</td>\n",
       "      <td>MIA</td>\n",
       "      <td>56</td>\n",
       "      <td>56</td>\n",
       "      <td>32.6</td>\n",
       "      <td>7.3</td>\n",
       "      <td>13.0</td>\n",
       "      <td>...</td>\n",
       "      <td>2.4</td>\n",
       "      <td>7.6</td>\n",
       "      <td>10.1</td>\n",
       "      <td>3.4</td>\n",
       "      <td>1.4</td>\n",
       "      <td>0.8</td>\n",
       "      <td>2.6</td>\n",
       "      <td>3.1</td>\n",
       "      <td>19.1</td>\n",
       "      <td>adebaba01</td>\n",
       "    </tr>\n",
       "    <tr>\n",
       "      <th>3</th>\n",
       "      <td>4</td>\n",
       "      <td>Santi Aldama</td>\n",
       "      <td>PF</td>\n",
       "      <td>21</td>\n",
       "      <td>MEM</td>\n",
       "      <td>32</td>\n",
       "      <td>0</td>\n",
       "      <td>11.3</td>\n",
       "      <td>1.7</td>\n",
       "      <td>4.1</td>\n",
       "      <td>...</td>\n",
       "      <td>1.0</td>\n",
       "      <td>1.7</td>\n",
       "      <td>2.7</td>\n",
       "      <td>0.7</td>\n",
       "      <td>0.2</td>\n",
       "      <td>0.3</td>\n",
       "      <td>0.5</td>\n",
       "      <td>1.1</td>\n",
       "      <td>4.1</td>\n",
       "      <td>aldamsa01</td>\n",
       "    </tr>\n",
       "    <tr>\n",
       "      <th>4</th>\n",
       "      <td>5</td>\n",
       "      <td>LaMarcus Aldridge</td>\n",
       "      <td>C</td>\n",
       "      <td>36</td>\n",
       "      <td>BRK</td>\n",
       "      <td>47</td>\n",
       "      <td>12</td>\n",
       "      <td>22.3</td>\n",
       "      <td>5.4</td>\n",
       "      <td>9.7</td>\n",
       "      <td>...</td>\n",
       "      <td>1.6</td>\n",
       "      <td>3.9</td>\n",
       "      <td>5.5</td>\n",
       "      <td>0.9</td>\n",
       "      <td>0.3</td>\n",
       "      <td>1.0</td>\n",
       "      <td>0.9</td>\n",
       "      <td>1.7</td>\n",
       "      <td>12.9</td>\n",
       "      <td>aldrila01</td>\n",
       "    </tr>\n",
       "  </tbody>\n",
       "</table>\n",
       "<p>5 rows × 31 columns</p>\n",
       "</div>"
      ],
      "text/plain": [
       "   Rk             Player Pos  Age   Tm   G  GS    MP   FG   FGA  ...  ORB   \n",
       "0   1   Precious Achiuwa   C   22  TOR  73  28  23.6  3.6   8.3  ...  2.0  \\\n",
       "1   2       Steven Adams   C   28  MEM  76  75  26.3  2.8   5.1  ...  4.6   \n",
       "2   3        Bam Adebayo   C   24  MIA  56  56  32.6  7.3  13.0  ...  2.4   \n",
       "3   4       Santi Aldama  PF   21  MEM  32   0  11.3  1.7   4.1  ...  1.0   \n",
       "4   5  LaMarcus Aldridge   C   36  BRK  47  12  22.3  5.4   9.7  ...  1.6   \n",
       "\n",
       "   DRB   TRB  AST  STL  BLK  TOV   PF   PTS  Player-additional  \n",
       "0  4.5   6.5  1.1  0.5  0.6  1.2  2.1   9.1          achiupr01  \n",
       "1  5.4  10.0  3.4  0.9  0.8  1.5  2.0   6.9          adamsst01  \n",
       "2  7.6  10.1  3.4  1.4  0.8  2.6  3.1  19.1          adebaba01  \n",
       "3  1.7   2.7  0.7  0.2  0.3  0.5  1.1   4.1          aldamsa01  \n",
       "4  3.9   5.5  0.9  0.3  1.0  0.9  1.7  12.9          aldrila01  \n",
       "\n",
       "[5 rows x 31 columns]"
      ]
     },
     "execution_count": 440,
     "metadata": {},
     "output_type": "execute_result"
    }
   ],
   "source": [
    "# just run this cell\n",
    "nba_data = pd.read_csv(\"nba21-22.csv\")\n",
    "nba_data.head()"
   ]
  },
  {
   "cell_type": "markdown",
   "id": "73d6d123",
   "metadata": {},
   "source": [
    "There are several features we could use to predict about position. For our purpose, we will restrict our exploration to two inputs: Rebounds (TRB) and Assists (AST). The main reason is that two-input features models will make our 2-D visualizations more straightforward.\n",
    "\n",
    "The 5 most common positions in basketball are PG, SG, SF, PF, and C (which stand for point guard, shooting guard, small forward, power forward, and center; [Wikipedia](https://en.wikipedia.org/wiki/Basketball_positions)). This information is contained in the `Pos` column of the dataset. While we could set out to try and perform 5-class classification, the results (and visualizations) are slightly more interesting if we try and categorize players into 1 of 3 categories: **Guard**, **Forward**, and **Center** by using the `basic_position` function defined as follows:"
   ]
  },
  {
   "cell_type": "code",
   "execution_count": 441,
   "id": "d5855347",
   "metadata": {},
   "outputs": [],
   "source": [
    "# just run this cell\n",
    "def basic_position(pos):\n",
    "    if 'F' in pos:\n",
    "        return 'F'\n",
    "    elif 'G' in pos:\n",
    "        return 'G'\n",
    "    return 'C'"
   ]
  },
  {
   "cell_type": "markdown",
   "id": "72ae3750",
   "metadata": {},
   "source": [
    "### Question 3.1 (2 points)  Take the `Pos` column of our dataframe and use it to create a new column `Pos3` that consist of values `'G'`, `'F'`, and `'C'` (which stand for Guard, Forward, and Center)."
   ]
  },
  {
   "cell_type": "code",
   "execution_count": 442,
   "id": "214f27d2",
   "metadata": {},
   "outputs": [
    {
     "data": {
      "text/plain": [
       "0      C\n",
       "1      C\n",
       "2      C\n",
       "3      F\n",
       "4      C\n",
       "      ..\n",
       "807    F\n",
       "808    G\n",
       "809    C\n",
       "810    C\n",
       "811    C\n",
       "Name: Pos3, Length: 812, dtype: object"
      ]
     },
     "execution_count": 442,
     "metadata": {},
     "output_type": "execute_result"
    }
   ],
   "source": [
    "# Complete ... part below and then Run this cell\n",
    "nba_data['Pos3'] = nba_data['Pos'].apply(basic_position)\n",
    "nba_data['Pos3']"
   ]
  },
  {
   "cell_type": "markdown",
   "id": "7a90754c",
   "metadata": {},
   "source": [
    "### Question 3.2 (3 points) Since there are many players in the NBA (in the 2021-22 season there were over 600 unique players), our visualizations may get noisy and messy. Let's restrict our data to only contain rows for players that averaged 10 or more points (as shown in the `PTS` column) per game. The new dataset is still named as `nba_data`."
   ]
  },
  {
   "cell_type": "code",
   "execution_count": 443,
   "id": "6188fe47",
   "metadata": {},
   "outputs": [
    {
     "data": {
      "text/html": [
       "<div>\n",
       "<style scoped>\n",
       "    .dataframe tbody tr th:only-of-type {\n",
       "        vertical-align: middle;\n",
       "    }\n",
       "\n",
       "    .dataframe tbody tr th {\n",
       "        vertical-align: top;\n",
       "    }\n",
       "\n",
       "    .dataframe thead th {\n",
       "        text-align: right;\n",
       "    }\n",
       "</style>\n",
       "<table border=\"1\" class=\"dataframe\">\n",
       "  <thead>\n",
       "    <tr style=\"text-align: right;\">\n",
       "      <th></th>\n",
       "      <th>Rk</th>\n",
       "      <th>Player</th>\n",
       "      <th>Pos</th>\n",
       "      <th>Age</th>\n",
       "      <th>Tm</th>\n",
       "      <th>G</th>\n",
       "      <th>GS</th>\n",
       "      <th>MP</th>\n",
       "      <th>FG</th>\n",
       "      <th>FGA</th>\n",
       "      <th>...</th>\n",
       "      <th>DRB</th>\n",
       "      <th>TRB</th>\n",
       "      <th>AST</th>\n",
       "      <th>STL</th>\n",
       "      <th>BLK</th>\n",
       "      <th>TOV</th>\n",
       "      <th>PF</th>\n",
       "      <th>PTS</th>\n",
       "      <th>Player-additional</th>\n",
       "      <th>Pos3</th>\n",
       "    </tr>\n",
       "  </thead>\n",
       "  <tbody>\n",
       "    <tr>\n",
       "      <th>2</th>\n",
       "      <td>3</td>\n",
       "      <td>Bam Adebayo</td>\n",
       "      <td>C</td>\n",
       "      <td>24</td>\n",
       "      <td>MIA</td>\n",
       "      <td>56</td>\n",
       "      <td>56</td>\n",
       "      <td>32.6</td>\n",
       "      <td>7.3</td>\n",
       "      <td>13.0</td>\n",
       "      <td>...</td>\n",
       "      <td>7.6</td>\n",
       "      <td>10.1</td>\n",
       "      <td>3.4</td>\n",
       "      <td>1.4</td>\n",
       "      <td>0.8</td>\n",
       "      <td>2.6</td>\n",
       "      <td>3.1</td>\n",
       "      <td>19.1</td>\n",
       "      <td>adebaba01</td>\n",
       "      <td>C</td>\n",
       "    </tr>\n",
       "    <tr>\n",
       "      <th>4</th>\n",
       "      <td>5</td>\n",
       "      <td>LaMarcus Aldridge</td>\n",
       "      <td>C</td>\n",
       "      <td>36</td>\n",
       "      <td>BRK</td>\n",
       "      <td>47</td>\n",
       "      <td>12</td>\n",
       "      <td>22.3</td>\n",
       "      <td>5.4</td>\n",
       "      <td>9.7</td>\n",
       "      <td>...</td>\n",
       "      <td>3.9</td>\n",
       "      <td>5.5</td>\n",
       "      <td>0.9</td>\n",
       "      <td>0.3</td>\n",
       "      <td>1.0</td>\n",
       "      <td>0.9</td>\n",
       "      <td>1.7</td>\n",
       "      <td>12.9</td>\n",
       "      <td>aldrila01</td>\n",
       "      <td>C</td>\n",
       "    </tr>\n",
       "    <tr>\n",
       "      <th>5</th>\n",
       "      <td>6</td>\n",
       "      <td>Nickeil Alexander-Walker</td>\n",
       "      <td>SG</td>\n",
       "      <td>23</td>\n",
       "      <td>TOT</td>\n",
       "      <td>65</td>\n",
       "      <td>21</td>\n",
       "      <td>22.6</td>\n",
       "      <td>3.9</td>\n",
       "      <td>10.5</td>\n",
       "      <td>...</td>\n",
       "      <td>2.3</td>\n",
       "      <td>2.9</td>\n",
       "      <td>2.4</td>\n",
       "      <td>0.7</td>\n",
       "      <td>0.4</td>\n",
       "      <td>1.4</td>\n",
       "      <td>1.6</td>\n",
       "      <td>10.6</td>\n",
       "      <td>alexani01</td>\n",
       "      <td>G</td>\n",
       "    </tr>\n",
       "    <tr>\n",
       "      <th>6</th>\n",
       "      <td>6</td>\n",
       "      <td>Nickeil Alexander-Walker</td>\n",
       "      <td>SG</td>\n",
       "      <td>23</td>\n",
       "      <td>NOP</td>\n",
       "      <td>50</td>\n",
       "      <td>19</td>\n",
       "      <td>26.3</td>\n",
       "      <td>4.7</td>\n",
       "      <td>12.6</td>\n",
       "      <td>...</td>\n",
       "      <td>2.6</td>\n",
       "      <td>3.3</td>\n",
       "      <td>2.8</td>\n",
       "      <td>0.8</td>\n",
       "      <td>0.4</td>\n",
       "      <td>1.7</td>\n",
       "      <td>1.8</td>\n",
       "      <td>12.8</td>\n",
       "      <td>alexani01</td>\n",
       "      <td>G</td>\n",
       "    </tr>\n",
       "    <tr>\n",
       "      <th>8</th>\n",
       "      <td>7</td>\n",
       "      <td>Grayson Allen</td>\n",
       "      <td>SG</td>\n",
       "      <td>26</td>\n",
       "      <td>MIL</td>\n",
       "      <td>66</td>\n",
       "      <td>61</td>\n",
       "      <td>27.3</td>\n",
       "      <td>3.9</td>\n",
       "      <td>8.6</td>\n",
       "      <td>...</td>\n",
       "      <td>2.9</td>\n",
       "      <td>3.4</td>\n",
       "      <td>1.5</td>\n",
       "      <td>0.7</td>\n",
       "      <td>0.3</td>\n",
       "      <td>0.7</td>\n",
       "      <td>1.5</td>\n",
       "      <td>11.1</td>\n",
       "      <td>allengr01</td>\n",
       "      <td>G</td>\n",
       "    </tr>\n",
       "    <tr>\n",
       "      <th>...</th>\n",
       "      <td>...</td>\n",
       "      <td>...</td>\n",
       "      <td>...</td>\n",
       "      <td>...</td>\n",
       "      <td>...</td>\n",
       "      <td>...</td>\n",
       "      <td>...</td>\n",
       "      <td>...</td>\n",
       "      <td>...</td>\n",
       "      <td>...</td>\n",
       "      <td>...</td>\n",
       "      <td>...</td>\n",
       "      <td>...</td>\n",
       "      <td>...</td>\n",
       "      <td>...</td>\n",
       "      <td>...</td>\n",
       "      <td>...</td>\n",
       "      <td>...</td>\n",
       "      <td>...</td>\n",
       "      <td>...</td>\n",
       "      <td>...</td>\n",
       "    </tr>\n",
       "    <tr>\n",
       "      <th>789</th>\n",
       "      <td>589</td>\n",
       "      <td>Robert Williams</td>\n",
       "      <td>C</td>\n",
       "      <td>24</td>\n",
       "      <td>BOS</td>\n",
       "      <td>61</td>\n",
       "      <td>61</td>\n",
       "      <td>29.6</td>\n",
       "      <td>4.4</td>\n",
       "      <td>6.0</td>\n",
       "      <td>...</td>\n",
       "      <td>5.7</td>\n",
       "      <td>9.6</td>\n",
       "      <td>2.0</td>\n",
       "      <td>0.9</td>\n",
       "      <td>2.2</td>\n",
       "      <td>1.0</td>\n",
       "      <td>2.2</td>\n",
       "      <td>10.0</td>\n",
       "      <td>williro04</td>\n",
       "      <td>C</td>\n",
       "    </tr>\n",
       "    <tr>\n",
       "      <th>795</th>\n",
       "      <td>593</td>\n",
       "      <td>Justise Winslow</td>\n",
       "      <td>PF</td>\n",
       "      <td>25</td>\n",
       "      <td>POR</td>\n",
       "      <td>11</td>\n",
       "      <td>10</td>\n",
       "      <td>26.8</td>\n",
       "      <td>4.3</td>\n",
       "      <td>10.5</td>\n",
       "      <td>...</td>\n",
       "      <td>4.5</td>\n",
       "      <td>6.3</td>\n",
       "      <td>2.9</td>\n",
       "      <td>1.3</td>\n",
       "      <td>0.6</td>\n",
       "      <td>1.1</td>\n",
       "      <td>1.9</td>\n",
       "      <td>10.7</td>\n",
       "      <td>winslju01</td>\n",
       "      <td>F</td>\n",
       "    </tr>\n",
       "    <tr>\n",
       "      <th>797</th>\n",
       "      <td>595</td>\n",
       "      <td>Christian Wood</td>\n",
       "      <td>C</td>\n",
       "      <td>26</td>\n",
       "      <td>HOU</td>\n",
       "      <td>68</td>\n",
       "      <td>67</td>\n",
       "      <td>30.8</td>\n",
       "      <td>6.5</td>\n",
       "      <td>12.9</td>\n",
       "      <td>...</td>\n",
       "      <td>8.5</td>\n",
       "      <td>10.1</td>\n",
       "      <td>2.3</td>\n",
       "      <td>0.8</td>\n",
       "      <td>1.0</td>\n",
       "      <td>1.9</td>\n",
       "      <td>2.5</td>\n",
       "      <td>17.9</td>\n",
       "      <td>woodch01</td>\n",
       "      <td>C</td>\n",
       "    </tr>\n",
       "    <tr>\n",
       "      <th>808</th>\n",
       "      <td>602</td>\n",
       "      <td>Trae Young</td>\n",
       "      <td>PG</td>\n",
       "      <td>23</td>\n",
       "      <td>ATL</td>\n",
       "      <td>76</td>\n",
       "      <td>76</td>\n",
       "      <td>34.9</td>\n",
       "      <td>9.4</td>\n",
       "      <td>20.3</td>\n",
       "      <td>...</td>\n",
       "      <td>3.1</td>\n",
       "      <td>3.7</td>\n",
       "      <td>9.7</td>\n",
       "      <td>0.9</td>\n",
       "      <td>0.1</td>\n",
       "      <td>4.0</td>\n",
       "      <td>1.7</td>\n",
       "      <td>28.4</td>\n",
       "      <td>youngtr01</td>\n",
       "      <td>G</td>\n",
       "    </tr>\n",
       "    <tr>\n",
       "      <th>811</th>\n",
       "      <td>605</td>\n",
       "      <td>Ivica Zubac</td>\n",
       "      <td>C</td>\n",
       "      <td>24</td>\n",
       "      <td>LAC</td>\n",
       "      <td>76</td>\n",
       "      <td>76</td>\n",
       "      <td>24.4</td>\n",
       "      <td>4.1</td>\n",
       "      <td>6.5</td>\n",
       "      <td>...</td>\n",
       "      <td>5.6</td>\n",
       "      <td>8.5</td>\n",
       "      <td>1.6</td>\n",
       "      <td>0.5</td>\n",
       "      <td>1.0</td>\n",
       "      <td>1.5</td>\n",
       "      <td>2.7</td>\n",
       "      <td>10.3</td>\n",
       "      <td>zubaciv01</td>\n",
       "      <td>C</td>\n",
       "    </tr>\n",
       "  </tbody>\n",
       "</table>\n",
       "<p>232 rows × 32 columns</p>\n",
       "</div>"
      ],
      "text/plain": [
       "      Rk                    Player Pos  Age   Tm   G  GS    MP   FG   FGA   \n",
       "2      3               Bam Adebayo   C   24  MIA  56  56  32.6  7.3  13.0  \\\n",
       "4      5         LaMarcus Aldridge   C   36  BRK  47  12  22.3  5.4   9.7   \n",
       "5      6  Nickeil Alexander-Walker  SG   23  TOT  65  21  22.6  3.9  10.5   \n",
       "6      6  Nickeil Alexander-Walker  SG   23  NOP  50  19  26.3  4.7  12.6   \n",
       "8      7             Grayson Allen  SG   26  MIL  66  61  27.3  3.9   8.6   \n",
       "..   ...                       ...  ..  ...  ...  ..  ..   ...  ...   ...   \n",
       "789  589           Robert Williams   C   24  BOS  61  61  29.6  4.4   6.0   \n",
       "795  593           Justise Winslow  PF   25  POR  11  10  26.8  4.3  10.5   \n",
       "797  595            Christian Wood   C   26  HOU  68  67  30.8  6.5  12.9   \n",
       "808  602                Trae Young  PG   23  ATL  76  76  34.9  9.4  20.3   \n",
       "811  605               Ivica Zubac   C   24  LAC  76  76  24.4  4.1   6.5   \n",
       "\n",
       "     ...  DRB   TRB  AST  STL  BLK  TOV   PF   PTS  Player-additional  Pos3  \n",
       "2    ...  7.6  10.1  3.4  1.4  0.8  2.6  3.1  19.1          adebaba01     C  \n",
       "4    ...  3.9   5.5  0.9  0.3  1.0  0.9  1.7  12.9          aldrila01     C  \n",
       "5    ...  2.3   2.9  2.4  0.7  0.4  1.4  1.6  10.6          alexani01     G  \n",
       "6    ...  2.6   3.3  2.8  0.8  0.4  1.7  1.8  12.8          alexani01     G  \n",
       "8    ...  2.9   3.4  1.5  0.7  0.3  0.7  1.5  11.1          allengr01     G  \n",
       "..   ...  ...   ...  ...  ...  ...  ...  ...   ...                ...   ...  \n",
       "789  ...  5.7   9.6  2.0  0.9  2.2  1.0  2.2  10.0          williro04     C  \n",
       "795  ...  4.5   6.3  2.9  1.3  0.6  1.1  1.9  10.7          winslju01     F  \n",
       "797  ...  8.5  10.1  2.3  0.8  1.0  1.9  2.5  17.9           woodch01     C  \n",
       "808  ...  3.1   3.7  9.7  0.9  0.1  4.0  1.7  28.4          youngtr01     G  \n",
       "811  ...  5.6   8.5  1.6  0.5  1.0  1.5  2.7  10.3          zubaciv01     C  \n",
       "\n",
       "[232 rows x 32 columns]"
      ]
     },
     "execution_count": 443,
     "metadata": {},
     "output_type": "execute_result"
    }
   ],
   "source": [
    "# Complete ... part below and then Run this cell\n",
    "nba_data = nba_data[nba_data['PTS'] >= 10]\n",
    "nba_data"
   ]
  },
  {
   "cell_type": "markdown",
   "id": "e3d4193b",
   "metadata": {},
   "source": [
    "Let's have a look what the whole dataset look like with different values in features and their corrsponding positions."
   ]
  },
  {
   "cell_type": "code",
   "execution_count": 444,
   "id": "23c68319",
   "metadata": {},
   "outputs": [
    {
     "data": {
      "image/png": "[encoded data removed]",
      "text/plain": [
       "<Figure size 640x480 with 1 Axes>"
      ]
     },
     "metadata": {},
     "output_type": "display_data"
    }
   ],
   "source": [
    "# just run this cell\n",
    "sns.scatterplot(data = nba_data, x = 'AST', y = 'TRB', hue = 'Pos3');"
   ]
  },
  {
   "cell_type": "markdown",
   "id": "8c482933",
   "metadata": {},
   "source": [
    "### Question 3.3 (2 points) Before fitting any models, let's first split nba_data into a training set and test set. \n",
    "\n",
    "**Hint:**\n",
    "* Using `train_test_split` command by setting `random_state=100` and `test_size = 0.25`."
   ]
  },
  {
   "cell_type": "code",
   "execution_count": 445,
   "id": "532225e5",
   "metadata": {},
   "outputs": [
    {
     "data": {
      "text/html": [
       "<div>\n",
       "<style scoped>\n",
       "    .dataframe tbody tr th:only-of-type {\n",
       "        vertical-align: middle;\n",
       "    }\n",
       "\n",
       "    .dataframe tbody tr th {\n",
       "        vertical-align: top;\n",
       "    }\n",
       "\n",
       "    .dataframe thead th {\n",
       "        text-align: right;\n",
       "    }\n",
       "</style>\n",
       "<table border=\"1\" class=\"dataframe\">\n",
       "  <thead>\n",
       "    <tr style=\"text-align: right;\">\n",
       "      <th></th>\n",
       "      <th>Rk</th>\n",
       "      <th>Player</th>\n",
       "      <th>Pos</th>\n",
       "      <th>Age</th>\n",
       "      <th>Tm</th>\n",
       "      <th>G</th>\n",
       "      <th>GS</th>\n",
       "      <th>MP</th>\n",
       "      <th>FG</th>\n",
       "      <th>FGA</th>\n",
       "      <th>...</th>\n",
       "      <th>DRB</th>\n",
       "      <th>TRB</th>\n",
       "      <th>AST</th>\n",
       "      <th>STL</th>\n",
       "      <th>BLK</th>\n",
       "      <th>TOV</th>\n",
       "      <th>PF</th>\n",
       "      <th>PTS</th>\n",
       "      <th>Player-additional</th>\n",
       "      <th>Pos3</th>\n",
       "    </tr>\n",
       "  </thead>\n",
       "  <tbody>\n",
       "    <tr>\n",
       "      <th>608</th>\n",
       "      <td>459</td>\n",
       "      <td>Norman Powell</td>\n",
       "      <td>SF</td>\n",
       "      <td>28</td>\n",
       "      <td>POR</td>\n",
       "      <td>40</td>\n",
       "      <td>39</td>\n",
       "      <td>33.3</td>\n",
       "      <td>6.2</td>\n",
       "      <td>13.6</td>\n",
       "      <td>...</td>\n",
       "      <td>2.9</td>\n",
       "      <td>3.3</td>\n",
       "      <td>2.1</td>\n",
       "      <td>1.0</td>\n",
       "      <td>0.4</td>\n",
       "      <td>1.6</td>\n",
       "      <td>2.3</td>\n",
       "      <td>18.7</td>\n",
       "      <td>powelno01</td>\n",
       "      <td>F</td>\n",
       "    </tr>\n",
       "    <tr>\n",
       "      <th>784</th>\n",
       "      <td>584</td>\n",
       "      <td>Brandon Williams</td>\n",
       "      <td>PG</td>\n",
       "      <td>22</td>\n",
       "      <td>POR</td>\n",
       "      <td>24</td>\n",
       "      <td>16</td>\n",
       "      <td>26.7</td>\n",
       "      <td>4.4</td>\n",
       "      <td>11.8</td>\n",
       "      <td>...</td>\n",
       "      <td>2.3</td>\n",
       "      <td>3.1</td>\n",
       "      <td>3.9</td>\n",
       "      <td>1.0</td>\n",
       "      <td>0.4</td>\n",
       "      <td>2.4</td>\n",
       "      <td>2.2</td>\n",
       "      <td>12.9</td>\n",
       "      <td>willibr03</td>\n",
       "      <td>G</td>\n",
       "    </tr>\n",
       "    <tr>\n",
       "      <th>672</th>\n",
       "      <td>504</td>\n",
       "      <td>Anfernee Simons</td>\n",
       "      <td>SG</td>\n",
       "      <td>22</td>\n",
       "      <td>POR</td>\n",
       "      <td>57</td>\n",
       "      <td>30</td>\n",
       "      <td>29.5</td>\n",
       "      <td>6.2</td>\n",
       "      <td>14.0</td>\n",
       "      <td>...</td>\n",
       "      <td>2.2</td>\n",
       "      <td>2.6</td>\n",
       "      <td>3.9</td>\n",
       "      <td>0.5</td>\n",
       "      <td>0.1</td>\n",
       "      <td>2.0</td>\n",
       "      <td>1.9</td>\n",
       "      <td>17.3</td>\n",
       "      <td>simonan01</td>\n",
       "      <td>G</td>\n",
       "    </tr>\n",
       "    <tr>\n",
       "      <th>507</th>\n",
       "      <td>377</td>\n",
       "      <td>Khris Middleton</td>\n",
       "      <td>SF</td>\n",
       "      <td>30</td>\n",
       "      <td>MIL</td>\n",
       "      <td>66</td>\n",
       "      <td>66</td>\n",
       "      <td>32.4</td>\n",
       "      <td>6.8</td>\n",
       "      <td>15.5</td>\n",
       "      <td>...</td>\n",
       "      <td>4.8</td>\n",
       "      <td>5.4</td>\n",
       "      <td>5.4</td>\n",
       "      <td>1.2</td>\n",
       "      <td>0.3</td>\n",
       "      <td>2.9</td>\n",
       "      <td>2.4</td>\n",
       "      <td>20.1</td>\n",
       "      <td>middlkh01</td>\n",
       "      <td>F</td>\n",
       "    </tr>\n",
       "    <tr>\n",
       "      <th>158</th>\n",
       "      <td>125</td>\n",
       "      <td>Seth Curry</td>\n",
       "      <td>SG</td>\n",
       "      <td>31</td>\n",
       "      <td>BRK</td>\n",
       "      <td>19</td>\n",
       "      <td>19</td>\n",
       "      <td>29.9</td>\n",
       "      <td>5.5</td>\n",
       "      <td>11.1</td>\n",
       "      <td>...</td>\n",
       "      <td>2.4</td>\n",
       "      <td>2.6</td>\n",
       "      <td>2.6</td>\n",
       "      <td>0.9</td>\n",
       "      <td>0.2</td>\n",
       "      <td>1.3</td>\n",
       "      <td>2.5</td>\n",
       "      <td>14.9</td>\n",
       "      <td>curryse01</td>\n",
       "      <td>G</td>\n",
       "    </tr>\n",
       "  </tbody>\n",
       "</table>\n",
       "<p>5 rows × 32 columns</p>\n",
       "</div>"
      ],
      "text/plain": [
       "      Rk            Player Pos  Age   Tm   G  GS    MP   FG   FGA  ...  DRB   \n",
       "608  459     Norman Powell  SF   28  POR  40  39  33.3  6.2  13.6  ...  2.9  \\\n",
       "784  584  Brandon Williams  PG   22  POR  24  16  26.7  4.4  11.8  ...  2.3   \n",
       "672  504   Anfernee Simons  SG   22  POR  57  30  29.5  6.2  14.0  ...  2.2   \n",
       "507  377   Khris Middleton  SF   30  MIL  66  66  32.4  6.8  15.5  ...  4.8   \n",
       "158  125        Seth Curry  SG   31  BRK  19  19  29.9  5.5  11.1  ...  2.4   \n",
       "\n",
       "     TRB  AST  STL  BLK  TOV   PF   PTS  Player-additional  Pos3  \n",
       "608  3.3  2.1  1.0  0.4  1.6  2.3  18.7          powelno01     F  \n",
       "784  3.1  3.9  1.0  0.4  2.4  2.2  12.9          willibr03     G  \n",
       "672  2.6  3.9  0.5  0.1  2.0  1.9  17.3          simonan01     G  \n",
       "507  5.4  5.4  1.2  0.3  2.9  2.4  20.1          middlkh01     F  \n",
       "158  2.6  2.6  0.9  0.2  1.3  2.5  14.9          curryse01     G  \n",
       "\n",
       "[5 rows x 32 columns]"
      ]
     },
     "execution_count": 445,
     "metadata": {},
     "output_type": "execute_result"
    }
   ],
   "source": [
    "# Complete ... part below and then Run this cell\n",
    "nba_train, nba_test = train_test_split(nba_data, random_state=100, test_size=0.25)\n",
    "nba_test.head(5)"
   ]
  },
  {
   "cell_type": "markdown",
   "id": "a02d1dfb",
   "metadata": {},
   "source": [
    "### One-vs-rest Logistic Regression\n",
    "\n",
    "We only discussed binary logistic regression in class, but there is a natural extension of binary logistic regression called one-vs-rest logistic regression for multiclass classification. In essence, one-vs-rest logistic regression simply builds one binary logistic regression classifier for each of the `N` classes (in this scenario  𝑁=3). We then predict the class corresponding to the classifier that gives the highest probability among the `N` classes."
   ]
  },
  {
   "cell_type": "markdown",
   "id": "2d5e02d9",
   "metadata": {},
   "source": [
    "### Question 3.4 (5 points) In the cell below, set `logistic_regression_model` to be a one-vs-rest logistic regression model. Then, fit that model using the `AST` and `TRB` columns (in that order) from `nba_train` as our features, and `Pos3` as our response variable.\n",
    "\n",
    "**Hint:**\n",
    "* `sklearn.linear_model.LogisticRegression` ([documentation](https://scikit-learn.org/stable/modules/generated/sklearn.linear_model.LogisticRegression.html)) has already been imported for you. There is an optional parameter **`multi_class`** you need to specify in order to make your model a multi-class one-vs-rest classifier. See the documentation for more details.\n"
   ]
  },
  {
   "cell_type": "code",
   "execution_count": 446,
   "id": "75424839",
   "metadata": {},
   "outputs": [
    {
     "data": {
      "text/html": [
       "<style>#sk-container-id-16 {color: black;background-color: white;}#sk-container-id-16 pre{padding: 0;}#sk-container-id-16 div.sk-toggleable {background-color: white;}#sk-container-id-16 label.sk-toggleable__label {cursor: pointer;display: block;width: 100%;margin-bottom: 0;padding: 0.3em;box-sizing: border-box;text-align: center;}#sk-container-id-16 label.sk-toggleable__label-arrow:before {content: \"▸\";float: left;margin-right: 0.25em;color: #696969;}#sk-container-id-16 label.sk-toggleable__label-arrow:hover:before {color: black;}#sk-container-id-16 div.sk-estimator:hover label.sk-toggleable__label-arrow:before {color: black;}#sk-container-id-16 div.sk-toggleable__content {max-height: 0;max-width: 0;overflow: hidden;text-align: left;background-color: #f0f8ff;}#sk-container-id-16 div.sk-toggleable__content pre {margin: 0.2em;color: black;border-radius: 0.25em;background-color: #f0f8ff;}#sk-container-id-16 input.sk-toggleable__control:checked~div.sk-toggleable__content {max-height: 200px;max-width: 100%;overflow: auto;}#sk-container-id-16 input.sk-toggleable__control:checked~label.sk-toggleable__label-arrow:before {content: \"▾\";}#sk-container-id-16 div.sk-estimator input.sk-toggleable__control:checked~label.sk-toggleable__label {background-color: #d4ebff;}#sk-container-id-16 div.sk-label input.sk-toggleable__control:checked~label.sk-toggleable__label {background-color: #d4ebff;}#sk-container-id-16 input.sk-hidden--visually {border: 0;clip: rect(1px 1px 1px 1px);clip: rect(1px, 1px, 1px, 1px);height: 1px;margin: -1px;overflow: hidden;padding: 0;position: absolute;width: 1px;}#sk-container-id-16 div.sk-estimator {font-family: monospace;background-color: #f0f8ff;border: 1px dotted black;border-radius: 0.25em;box-sizing: border-box;margin-bottom: 0.5em;}#sk-container-id-16 div.sk-estimator:hover {background-color: #d4ebff;}#sk-container-id-16 div.sk-parallel-item::after {content: \"\";width: 100%;border-bottom: 1px solid gray;flex-grow: 1;}#sk-container-id-16 div.sk-label:hover label.sk-toggleable__label {background-color: #d4ebff;}#sk-container-id-16 div.sk-serial::before {content: \"\";position: absolute;border-left: 1px solid gray;box-sizing: border-box;top: 0;bottom: 0;left: 50%;z-index: 0;}#sk-container-id-16 div.sk-serial {display: flex;flex-direction: column;align-items: center;background-color: white;padding-right: 0.2em;padding-left: 0.2em;position: relative;}#sk-container-id-16 div.sk-item {position: relative;z-index: 1;}#sk-container-id-16 div.sk-parallel {display: flex;align-items: stretch;justify-content: center;background-color: white;position: relative;}#sk-container-id-16 div.sk-item::before, #sk-container-id-16 div.sk-parallel-item::before {content: \"\";position: absolute;border-left: 1px solid gray;box-sizing: border-box;top: 0;bottom: 0;left: 50%;z-index: -1;}#sk-container-id-16 div.sk-parallel-item {display: flex;flex-direction: column;z-index: 1;position: relative;background-color: white;}#sk-container-id-16 div.sk-parallel-item:first-child::after {align-self: flex-end;width: 50%;}#sk-container-id-16 div.sk-parallel-item:last-child::after {align-self: flex-start;width: 50%;}#sk-container-id-16 div.sk-parallel-item:only-child::after {width: 0;}#sk-container-id-16 div.sk-dashed-wrapped {border: 1px dashed gray;margin: 0 0.4em 0.5em 0.4em;box-sizing: border-box;padding-bottom: 0.4em;background-color: white;}#sk-container-id-16 div.sk-label label {font-family: monospace;font-weight: bold;display: inline-block;line-height: 1.2em;}#sk-container-id-16 div.sk-label-container {text-align: center;}#sk-container-id-16 div.sk-container {/* jupyter's `normalize.less` sets `[hidden] { display: none; }` but bootstrap.min.css set `[hidden] { display: none !important; }` so we also need the `!important` here to be able to override the default hidden behavior on the sphinx rendered scikit-learn.org. See: https://github.com/scikit-learn/scikit-learn/issues/21755 */display: inline-block !important;position: relative;}#sk-container-id-16 div.sk-text-repr-fallback {display: none;}</style><div id=\"sk-container-id-16\" class=\"sk-top-container\"><div class=\"sk-text-repr-fallback\"><pre>LogisticRegression(multi_class=&#x27;ovr&#x27;)</pre><b>In a Jupyter environment, please rerun this cell to show the HTML representation or trust the notebook. <br />On GitHub, the HTML representation is unable to render, please try loading this page with nbviewer.org.</b></div><div class=\"sk-container\" hidden><div class=\"sk-item\"><div class=\"sk-estimator sk-toggleable\"><input class=\"sk-toggleable__control sk-hidden--visually\" id=\"sk-estimator-id-16\" type=\"checkbox\" checked><label for=\"sk-estimator-id-16\" class=\"sk-toggleable__label sk-toggleable__label-arrow\">LogisticRegression</label><div class=\"sk-toggleable__content\"><pre>LogisticRegression(multi_class=&#x27;ovr&#x27;)</pre></div></div></div></div></div>"
      ],
      "text/plain": [
       "LogisticRegression(multi_class='ovr')"
      ]
     },
     "execution_count": 446,
     "metadata": {},
     "output_type": "execute_result"
    }
   ],
   "source": [
    "# Complete ... part below and then Run this cell\n",
    "logistic_regression_model = LogisticRegression(multi_class='ovr')\n",
    "logistic_regression_model.fit(nba_train[['AST', 'TRB']], nba_train['Pos3'])"
   ]
  },
  {
   "cell_type": "markdown",
   "id": "75c721a2",
   "metadata": {},
   "source": [
    "### Decision Tree\n",
    "\n",
    "Let's now create a decision tree classifier on the same training data `nba_train`. In lecture we define the entropy of a node and use it to evaluate split quality for classification and regression trees. Another metric for determining the quality of a split is **Gini impurity**. This is defined as the chance that a randomly chosen element of a set would be incorrectly labeled if it was labeled randomly and independently according to the distribution of labels in the set. Gini impurity is a popular alternative to entropy for determining the best split at a node, and it is in fact the default criterion for scikit-learn's `DecisionTreeClassifier`."
   ]
  },
  {
   "cell_type": "markdown",
   "id": "6c874f80",
   "metadata": {},
   "source": [
    "### Question 3.5 (5 points) We can calculate the Gini impurity of a node with the formula ($p_C$ is the proportion of data points in a node with label/class $C$):\n",
    "\n",
    "$$ G = 1 - \\sum_{C} {p_C}^2 $$\n",
    "\n",
    "Implement the `gini_impurity` function, which outputs the Gini impurity of a node with a given set of labels. The `labels` parameter is a list of labels in our dataset. For example, `labels` could be `['G', 'G', 'F', 'F', 'C', 'C']`"
   ]
  },
  {
   "cell_type": "code",
   "execution_count": 459,
   "id": "07c1ba74",
   "metadata": {},
   "outputs": [
    {
     "data": {
      "text/plain": [
       "0.5930068370986921"
      ]
     },
     "execution_count": 459,
     "metadata": {},
     "output_type": "execute_result"
    }
   ],
   "source": [
    "# Complete the definition of the function gini_impurity and then Run this cell\n",
    "def gini_impurity(labels):\n",
    "    p_c = pd.Series(labels).value_counts(normalize=True)\n",
    "    return 1 - (p_c ** 2).sum()\n",
    "\n",
    "gini_impurity(nba_data['Pos3'])"
   ]
  },
  {
   "cell_type": "markdown",
   "id": "d2727355",
   "metadata": {},
   "source": [
    "### Question 3.6 (5 points) Use `tree.DecisionTreeClassifier` ([documentation](https://scikit-learn.org/stable/modules/generated/sklearn.tree.DecisionTreeClassifier.html)) to fit a model using the same features and response as above, and call this model `decision_tree_model`. \n",
    "\n",
    "**Hint:**\n",
    "* Set the `random_state` and `criterion` parameters to 42 and `gini`, respectively."
   ]
  },
  {
   "cell_type": "code",
   "execution_count": 448,
   "id": "6938078d",
   "metadata": {},
   "outputs": [
    {
     "data": {
      "text/html": [
       "<style>#sk-container-id-17 {color: black;background-color: white;}#sk-container-id-17 pre{padding: 0;}#sk-container-id-17 div.sk-toggleable {background-color: white;}#sk-container-id-17 label.sk-toggleable__label {cursor: pointer;display: block;width: 100%;margin-bottom: 0;padding: 0.3em;box-sizing: border-box;text-align: center;}#sk-container-id-17 label.sk-toggleable__label-arrow:before {content: \"▸\";float: left;margin-right: 0.25em;color: #696969;}#sk-container-id-17 label.sk-toggleable__label-arrow:hover:before {color: black;}#sk-container-id-17 div.sk-estimator:hover label.sk-toggleable__label-arrow:before {color: black;}#sk-container-id-17 div.sk-toggleable__content {max-height: 0;max-width: 0;overflow: hidden;text-align: left;background-color: #f0f8ff;}#sk-container-id-17 div.sk-toggleable__content pre {margin: 0.2em;color: black;border-radius: 0.25em;background-color: #f0f8ff;}#sk-container-id-17 input.sk-toggleable__control:checked~div.sk-toggleable__content {max-height: 200px;max-width: 100%;overflow: auto;}#sk-container-id-17 input.sk-toggleable__control:checked~label.sk-toggleable__label-arrow:before {content: \"▾\";}#sk-container-id-17 div.sk-estimator input.sk-toggleable__control:checked~label.sk-toggleable__label {background-color: #d4ebff;}#sk-container-id-17 div.sk-label input.sk-toggleable__control:checked~label.sk-toggleable__label {background-color: #d4ebff;}#sk-container-id-17 input.sk-hidden--visually {border: 0;clip: rect(1px 1px 1px 1px);clip: rect(1px, 1px, 1px, 1px);height: 1px;margin: -1px;overflow: hidden;padding: 0;position: absolute;width: 1px;}#sk-container-id-17 div.sk-estimator {font-family: monospace;background-color: #f0f8ff;border: 1px dotted black;border-radius: 0.25em;box-sizing: border-box;margin-bottom: 0.5em;}#sk-container-id-17 div.sk-estimator:hover {background-color: #d4ebff;}#sk-container-id-17 div.sk-parallel-item::after {content: \"\";width: 100%;border-bottom: 1px solid gray;flex-grow: 1;}#sk-container-id-17 div.sk-label:hover label.sk-toggleable__label {background-color: #d4ebff;}#sk-container-id-17 div.sk-serial::before {content: \"\";position: absolute;border-left: 1px solid gray;box-sizing: border-box;top: 0;bottom: 0;left: 50%;z-index: 0;}#sk-container-id-17 div.sk-serial {display: flex;flex-direction: column;align-items: center;background-color: white;padding-right: 0.2em;padding-left: 0.2em;position: relative;}#sk-container-id-17 div.sk-item {position: relative;z-index: 1;}#sk-container-id-17 div.sk-parallel {display: flex;align-items: stretch;justify-content: center;background-color: white;position: relative;}#sk-container-id-17 div.sk-item::before, #sk-container-id-17 div.sk-parallel-item::before {content: \"\";position: absolute;border-left: 1px solid gray;box-sizing: border-box;top: 0;bottom: 0;left: 50%;z-index: -1;}#sk-container-id-17 div.sk-parallel-item {display: flex;flex-direction: column;z-index: 1;position: relative;background-color: white;}#sk-container-id-17 div.sk-parallel-item:first-child::after {align-self: flex-end;width: 50%;}#sk-container-id-17 div.sk-parallel-item:last-child::after {align-self: flex-start;width: 50%;}#sk-container-id-17 div.sk-parallel-item:only-child::after {width: 0;}#sk-container-id-17 div.sk-dashed-wrapped {border: 1px dashed gray;margin: 0 0.4em 0.5em 0.4em;box-sizing: border-box;padding-bottom: 0.4em;background-color: white;}#sk-container-id-17 div.sk-label label {font-family: monospace;font-weight: bold;display: inline-block;line-height: 1.2em;}#sk-container-id-17 div.sk-label-container {text-align: center;}#sk-container-id-17 div.sk-container {/* jupyter's `normalize.less` sets `[hidden] { display: none; }` but bootstrap.min.css set `[hidden] { display: none !important; }` so we also need the `!important` here to be able to override the default hidden behavior on the sphinx rendered scikit-learn.org. See: https://github.com/scikit-learn/scikit-learn/issues/21755 */display: inline-block !important;position: relative;}#sk-container-id-17 div.sk-text-repr-fallback {display: none;}</style><div id=\"sk-container-id-17\" class=\"sk-top-container\"><div class=\"sk-text-repr-fallback\"><pre>DecisionTreeClassifier(random_state=42)</pre><b>In a Jupyter environment, please rerun this cell to show the HTML representation or trust the notebook. <br />On GitHub, the HTML representation is unable to render, please try loading this page with nbviewer.org.</b></div><div class=\"sk-container\" hidden><div class=\"sk-item\"><div class=\"sk-estimator sk-toggleable\"><input class=\"sk-toggleable__control sk-hidden--visually\" id=\"sk-estimator-id-17\" type=\"checkbox\" checked><label for=\"sk-estimator-id-17\" class=\"sk-toggleable__label sk-toggleable__label-arrow\">DecisionTreeClassifier</label><div class=\"sk-toggleable__content\"><pre>DecisionTreeClassifier(random_state=42)</pre></div></div></div></div></div>"
      ],
      "text/plain": [
       "DecisionTreeClassifier(random_state=42)"
      ]
     },
     "execution_count": 448,
     "metadata": {},
     "output_type": "execute_result"
    }
   ],
   "source": [
    "# Complete ... part below and then Run this cell\n",
    "decision_tree_model = tree.DecisionTreeClassifier(random_state=42, criterion='gini')\n",
    "decision_tree_model.fit(nba_train[['AST', 'TRB']], nba_train['Pos3'])"
   ]
  },
  {
   "cell_type": "markdown",
   "id": "5933b94d",
   "metadata": {},
   "source": [
    "### Question 3.7 (5 points) Show performance by accuracy of both models in one plot. \n",
    "\n",
    "**Hints:**\n",
    "* We can compute the accuracy by using `model.score()` function. Note `model.score()` is used the same way as `model.fit()` or `model.predict()` for classification or regression problems. The resulting scores are between 0 and 1, with a larger score indicating a better fit.\n",
    "* The training accuracy and testing accuracy should be displayed seperately."
   ]
  },
  {
   "cell_type": "code",
   "execution_count": 461,
   "id": "15d3f375",
   "metadata": {},
   "outputs": [
    {
     "data": {
      "image/png": "[encoded data removed]",
      "text/plain": [
       "<Figure size 800x600 with 1 Axes>"
      ]
     },
     "metadata": {},
     "output_type": "display_data"
    }
   ],
   "source": [
    "# Write your codes to Question 3.7 below and then Run this cell\n",
    "train_acc_logistic_regression = logistic_regression_model.score(nba_train[['AST', 'TRB']], nba_train['Pos3'])\n",
    "test_acc_logistic_regression = logistic_regression_model.score(nba_test[['AST', 'TRB']], nba_test['Pos3'])\n",
    "\n",
    "train_acc_decision_tree = decision_tree_model.score(nba_train[['AST', 'TRB']], nba_train['Pos3'])\n",
    "test_acc_decision_tree = decision_tree_model.score(nba_test[['AST', 'TRB']], nba_test['Pos3'])\n",
    "\n",
    "accuracies = pd.DataFrame({'Model': ['Logistic Regression', 'Decision Tree (slightly overfitted)'],\n",
    "                           'Train Accuracy': [train_acc_logistic_regression, train_acc_decision_tree],\n",
    "                           'Test Accuracy': [test_acc_logistic_regression, test_acc_decision_tree]})\n",
    "\n",
    "plt.figure(figsize=(8, 6))\n",
    "sns.barplot(data=accuracies, x='Model', y='Train Accuracy', color='g', label='Train')\n",
    "sns.barplot(data=accuracies, x='Model', y='Test Accuracy', color='y', label='Test')\n",
    "plt.ylabel('score/accuracy')\n",
    "plt.legend()\n",
    "plt.show()\n"
   ]
  },
  {
   "cell_type": "markdown",
   "id": "a9977d9c",
   "metadata": {},
   "source": [
    "To enable better comparision between two classifiers, we want to visualize the decision boundary for them classifier, and see how the classifiers perform on both the training and test data."
   ]
  },
  {
   "cell_type": "markdown",
   "id": "bfa6d997",
   "metadata": {},
   "source": [
    "### Question 3.8 (5 points) Draw the decision boundaries for two classifers on training and testing sets in one plot using the `plot_decision_boundaries` function defined below.\n",
    "**Hint:**\n",
    "* 2 by 2 subplot is recommended."
   ]
  },
  {
   "cell_type": "code",
   "execution_count": 450,
   "id": "3af32ca7",
   "metadata": {},
   "outputs": [],
   "source": [
    "# Just run this cell to define the function plot_decision_boundaries\n",
    "def plot_decision_boundaries(model, nba_dataset, title=None, ax=None):\n",
    "    sns_cmap = ListedColormap(np.array(sns.color_palette())[0:3, :])\n",
    "    xx, yy = np.meshgrid(np.arange(0, 12, 0.02), np.arange(0, 16, 0.02))\n",
    "    Z_string = model.predict(np.c_[xx.ravel(), yy.ravel()])\n",
    "    categories, Z_int = np.unique(Z_string, return_inverse = True)\n",
    "    Z_int = Z_int.reshape(xx.shape)\n",
    "    \n",
    "    if ax is None:\n",
    "        plt.figure()\n",
    "        ax = plt.gca()\n",
    "        \n",
    "    ax.contourf(xx, yy, Z_int, cmap = sns_cmap)\n",
    "    \n",
    "    sns.scatterplot(data = nba_dataset, x = 'AST', y = 'TRB', hue = 'Pos3', ax=ax)\n",
    "\n",
    "    if title is not None:\n",
    "        ax.set_title(title)"
   ]
  },
  {
   "cell_type": "code",
   "execution_count": 451,
   "id": "3a2a9f84",
   "metadata": {},
   "outputs": [
    {
     "name": "stderr",
     "output_type": "stream",
     "text": [
      "/Users/jakobnunnendorf/.pyenv/versions/3.11.2/envs/ds/lib/python3.11/site-packages/sklearn/base.py:439: UserWarning: X does not have valid feature names, but LogisticRegression was fitted with feature names\n",
      "  warnings.warn(\n",
      "/Users/jakobnunnendorf/.pyenv/versions/3.11.2/envs/ds/lib/python3.11/site-packages/sklearn/base.py:439: UserWarning: X does not have valid feature names, but LogisticRegression was fitted with feature names\n",
      "  warnings.warn(\n",
      "/Users/jakobnunnendorf/.pyenv/versions/3.11.2/envs/ds/lib/python3.11/site-packages/sklearn/base.py:439: UserWarning: X does not have valid feature names, but DecisionTreeClassifier was fitted with feature names\n",
      "  warnings.warn(\n",
      "/Users/jakobnunnendorf/.pyenv/versions/3.11.2/envs/ds/lib/python3.11/site-packages/sklearn/base.py:439: UserWarning: X does not have valid feature names, but DecisionTreeClassifier was fitted with feature names\n",
      "  warnings.warn(\n"
     ]
    },
    {
     "data": {
      "image/png": "[encoded data removed]",
      "text/plain": [
       "<Figure size 1200x1200 with 4 Axes>"
      ]
     },
     "metadata": {},
     "output_type": "display_data"
    }
   ],
   "source": [
    "# Write your codes to Question 3.8 below and then Run this cell\n",
    "fig, axes = plt.subplots(2, 2, figsize=(12, 12))\n",
    "\n",
    "plot_decision_boundaries(logistic_regression_model, nba_train, 'Logistic Regression (Train)', ax=axes[0, 0])\n",
    "plot_decision_boundaries(logistic_regression_model, nba_test, 'Logistic Regression (Test)', ax=axes[0, 1])\n",
    "plot_decision_boundaries(decision_tree_model, nba_train, 'Decision Tree (Train)', ax=axes[1, 0])\n",
    "plot_decision_boundaries(decision_tree_model, nba_test, 'Decision Tree (Test)', ax=axes[1, 1])\n",
    "\n",
    "plt.show()"
   ]
  },
  {
   "cell_type": "markdown",
   "id": "14c25bec",
   "metadata": {},
   "source": [
    "### Question 3.9 (6 points) Looking at the two models:\n",
    "* Which model performes better on the training set?\n",
    "* Which model performes better on the test set?\n",
    "* How do the decision boundaries generated for each of the two models relate to the model's performance?"
   ]
  },
  {
   "cell_type": "code",
   "execution_count": 452,
   "id": "5d3e4526",
   "metadata": {},
   "outputs": [],
   "source": [
    "# Simply write your answer to Question 3.9 below and no need to Run this cell\n",
    "# - The decision tree model is much stronger on the training set but slightly weaker on the test set as we can see from the accuracy bar plot.\n",
    "# - The logistic regression model has lines and the decision tree model has squares in the plot for decision boundaries,\n",
    "# which makes sense if we think about how the models work. \n",
    "# The beauty of datascience is that we can infer relationships that describe the real world from data without necessarily having any background knowledge,\n",
    "# about the situation we are analysing. If we think about disciplines where we also figure out relationships to predict the real world\n",
    "# but have to have a strong understanding of the situation like in physics, my main discipline, scientists over history often stuck to the most simple theory\n",
    "# when explaining data in an experiment because the more complex the rules the more likeley that they only apply to that specific situation and cannot be generalised.\n",
    "# In the same way the logistic regression model seems to have  a lot more simple rules than the decision tree model because it is just a line\n",
    "# not a complex pattern of squares. This means that the logistic regression model is probably going to be better at generalising to new data\n",
    "# while the decision tree model is going to be better at fitting these specific training data.\n",
    "# Also we can see that in the training plots the dots are closer to their correct coloured areas in the decision tree model than in the logistic regression model\n",
    "# because the logistic regression model has some very strong outliers. On the test data however, the results are a lot closer together."
   ]
  },
  {
   "cell_type": "markdown",
   "id": "b5b6c843",
   "metadata": {},
   "source": [
    "## Final Words  (0 point)"
   ]
  },
  {
   "cell_type": "markdown",
   "id": "637ef162",
   "metadata": {},
   "source": [
    "If there was any question that you thought was ambiguous and required clarification to be answerable, please identify the question and state your assumptions. Be warned: We only plan to consider this information if we agree that the question was erroneous or ambiguous and we consider your assumption reasonable. (0 point)"
   ]
  },
  {
   "cell_type": "code",
   "execution_count": 453,
   "id": "687c60c1",
   "metadata": {},
   "outputs": [],
   "source": [
    "# Simply write your comment below and no need to Run this cell\n",
    "# This final exam was great at connecting the dots and using all the knowledge we acquired over the semester.\n",
    "# I am overall very happy with the course, thanks prof!"
   ]
  },
  {
   "cell_type": "markdown",
   "id": "4a098b51",
   "metadata": {},
   "source": [
    "### Submission"
   ]
  },
  {
   "cell_type": "markdown",
   "id": "b6ed7862",
   "metadata": {},
   "source": [
    "To submit your answer, please download your notebook as a .ipynb and .html file and submit to Canvas. You can do so by navigating to the toolbar at the top of this page, clicking File > Download as ... > Notebook (.ipynb) or HTML (.html). Then, upload **both files** under \"Final_Eaxm\" in the Assignments on Canvas."
   ]
  }
 ],
 "metadata": {
  "kernelspec": {
   "display_name": "Python 3 (ipykernel)",
   "language": "python",
   "name": "python3"
  },
  "language_info": {
   "codemirror_mode": {
    "name": "ipython",
    "version": 3
   },
   "file_extension": ".py",
   "mimetype": "text/x-python",
   "name": "python",
   "nbconvert_exporter": "python",
   "pygments_lexer": "ipython3",
   "version": "3.11.2"
  }
 },
 "nbformat": 4,
 "nbformat_minor": 5
}
