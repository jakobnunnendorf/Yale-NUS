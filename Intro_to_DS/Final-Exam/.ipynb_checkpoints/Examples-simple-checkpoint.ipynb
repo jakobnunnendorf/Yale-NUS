{
 "cells": [
  {
   "cell_type": "markdown",
   "id": "84e06bcb",
   "metadata": {},
   "source": [
    "# YSC2239 Final Examination Spring 2023"
   ]
  },
  {
   "cell_type": "markdown",
   "id": "df69f9ed",
   "metadata": {},
   "source": [
    "### This exam consists of 3 questions.\n",
    "\n",
    "### Time: April 28th (Friday) 2:45pm - 5:15pm (No submission will be accepted after the deadline)\n",
    "\n",
    "### Venue: Tan Chin Tuan Lecture Theatre at Yale-NUS College\n"
   ]
  },
  {
   "cell_type": "markdown",
   "id": "dca09b00",
   "metadata": {},
   "source": [
    "## Table of Contents\n",
    "\n",
    "### [1 Basic Data Science (40 points) ](#q1)\n",
    "\n",
    "### [2 Basic Mathematics (22 points)](#q2)\n",
    "\n",
    "### [3 Logistic Regression vs Decision Tree (38 points)](#q3)\n"
   ]
  },
  {
   "cell_type": "code",
   "execution_count": 1,
   "id": "d7154ac2",
   "metadata": {},
   "outputs": [],
   "source": [
    "# Run this cell to set up your notebook\n",
    "import numpy as np\n",
    "import pandas as pd\n",
    "import matplotlib.pyplot as plt\n",
    "from matplotlib.colors import ListedColormap\n",
    "import seaborn as sns\n",
    "from scipy.optimize import minimize\n",
    "\n",
    "from sklearn.linear_model import LogisticRegression\n",
    "from sklearn.model_selection import train_test_split\n",
    "from sklearn import tree\n",
    "\n",
    "# you may get a warning from importing ensemble. It is OK to ignore said warning\n",
    "from sklearn import ensemble\n",
    "plt.style.use('fivethirtyeight')"
   ]
  },
  {
   "cell_type": "markdown",
   "id": "f57a4e64",
   "metadata": {},
   "source": [
    "## 1 Basic Data Science (40 points) <a id='q1'></a>"
   ]
  },
  {
   "cell_type": "markdown",
   "id": "fe472487",
   "metadata": {},
   "source": [
    "Our module is called the introduction to data science, so at the end of the module, it's worthy to have some brief review in restrospect. We spend quite some time on getting ourselves familiar with coding tool i.e. Python and some useful packages(for example datascience, pandas). As the saying goes, good tools are prerequisite to the success of a job. So then what is the \"job\" of the course? Definitely not the tool, as tools may differ from time to time. Instead, the key lies in the word `model`.\n",
    "\n"
   ]
  },
  {
   "cell_type": "markdown",
   "id": "2df0b1ff",
   "metadata": {},
   "source": [
    "### Question 1.1 (2 points) Define the notation of model in data science."
   ]
  },
  {
   "cell_type": "code",
   "execution_count": 2,
   "id": "c0c48ef8",
   "metadata": {},
   "outputs": [],
   "source": [
    "# Simply write your answer to Question 1.1 below and no need to Run this cell\n"
   ]
  },
  {
   "cell_type": "markdown",
   "id": "ac6d2230",
   "metadata": {},
   "source": [
    "Recall that there are four steps basic step when we talk about the modeling process:\n",
    "\n",
    "A. Define a model.\n",
    "\n",
    "B. Define a loss function.\n",
    "\n",
    "C. Find the parameters that minimizes the loss.\n",
    "\n",
    "D. Evaluate the model performance\n",
    "\n",
    "We'll go through the `first three steps` on some example dataset from online repository loaded by using `load_dataset` command of `seaborn` package. The description of `load_dataset` is available at https://seaborn.pydata.org/generated/seaborn.load_dataset.html and the list of datasets is avaiable at https://github.com/mwaskom/seaborn-data. \n",
    "\n",
    "Note since we are not going to evaluate the model performance, we are not going to split the dataset into train set and test test. Instead, we use the full dataset to train various models for this part."
   ]
  },
  {
   "cell_type": "markdown",
   "id": "b0f18505",
   "metadata": {},
   "source": [
    "### Question 1.2 (3 points) Load the dataset named `tips` into our notebook and give the dataset the same name (i.e. tips) and show the last 15 rows of the dataset."
   ]
  },
  {
   "cell_type": "code",
   "execution_count": 3,
   "id": "7b3dd018",
   "metadata": {},
   "outputs": [],
   "source": [
    "# Write your codes to Question 1.2 below and then Run this cell\n"
   ]
  },
  {
   "cell_type": "markdown",
   "id": "facd2581",
   "metadata": {},
   "source": [
    "Throughout the rest of questions (for part 1 Basic Data Science), we try to predict restaurant tips in **absolute amounts**.\n",
    "\n",
    "`y_tips`: Each actual tip in our dataset is $y$, which is what we call the **observed value** or **dependent variable**. We want to predict each observed value as $\\hat{y}$."
   ]
  },
  {
   "cell_type": "code",
   "execution_count": 5,
   "id": "fd52c074",
   "metadata": {},
   "outputs": [],
   "source": [
    "# No further action needed, just Run this cell to define y_tips array, the array of observed tips.\n",
    "y_tips = np.array(tips['tip'])              "
   ]
  },
  {
   "cell_type": "markdown",
   "id": "f8fdb291",
   "metadata": {},
   "source": [
    "### Question 1.3 (in total 6 points) Use a **constant model $\\hat{y} = \\theta_0$ with $L_2$ loss** to predict the tip $\\hat{y}$. In other words, regardless of any other details (i.e., features) about the meals, we will always predict our tip $\\hat{y}$ as one single value: $\\theta_0$. \n",
    "\n",
    "Remark on **$L_2$ loss** (also **squared loss**): for an observed tip value $y$ (i.e., the real tip), our prediction of the tip $\\hat{y}$ would give an $L_2$ loss of:\n",
    "\n",
    "$$\\large L_2(y, \\hat{y}) = \\large (y - \\hat{y})^2 = \\large (y - \\theta_0)^2 $$\n",
    "\n",
    "We just defined loss for a single datapoint. Let's extend the above function to our entire dataset by taking the **average loss** across the dataset."
   ]
  },
  {
   "cell_type": "markdown",
   "id": "5b133084",
   "metadata": {},
   "source": [
    "### Question 1.3a (3 points) Define the `mse_tips_constant` function which computes the **average $L_2$ error** on the tips dataset for the constant model with parameter $\\theta_0$.\n",
    "\n",
    "**Hint:** \n",
    "* You should use the array `y_tips` defined before.\n"
   ]
  },
  {
   "cell_type": "code",
   "execution_count": null,
   "id": "630a55c3",
   "metadata": {},
   "outputs": [],
   "source": [
    "#Complete the definition of the function and then Run the cell\n",
    "def mse_tips_constant(theta0):\n",
    "    \"\"\"\n",
    "    Calculate the average squared loss on the tips data for a constant model.\n",
    "    \n",
    "    Parameters\n",
    "    ------------\n",
    "    theta0 : fitted constant model\n",
    "    \n",
    "    Returns\n",
    "    ------------\n",
    "    The mean square error on the tips data for a constant model.\n",
    "    \"\"\"\n",
    "    ...\n",
    "\n",
    "mse_tips_constant(5.3) # Arbitrarily pick theta0 = 5.3"
   ]
  },
  {
   "cell_type": "markdown",
   "id": "cf7659bb",
   "metadata": {},
   "source": [
    "### Question 1.3b (3 points) Find the value of $\\theta_0$ that minimizes the mean squared error for our `tips` dataset by using the `minimize` function. \n",
    "\n",
    "Note the function `minimize` from [`scipy.optimize`](https://docs.scipy.org/doc/scipy/reference/generated/scipy.optimize.minimize.html) will attempt to minimize any function you throw at it.\n",
    "\n",
    "**Hints:** \n",
    "* You should use the function you defined earlier: `mse_tips_constant`.\n",
    "* Assign `min_scipy_constant` to the result of the `minimize` function which is called with initial `x0 = 0.0`."
   ]
  },
  {
   "cell_type": "code",
   "execution_count": 3,
   "id": "95617fe2",
   "metadata": {},
   "outputs": [],
   "source": [
    "# Complete the ... part and then Run this cell.\n",
    "min_scipy_constant = ...\n",
    "theta0_hat_constant = min_scipy_constant['x'][0]\n",
    "theta0_hat_constant"
   ]
  },
  {
   "cell_type": "markdown",
   "id": "87aed2d0",
   "metadata": {},
   "source": [
    "### Question 1.4 (in total 11 points) Instead of using the constant model, we assume that tip depends on the total amount of the bill of the meal and furthermore we assume **a linear model with $L_2$ loss** to predict the tip $\\hat{y}$.\n",
    "\n",
    "We define our model as the **linear model** that takes a single input feature, `total_bill`, $x$, and predicts the dependent variable, $\\hat{y}$:\n",
    "\n",
    "$$\\large\n",
    "\\hat{y} = \\theta_0 + \\theta_1 x\n",
    "$$\n",
    "\n",
    "Our modeling goal is to find optimal parameter(s) $\\hat{\\theta_0}$ and $\\hat{\\theta_1}$ that **best fit our data**. We use **$L_2$ loss**, therefore for an observed tip value $y$ (i.e., the real tip), our prediction of the tip $\\hat{y}$ would give an $L_2$ loss of:\n",
    "\n",
    "$$\\large L_2(y, \\hat{y}) = \\large (y - \\hat{y})^2 = \\large (y - (\\theta_0 + \\theta_1 x))^2 $$"
   ]
  },
  {
   "cell_type": "code",
   "execution_count": 4,
   "id": "d22fc933",
   "metadata": {},
   "outputs": [],
   "source": [
    "# No further action needed, just Run this cell to define x_total_bills, the feature of our model.\n",
    "x_total_bills = np.array(tips['total_bill'])"
   ]
  },
  {
   "cell_type": "markdown",
   "id": "32ebb78c",
   "metadata": {},
   "source": [
    "### Question 1.4a (3 points) Define the `mse_tips_linear` function which computes the mean squared error on the tips dataset for the linear model with parameters $\\theta_0$ and $\\theta_1$.\n",
    "\n",
    "**Hints:** \n",
    "* This function takes in two parameters `theta0` and `theta1`.\n",
    "* You should use the arrays `x_total_bills` and `y_tips` defined before."
   ]
  },
  {
   "cell_type": "code",
   "execution_count": null,
   "id": "84f0dc2d",
   "metadata": {},
   "outputs": [],
   "source": [
    "#Complete the definition of the function and then Run the cell\n",
    "def mse_tips_linear(theta0, theta1):\n",
    "    \"\"\"\n",
    "    Calculate the mean squared error on the tips data for a linear model.\n",
    "    \n",
    "    Parameters\n",
    "    ------------\n",
    "    theta0 : intercept of the fitted linear model\n",
    "    theta1 : slope of the fitted linear model\n",
    "    \n",
    "    Returns\n",
    "    ------------\n",
    "    The mean square error on the tips data for a linear model.\n",
    "    \"\"\"\n",
    "    ...\n",
    "mse_tips_linear(0.9, 0.1) # Arbitrarily pick theta0 = 0.9, theta1 = 0.1"
   ]
  },
  {
   "cell_type": "markdown",
   "id": "f3af293c",
   "metadata": {},
   "source": [
    "### Question 1.4b (8 points) As we learn in linear regression, the optimal parameter(s) $\\hat{\\theta_0}$ and $\\hat{\\theta_1}$ are just the intercept and slope of the regression line between `x_total_bills` and `y_tips`. Write down the expression for $\\hat{\\theta_0}$ and $\\hat{\\theta_1}$ explicitely, denoted by `theta0_hat_analytic` and `theta1_hat_analytic` respectively."
   ]
  },
  {
   "cell_type": "code",
   "execution_count": null,
   "id": "9f011611",
   "metadata": {},
   "outputs": [],
   "source": [
    "# Write out the slope and intercept of the regression line and then Run the Cell\n",
    "theta1_hat_analytic = ...\n",
    "theta0_hat_analytic = ...\n",
    "theta0_hat_analytic, theta1_hat_analytic"
   ]
  },
  {
   "cell_type": "markdown",
   "id": "f89f1b7f",
   "metadata": {},
   "source": [
    "### Question 1.5 (3 points) For predicting tip on the `tips` dataset, would you rather use the constant model or the linear model assuming an $L_2$ loss function for both and why?  "
   ]
  },
  {
   "cell_type": "code",
   "execution_count": null,
   "id": "0f528494",
   "metadata": {},
   "outputs": [],
   "source": [
    "# Simply write your answer to Question 1.5 below and no need to Run this cell\n"
   ]
  },
  {
   "cell_type": "markdown",
   "id": "8ce8a4a4",
   "metadata": {},
   "source": [
    "### Question 1.6 (in total 9 points) Now we assume **a linear model with $L_1$ loss** (also known as the absolute loss) to predict the tip $\\hat{y}$. For an observed tip value $y$, our prediction of the tip $\\hat{y}$ would give an $L_1$ loss of:\n",
    "\n",
    "$$\\large L_1(y, \\hat{y}) = |y - \\hat{y}| = |y - (\\theta_0 + \\theta_1 x)|$$"
   ]
  },
  {
   "cell_type": "markdown",
   "id": "cb90b621",
   "metadata": {},
   "source": [
    "### Question 1.6a (3 points) Define the `mae_tips_linear` function which computes the **Mean Absolute Error (MAE)** on the dataset for the linear model with parameters $\\theta_0$ and $\\theta_1$.\n",
    "\n",
    "**Hint**: \n",
    "* You should use the arrays `x_total_bills` and `y_tips` defined before."
   ]
  },
  {
   "cell_type": "code",
   "execution_count": null,
   "id": "c37a16e0",
   "metadata": {},
   "outputs": [],
   "source": [
    "#Complete the definition of the function and then Run the cell\n",
    "def mae_tips_linear(theta0, theta1):\n",
    "    \"\"\"\n",
    "    Calculate the mean absolute error on the tips data for a linear model.\n",
    "    \n",
    "    Parameters\n",
    "    ------------\n",
    "    theta0 : intercept of the fitted linear model\n",
    "    theta1 : slope of the fitted linear model\n",
    "    \n",
    "    Returns\n",
    "    ------------\n",
    "    The mean absolute error on the tips data for a linear model.\n",
    "    \"\"\"\n",
    "    ...\n",
    "mae_tips_linear(5.3, 2) # Arbitrarily pick theta0 = 5.3 and theta1 = 2"
   ]
  },
  {
   "cell_type": "markdown",
   "id": "7149cb84",
   "metadata": {},
   "source": [
    "### Question 1.6b (3 points) In this case, unlike in Question 1.4, we do not have explicit analytical solution. So we are going to use the `minimize` function to find the value for $\\hat{\\theta_0}$ and $\\hat{\\theta_1}$. But there is a small technical issue. The `minimize` function can minimize functions of multiple variables. There's one quirk, however, which is that functions have to accept its parameters as a single list, so we will define $\\vec{\\theta} = \\begin{bmatrix}\\theta_0\\\\ \\theta_1 \\end{bmatrix}$, as a single list input to the function.\n",
    "\n",
    "\n",
    "Implement the `mae_tips_linear_list` function, which is exactly like `mae_tips_linear` defined previously except that it takes in a single list of 2 variables rather than two separate variables."
   ]
  },
  {
   "cell_type": "code",
   "execution_count": null,
   "id": "618e9b1a",
   "metadata": {},
   "outputs": [],
   "source": [
    "#Complete the definition of the function and then Run the cell\n",
    "def mae_tips_linear_list(theta):\n",
    "    \"\"\"\n",
    "    Calculate the mean absolute error on the tips data for a linear model.\n",
    "    \n",
    "    Parameters\n",
    "    ------------\n",
    "    theta : a list containg [theta0, theta1]\n",
    "    \n",
    "    Returns\n",
    "    ------------\n",
    "    The mean absolute error on the tips data for a linear model.\n",
    "    \"\"\"\n",
    "    ...\n",
    "mae_tips_linear_list([5.3, 2]) # Arbitrarily pick theta = [5.3, 2]"
   ]
  },
  {
   "cell_type": "markdown",
   "id": "edde3247",
   "metadata": {},
   "source": [
    "### Question 1.6c (3 points) Compute the optimal value for $\\hat{\\theta_0}$ and $\\hat{\\theta_1}$ denoted by `theta0_hat_mae` and `theta1_hat_mae` respectively.\n",
    "\n",
    "**Hint:**\n",
    "* Assign `min_linear_mae` to the result of the `minimize` function which is called with initial `x0 = [0.0, 0.0]`."
   ]
  },
  {
   "cell_type": "code",
   "execution_count": null,
   "id": "03e28d66",
   "metadata": {},
   "outputs": [],
   "source": [
    "# Complete the ... part and then Run this cell.\n",
    "min_linear_mae = ...\n",
    "theta0_hat_mae = min_linear_mae['x'][0]\n",
    "theta1_hat_mae = min_linear_mae['x'][1]\n",
    "theta0_hat_mae, theta1_hat_mae"
   ]
  },
  {
   "cell_type": "markdown",
   "id": "0d97facc",
   "metadata": {},
   "source": [
    "### Question 1.7 (6 points) Identify some key differences you observe between the **$L_1$ loss** and **$L_2$ loss**. Which one you prefer and why?\n",
    "\n",
    "**Hint:**\n",
    "* You can try ploting `mae_tips_linear` and `mse_tips_linear` to get some idea"
   ]
  },
  {
   "cell_type": "code",
   "execution_count": null,
   "id": "d94452ff",
   "metadata": {},
   "outputs": [],
   "source": [
    "# Simply write your answer to Question 1.7 below and no need to Run this cell\n"
   ]
  },
  {
   "cell_type": "markdown",
   "id": "e47db4b7",
   "metadata": {},
   "source": [
    "## 2 Basic Mathematics (22 points) <a id='q2'></a>"
   ]
  },
  {
   "cell_type": "markdown",
   "id": "3c486836",
   "metadata": {},
   "source": [
    "Recall that for the Regression Line we learned in the first half of this semester, it is written as follows:\n",
    "\n",
    "$$\\hat{y} = \\theta_0 + \\theta_1 x,$$\n",
    "\n",
    "where $\\hat{y}$ denotes the predicted value of $y$ for the input value of $x$, $\\theta_0$ is the intercept term and $\\theta_1$ is the slope. \n",
    "\n",
    "In the second-half of this semester, we generalize the above simple linear regression (SLR) by including more varialbes or features so that the formulation of our multiple linear regression model is:\n",
    "\n",
    "$$\\hat{y} = \\theta_0 + \\theta_1 x_1 + \\dots + \\theta_p x_p$$\n",
    "\n",
    "We can rewrite our multiple linear regression model using matrix notation. Let $\\mathbb{Y}$ be the (column) vector of all $n$ observations in our sample. Then our prediction vector $\\hat{\\mathbb{Y}}$ is\n",
    "\n",
    "$$\\Large \\hat{\\mathbb{Y}} = \\mathbb{X} \\theta$$\n",
    "\n",
    "meaning the prediction vector $\\hat{\\mathbb{Y}}$ is just the matrix multiplication between $\\mathbb{X}$ and $\\theta$, where $\\mathbb{X}$ is the **design matrix** representing the $p$ features for all $n$ datapoints in our sample and $\\theta$ is the parameter vector. You can refer to basic rules on the matrix multiplicaiton at wiki link (https://en.wikipedia.org/wiki/Matrix_multiplication) if need.\n",
    "\n",
    "Note that for our SLR model, $p = 1$ and therefore the matrix notation seems rather silly. Nevertheless it is valuable to start small and build on our intuition.\n",
    "\n",
    "Because we have an intercept term $\\theta_0$ in our parameter vector $\\theta$, our design matrix $\\mathbb{X}$ for $p$ features actually has dimension\n",
    "\n",
    "$$ \\Large \\mathbb{X} \\in \\mathbb{R}^{n \\times (p + 1)}$$\n",
    "\n",
    "Therefore, the resulting matrix expression $\\hat{\\mathbb{Y}} = \\mathbb{X} \\theta$ represents $n$ linear equations, where for $i$-th observation, \n",
    "$$\\hat{y_i} = \\theta_0 + \\theta_1 x_1^i + \\dots + \\theta_p x_p^i = [1, x_1^i, \\dots,x_p^i] \\begin{bmatrix}\\theta_0\\\\ \\theta_1 \\\\ \\dots \\\\ \\theta_p \\end{bmatrix}$$.\n",
    "\n",
    "The constant all-ones column of $\\mathbb{X}$ is sometimes called the **bias feature**; $\\theta_0$ is frequently called the **bias or intercept term**."
   ]
  },
  {
   "cell_type": "markdown",
   "id": "119a1581",
   "metadata": {},
   "source": [
    "### Question 2.1 (3 points) As the example dataset for this part (i.e  2 Basic Mathematics), load the dataset named `mpg` into our notebook, denote the dataset by the same name (i.e. `mpg`) and drop any rows that have missing data."
   ]
  },
  {
   "cell_type": "code",
   "execution_count": null,
   "id": "305e395e",
   "metadata": {},
   "outputs": [],
   "source": [
    "# Write your codes to Question 2.1 below and then Run this cell\n"
   ]
  },
  {
   "cell_type": "markdown",
   "id": "faca077e",
   "metadata": {},
   "source": [
    "### Question 2.2 (3 points) Implement `add_intercept` which computes a design matrix such that the first (left-most) column is all ones. \n",
    "\n",
    "Note that once we have contruct the all-ones column `bias_feature` by using the `np.ones` function (NumPy [documentation](https://numpy.org/doc/stable/reference/generated/numpy.ones.html?highlight=ones)) properly, we then call `np.concatenate` ([documentation](https://numpy.org/doc/stable/reference/generated/numpy.concatenate.html)) function to generate `design matrix`. This part of code is already written.\n",
    "\n",
    "**Hint:**\n",
    "* `bias_feature` should be a (column) vector of dimension `(n,1)`, not a vector of dimension `(n,)`."
   ]
  },
  {
   "cell_type": "code",
   "execution_count": null,
   "id": "75aa2952",
   "metadata": {},
   "outputs": [],
   "source": [
    "# Complete the ... part of the definition and then Run this cell.\n",
    "def add_intercept(X):\n",
    "    \"\"\"\n",
    "    Return X with a bias feature.\n",
    "    \n",
    "    Parameters\n",
    "    -----------\n",
    "    X: a 2D dataframe of p numeric features\n",
    "    (may also be a 2D numpy array) of shape n x p\n",
    "    \n",
    "    Returns\n",
    "    -----------\n",
    "    A 2D matrix of shape n x (p + 1), where the leftmost\n",
    "    column is a column vector of 1's\n",
    "    \"\"\"\n",
    "    ...\n",
    "    bias_feature = ...\n",
    "    return np.concatenate([bias_feature, X], axis=1)\n",
    "X = add_intercept(mpg[['horsepower']])\n",
    "X.shape"
   ]
  },
  {
   "cell_type": "markdown",
   "id": "4fc9897c",
   "metadata": {},
   "source": [
    "### Question 2.3 (3 points) Define the model by implementing the `linear_model` function.\n",
    "\n",
    "The predictions for all $n$ points in our data are (note $\\theta = (\\theta_0, \\theta_1, \\dots, \\theta_p)$) :\n",
    "$$ \\Large \\hat{\\mathbb{Y}} = \\mathbb{X} \\theta. $$\n",
    "\n",
    "\n",
    "**Hint**: \n",
    "* You can use [np.dot](https://numpy.org/doc/stable/reference/generated/numpy.dot.html), [pd.DataFrame.dot](https://pandas.pydata.org/pandas-docs/stable/generated/pandas.DataFrame.dot.html), or the `@` operator to multiply matrices/vectors. However, while the `@` operator can be used to multiply `numpy` arrays, it generally will not work between two `pandas` dataframe objects, so keep that in mind when computing matrix-vector products!\n"
   ]
  },
  {
   "cell_type": "code",
   "execution_count": 11,
   "id": "f9fc40be",
   "metadata": {},
   "outputs": [],
   "source": [
    "# Complete the definition of the function and then Run the cell\n",
    "def linear_model(thetas, X):\n",
    "    \"\"\"\n",
    "    Return the linear combination of thetas and features as defined above.\n",
    "    \n",
    "    Parameters\n",
    "    -----------\n",
    "    thetas: a 1D vector representing the parameters of our model ([theta1, theta2, ...])\n",
    "    X: a 2D dataframe of numeric features (may also be a 2D numpy array)\n",
    "    \n",
    "    Returns\n",
    "    -----------\n",
    "    A 1D vector representing the linear combination of thetas and features as defined above.\n",
    "    \"\"\"\n",
    "    ..."
   ]
  },
  {
   "cell_type": "markdown",
   "id": "922cf1f8",
   "metadata": {},
   "source": [
    "### Question 2.4 (5 points) When we fit a linear model with mean squared error, it is equivalent to the following optimization problem:\n",
    "\n",
    "$$\\Large \\min_{\\theta} ||\\Bbb{X}\\theta - \\Bbb{Y}||^2$$\n",
    "\n",
    "And when $X^T X$ is invertible, there is an analytic solution which is given by the equation (if you are interested, there is a geometric argument with the detail in the [link provided](https://learningds.org/ch/15/linear_multi_fit.html) but not related to this quesiton):\n",
    "\n",
    "$$ \\Large \\hat{\\theta} = (\\Bbb{X}^T\\Bbb{X})^{-1}\\Bbb{X}^T\\Bbb{Y}$$\n",
    "\n",
    "So please implement the analytic solution $\\hat{\\theta}$ using `np.linalg.inv` ([link](https://numpy.org/doc/stable/reference/generated/numpy.linalg.inv.html)) to compute the inverse of $\\Bbb{X}^T\\Bbb{X}$. Note: You can also consider using `np.linalg.solve` ([link](https://numpy.org/doc/stable/reference/generated/numpy.linalg.solve.html)) instead of `np.linalg.inv` because it is more robust (more on StackOverflow [here](https://stackoverflow.com/questions/31256252/why-does-numpy-linalg-solve-offer-more-precise-matrix-inversions-than-numpy-li)). \n",
    "\n",
    "\n",
    "**Hint**: \n",
    "* To compute the transpose of a matrix, you can use `X.T` or `X.transpose()` ([link](https://numpy.org/doc/stable/reference/generated/numpy.ndarray.T.html#numpy.ndarray.T)).\n",
    "\n"
   ]
  },
  {
   "cell_type": "code",
   "execution_count": null,
   "id": "b075549b",
   "metadata": {},
   "outputs": [],
   "source": [
    "#Complete the definition of the function and then Run the cell\n",
    "def get_analytical_sol(X, y):\n",
    "    \"\"\"\n",
    "    Computes the analytical solution to our\n",
    "    least squares problem\n",
    "    \n",
    "    Parameters\n",
    "    -----------\n",
    "    X: a 2D dataframe (or numpy array) of numeric features\n",
    "    y: a 1D vector of tip amounts\n",
    "    \n",
    "    Returns\n",
    "    -----------\n",
    "    The estimate for theta (a 1D vector) computed using the\n",
    "    equation mentioned above.\n",
    "    \"\"\"\n",
    "    ...\n",
    "Y = mpg['mpg']\n",
    "analytical_thetas = get_analytical_sol(X, Y)\n",
    "analytical_thetas"
   ]
  },
  {
   "cell_type": "markdown",
   "id": "171c8a7b",
   "metadata": {},
   "source": [
    "### Question 2.5 (in total 8 points) It's great we can have analytic solution for the optimization problems. But unfortunately it's not always the case in reality. For such cases, as we have seen in part 1, we are going to use `minimize` command."
   ]
  },
  {
   "cell_type": "markdown",
   "id": "94132391",
   "metadata": {},
   "source": [
    "### Question 2.5a (3 points) The cell below plots some arbitrary 4th degree polynomial function"
   ]
  },
  {
   "cell_type": "code",
   "execution_count": 13,
   "id": "d3feddf2",
   "metadata": {},
   "outputs": [
    {
     "data": {
      "image/png": "[encoded data removed]",
      "text/plain": [
       "<Figure size 640x480 with 1 Axes>"
      ]
     },
     "metadata": {},
     "output_type": "display_data"
    }
   ],
   "source": [
    "# No further action is needed, just Run the cell.\n",
    "w_values = np.linspace(-4, 2.5, 100)\n",
    "\n",
    "def fx(w):\n",
    "    return 0.1 * w**4 + 0.2*w**3 + 0.2 * w **2 + 1 * w + 10\n",
    "\n",
    "plt.plot(w_values, fx(w_values));\n",
    "plt.title(\"Arbitrary 4th degree polynomial\");"
   ]
  },
  {
   "cell_type": "markdown",
   "id": "8cac2c8d",
   "metadata": {},
   "source": [
    "Compute the minimum value for the function `fx` and the optimal value of `x` which minimizes the function `fx` in the following cell, denoted by `min_of_fx` and `x_which_minimizes_fx` respectively.\n",
    "\n",
    "**Hint:**\n",
    "* Assign `min_result` to the result of `minimize` command.\n",
    "\n",
    "**Initial guess**: The parameter `x0` that we passed to the `minimize` function is where it starts looking for the minimum. For the function above, it doesn't really matter what x we start at because the function is nice. Note that no matter what your actual variable is called in your function (`w` in this case), the `minimize` routine still expects a starting point parameter called `x0`."
   ]
  },
  {
   "cell_type": "code",
   "execution_count": null,
   "id": "0861f87a",
   "metadata": {},
   "outputs": [],
   "source": [
    "#Complete the ... part and then Run the cell\n",
    "min_result = minimize(...)\n",
    "min_of_fx = min_result['fun']\n",
    "x_which_minimizes_fx = min_result['x'][0]\n",
    "min_of_fx, x_which_minimizes_fx"
   ]
  },
  {
   "cell_type": "markdown",
   "id": "0f41568a",
   "metadata": {},
   "source": [
    "### Question 2.5b (5 points) The `minimize` function can minimize functions of multiple variables. But `minimize` isn't perfect. The reason is that if the function we are given has many valleys (also known as local minima), `minimize` can get stuck when trying to minimize the function. So it's useful to have `initial guess` around the true minimum. Provide one suggestion on how we can have a good initial guess."
   ]
  },
  {
   "cell_type": "code",
   "execution_count": null,
   "id": "5dfb1cd9",
   "metadata": {},
   "outputs": [],
   "source": [
    "# Simply write your answer to Question 2.5c below and no need to Run this cell\n"
   ]
  },
  {
   "cell_type": "markdown",
   "id": "470b180c",
   "metadata": {},
   "source": [
    "## 3 Logistic Regression vs Decision Tree (38 points) <a id='q3'></a>"
   ]
  },
  {
   "cell_type": "markdown",
   "id": "3bd0fbd5",
   "metadata": {},
   "source": [
    "**Backgroud:** In our module, we have covered quite a few basic models and if you are interested, you can pursue further with more advanced data science related modules. A common concern may arise is about how to choose from those models. In fact, with the same data, we can follow different models. In this question, you are going to train a multi-class classifier with two different models (one-vs-rest logistic regression and decision trees) and compare the accuracies and decision boundaries created by each.\n",
    "\n",
    "**Data and Task:** We'll be looking at a dataset of per-game stats for all NBA players in the 2021-22 season. This dataset comes from [basketball-reference.com](https://www.basketball-reference.com/). Our goal will be to predict a player's **position** given several other features."
   ]
  },
  {
   "cell_type": "code",
   "execution_count": 7,
   "id": "76aea95d",
   "metadata": {},
   "outputs": [],
   "source": [
    "# just run this cell\n",
    "nba_data = pd.read_csv(\"nba21-22.csv\")"
   ]
  },
  {
   "cell_type": "markdown",
   "id": "73d6d123",
   "metadata": {},
   "source": [
    "There are several features we could use to predict about position. For our purpose, we will restrict our exploration to two inputs: Rebounds (TRB) and Assists (AST). The main reason is that two-input features models will make our 2-D visualizations more straightforward.\n",
    "\n",
    "The 5 most common positions in basketball are PG, SG, SF, PF, and C (which stand for point guard, shooting guard, small forward, power forward, and center; [Wikipedia](https://en.wikipedia.org/wiki/Basketball_positions)). This information is contained in the `Pos` column of the dataset. While we could set out to try and perform 5-class classification, the results (and visualizations) are slightly more interesting if we try and categorize players into 1 of 3 categories: **Guard**, **Forward**, and **Center** by using the `basic_position` function defined as follows:"
   ]
  },
  {
   "cell_type": "code",
   "execution_count": 6,
   "id": "d5855347",
   "metadata": {},
   "outputs": [],
   "source": [
    "# just run this cell\n",
    "def basic_position(pos):\n",
    "    if 'F' in pos:\n",
    "        return 'F'\n",
    "    elif 'G' in pos:\n",
    "        return 'G'\n",
    "    return 'C'"
   ]
  },
  {
   "cell_type": "markdown",
   "id": "72ae3750",
   "metadata": {},
   "source": [
    "### Question 3.1 (2 points)  Take the `Pos` column of our dataframe and use it to create a new column `Pos3` that consist of values `'G'`, `'F'`, and `'C'` (which stand for Guard, Forward, and Center)."
   ]
  },
  {
   "cell_type": "code",
   "execution_count": null,
   "id": "214f27d2",
   "metadata": {},
   "outputs": [],
   "source": [
    "# Complete ... part below and then Run this cell\n",
    "nba_data['Pos3'] = ...\n",
    "nba_data['Pos3']"
   ]
  },
  {
   "cell_type": "markdown",
   "id": "7a90754c",
   "metadata": {},
   "source": [
    "### Question 3.2 (3 points) Since there are many players in the NBA (in the 2021-22 season there were over 600 unique players), our visualizations may get noisy and messy. Let's restrict our data to only contain rows for players that averaged 10 or more points (as shown in the `PTS` column) per game. The new dataset is still named as `nba_data`."
   ]
  },
  {
   "cell_type": "code",
   "execution_count": null,
   "id": "6188fe47",
   "metadata": {},
   "outputs": [],
   "source": [
    "# Complete ... part below and then Run this cell\n",
    "nba_data = ...\n",
    "nba_data"
   ]
  },
  {
   "cell_type": "markdown",
   "id": "e3d4193b",
   "metadata": {},
   "source": [
    "Let's have a look what the whole dataset look like with different values in features and their corrsponding positions."
   ]
  },
  {
   "cell_type": "code",
   "execution_count": 8,
   "id": "23c68319",
   "metadata": {},
   "outputs": [],
   "source": [
    "# just run this cell\n",
    "sns.scatterplot(data = nba_data, x = 'AST', y = 'TRB', hue = 'Pos3');"
   ]
  },
  {
   "cell_type": "markdown",
   "id": "8c482933",
   "metadata": {},
   "source": [
    "### Question 3.3 (2 points) Before fitting any models, let's first split nba_data into a training set and test set. \n",
    "\n",
    "**Hint:**\n",
    "* Using `train_test_split` command by setting `random_state=100` and `test_size = 0.25`."
   ]
  },
  {
   "cell_type": "code",
   "execution_count": null,
   "id": "532225e5",
   "metadata": {},
   "outputs": [],
   "source": [
    "# Complete ... part below and then Run this cell\n",
    "nba_train, nba_test = ...\n",
    "nba_test"
   ]
  },
  {
   "cell_type": "markdown",
   "id": "a02d1dfb",
   "metadata": {},
   "source": [
    "### One-vs-rest Logistic Regression\n",
    "\n",
    "We only discussed binary logistic regression in class, but there is a natural extension of binary logistic regression called one-vs-rest logistic regression for multiclass classification. In essence, one-vs-rest logistic regression simply builds one binary logistic regression classifier for each of the `N` classes (in this scenario  𝑁=3). We then predict the class corresponding to the classifier that gives the highest probability among the `N` classes."
   ]
  },
  {
   "cell_type": "markdown",
   "id": "2d5e02d9",
   "metadata": {},
   "source": [
    "### Question 3.4 (5 points) In the cell below, set `logistic_regression_model` to be a one-vs-rest logistic regression model. Then, fit that model using the `AST` and `TRB` columns (in that order) from `nba_train` as our features, and `Pos3` as our response variable.\n",
    "\n",
    "**Hint:**\n",
    "* `sklearn.linear_model.LogisticRegression` ([documentation](https://scikit-learn.org/stable/modules/generated/sklearn.linear_model.LogisticRegression.html)) has already been imported for you. There is an optional parameter **`multi_class`** you need to specify in order to make your model a multi-class one-vs-rest classifier. See the documentation for more details.\n"
   ]
  },
  {
   "cell_type": "code",
   "execution_count": null,
   "id": "75424839",
   "metadata": {},
   "outputs": [],
   "source": [
    "# Complete ... part below and then Run this cell\n",
    "logistic_regression_model = ..."
   ]
  },
  {
   "cell_type": "markdown",
   "id": "75c721a2",
   "metadata": {},
   "source": [
    "### Decision Tree\n",
    "\n",
    "Let's now create a decision tree classifier on the same training data `nba_train`. In lecture we define the entropy of a node and use it to evaluate split quality for classification and regression trees. Another metric for determining the quality of a split is **Gini impurity**. This is defined as the chance that a randomly chosen element of a set would be incorrectly labeled if it was labeled randomly and independently according to the distribution of labels in the set. Gini impurity is a popular alternative to entropy for determining the best split at a node, and it is in fact the default criterion for scikit-learn's `DecisionTreeClassifier`."
   ]
  },
  {
   "cell_type": "markdown",
   "id": "6c874f80",
   "metadata": {},
   "source": [
    "### Question 3.5 (5 points) We can calculate the Gini impurity of a node with the formula ($p_C$ is the proportion of data points in a node with label/class $C$):\n",
    "\n",
    "$$ G = 1 - \\sum_{C} {p_C}^2 $$\n",
    "\n",
    "Implement the `gini_impurity` function, which outputs the Gini impurity of a node with a given set of labels. The `labels` parameter is a list of labels in our dataset. For example, `labels` could be `['G', 'G', 'F', 'F', 'C', 'C']`"
   ]
  },
  {
   "cell_type": "code",
   "execution_count": null,
   "id": "07c1ba74",
   "metadata": {},
   "outputs": [],
   "source": [
    "# Complete the definition of the function gini_impurity and then Run this cell\n",
    "def gini_impurity(labels):\n",
    "    ...\n",
    "\n",
    "gini_impurity(nba_data['Pos3'])"
   ]
  },
  {
   "cell_type": "markdown",
   "id": "d2727355",
   "metadata": {},
   "source": [
    "### Question 3.6 (5 points) Use `tree.DecisionTreeClassifier` ([documentation](https://scikit-learn.org/stable/modules/generated/sklearn.tree.DecisionTreeClassifier.html)) to fit a model using the same features and response as above, and call this model `decision_tree_model`. \n",
    "\n",
    "**Hint:**\n",
    "* Set the `random_state` and `criterion` parameters to 42 and `gini`, respectively."
   ]
  },
  {
   "cell_type": "code",
   "execution_count": null,
   "id": "6938078d",
   "metadata": {},
   "outputs": [],
   "source": [
    "# Complete ... part below and then Run this cell\n",
    "decision_tree_model = ..."
   ]
  },
  {
   "cell_type": "markdown",
   "id": "5933b94d",
   "metadata": {},
   "source": [
    "### Question 3.7 (5 points) Show performance by accuracy of both models in one plot. \n",
    "\n",
    "**Hints:**\n",
    "* We can compute the accuracy by using `model.score()` function. Note `model.score()` is used the same way as `model.fit()` or `model.predict()` for classification or regression problems. The resulting scores are between 0 and 1, with a larger score indicating a better fit.\n",
    "* The training accuracy and testing accuracy should be displayed seperately."
   ]
  },
  {
   "cell_type": "code",
   "execution_count": null,
   "id": "15d3f375",
   "metadata": {},
   "outputs": [],
   "source": [
    "# Write your codes to Question 3.7 below and then Run this cell\n"
   ]
  },
  {
   "cell_type": "markdown",
   "id": "a9977d9c",
   "metadata": {},
   "source": [
    "To enable better comparision between two classifiers, we want to visualize the decision boundary for them classifier, and see how the classifiers perform on both the training and test data."
   ]
  },
  {
   "cell_type": "markdown",
   "id": "bfa6d997",
   "metadata": {},
   "source": [
    "### Question 3.8 (5 points) Draw the decision boundaries for two classifers on training and testing sets in one plot using the `plot_decision_boundaries` function defined below.\n",
    "**Hint:**\n",
    "* 2 by 2 subplot is recommended."
   ]
  },
  {
   "cell_type": "code",
   "execution_count": null,
   "id": "3af32ca7",
   "metadata": {},
   "outputs": [],
   "source": [
    "# Just run this cell to define the function plot_decision_boundaries\n",
    "def plot_decision_boundaries(model, nba_dataset, title=None, ax=None):\n",
    "    sns_cmap = ListedColormap(np.array(sns.color_palette())[0:3, :])\n",
    "    xx, yy = np.meshgrid(np.arange(0, 12, 0.02), np.arange(0, 16, 0.02))\n",
    "    Z_string = model.predict(np.c_[xx.ravel(), yy.ravel()])\n",
    "    categories, Z_int = np.unique(Z_string, return_inverse = True)\n",
    "    Z_int = Z_int.reshape(xx.shape)\n",
    "    \n",
    "    if ax is None:\n",
    "        plt.figure()\n",
    "        ax = plt.gca()\n",
    "        \n",
    "    ax.contourf(xx, yy, Z_int, cmap = sns_cmap)\n",
    "    \n",
    "    sns.scatterplot(data = nba_dataset, x = 'AST', y = 'TRB', hue = 'Pos3', ax=ax)\n",
    "\n",
    "    if title is not None:\n",
    "        ax.set_title(title)"
   ]
  },
  {
   "cell_type": "code",
   "execution_count": null,
   "id": "3a2a9f84",
   "metadata": {},
   "outputs": [],
   "source": [
    "# Write your codes to Question 3.8 below and then Run this cell\n"
   ]
  },
  {
   "cell_type": "markdown",
   "id": "14c25bec",
   "metadata": {},
   "source": [
    "### Question 3.9 (6 points) Looking at the two models:\n",
    "* Which model performes better on the training set?\n",
    "* Which model performes better on the test set?\n",
    "* How do the decision boundaries generated for each of the two models relate to the model's performance?"
   ]
  },
  {
   "cell_type": "code",
   "execution_count": null,
   "id": "5d3e4526",
   "metadata": {},
   "outputs": [],
   "source": [
    "# Simply write your answer to Question 3.9 below and no need to Run this cell\n"
   ]
  },
  {
   "cell_type": "markdown",
   "id": "b5b6c843",
   "metadata": {},
   "source": [
    "## Final Words  (0 point)"
   ]
  },
  {
   "cell_type": "markdown",
   "id": "637ef162",
   "metadata": {},
   "source": [
    "If there was any question that you thought was ambiguous and required clarification to be answerable, please identify the question and state your assumptions. Be warned: We only plan to consider this information if we agree that the question was erroneous or ambiguous and we consider your assumption reasonable. (0 point)"
   ]
  },
  {
   "cell_type": "code",
   "execution_count": null,
   "id": "687c60c1",
   "metadata": {},
   "outputs": [],
   "source": [
    "# Simply write your comment below and no need to Run this cell\n"
   ]
  },
  {
   "cell_type": "markdown",
   "id": "4a098b51",
   "metadata": {},
   "source": [
    "### Submission"
   ]
  },
  {
   "cell_type": "markdown",
   "id": "b6ed7862",
   "metadata": {},
   "source": [
    "To submit your answer, please download your notebook as a .ipynb and .html file and submit to Canvas. You can do so by navigating to the toolbar at the top of this page, clicking File > Download as ... > Notebook (.ipynb) or HTML (.html). Then, upload **both files** under \"Final_Eaxm\" in the Assignments on Canvas."
   ]
  }
 ],
 "metadata": {
  "kernelspec": {
   "display_name": "Python 3 (ipykernel)",
   "language": "python",
   "name": "python3"
  },
  "language_info": {
   "codemirror_mode": {
    "name": "ipython",
    "version": 3
   },
   "file_extension": ".py",
   "mimetype": "text/x-python",
   "name": "python",
   "nbconvert_exporter": "python",
   "pygments_lexer": "ipython3",
   "version": "3.11.2"
  }
 },
 "nbformat": 4,
 "nbformat_minor": 5
}
