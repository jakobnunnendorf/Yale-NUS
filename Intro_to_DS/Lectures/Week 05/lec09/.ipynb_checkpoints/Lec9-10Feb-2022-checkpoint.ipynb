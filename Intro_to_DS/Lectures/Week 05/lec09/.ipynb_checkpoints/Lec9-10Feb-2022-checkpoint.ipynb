{
 "cells": [
  {
   "cell_type": "code",
   "execution_count": 1,
   "metadata": {},
   "outputs": [],
   "source": [
    "from datascience import *\n",
    "%matplotlib inline\n",
    "import matplotlib.pyplot as plots\n",
    "plots.style.use('fivethirtyeight')\n",
    "import numpy as np"
   ]
  },
  {
   "cell_type": "markdown",
   "metadata": {},
   "source": [
    "## Lecture 9 ##"
   ]
  },
  {
   "cell_type": "markdown",
   "metadata": {},
   "source": [
    "### Percentiles"
   ]
  },
  {
   "cell_type": "code",
   "execution_count": 12,
   "metadata": {},
   "outputs": [],
   "source": [
    "s = [1,7,3,5,9]"
   ]
  },
  {
   "cell_type": "code",
   "execution_count": 122,
   "metadata": {},
   "outputs": [
    {
     "data": {
      "text/plain": [
       "1"
      ]
     },
     "execution_count": 122,
     "metadata": {},
     "output_type": "execute_result"
    }
   ],
   "source": [
    "percentile(10,s)"
   ]
  },
  {
   "cell_type": "code",
   "execution_count": 123,
   "metadata": {},
   "outputs": [
    {
     "data": {
      "text/plain": [
       "3"
      ]
     },
     "execution_count": 123,
     "metadata": {},
     "output_type": "execute_result"
    }
   ],
   "source": [
    "percentile(39,s)"
   ]
  },
  {
   "cell_type": "code",
   "execution_count": 124,
   "metadata": {},
   "outputs": [
    {
     "data": {
      "text/plain": [
       "3"
      ]
     },
     "execution_count": 124,
     "metadata": {},
     "output_type": "execute_result"
    }
   ],
   "source": [
    "percentile(40,s)"
   ]
  },
  {
   "cell_type": "code",
   "execution_count": 125,
   "metadata": {},
   "outputs": [
    {
     "data": {
      "text/plain": [
       "5"
      ]
     },
     "execution_count": 125,
     "metadata": {},
     "output_type": "execute_result"
    }
   ],
   "source": [
    "percentile(41,s)"
   ]
  },
  {
   "cell_type": "code",
   "execution_count": 14,
   "metadata": {},
   "outputs": [
    {
     "data": {
      "text/plain": [
       "5"
      ]
     },
     "execution_count": 14,
     "metadata": {},
     "output_type": "execute_result"
    }
   ],
   "source": [
    "percentile(50,s)"
   ]
  },
  {
   "cell_type": "code",
   "execution_count": 13,
   "metadata": {},
   "outputs": [
    {
     "data": {
      "text/plain": [
       "5.0"
      ]
     },
     "execution_count": 13,
     "metadata": {},
     "output_type": "execute_result"
    }
   ],
   "source": [
    "np.median(s)"
   ]
  },
  {
   "cell_type": "markdown",
   "metadata": {},
   "source": [
    "## San-Francisco salary"
   ]
  },
  {
   "cell_type": "code",
   "execution_count": 2,
   "metadata": {},
   "outputs": [
    {
     "data": {
      "text/html": [
       "<table border=\"1\" class=\"dataframe\">\n",
       "    <thead>\n",
       "        <tr>\n",
       "            <th>Year Type</th> <th>Year</th> <th>Organization Group Code</th> <th>Organization Group</th> <th>Department Code</th> <th>Department</th> <th>Union Code</th> <th>Union</th> <th>Job Family Code</th> <th>Job Family</th> <th>Job Code</th> <th>Job</th> <th>Employee Identifier</th> <th>Salaries</th> <th>Overtime</th> <th>Other Salaries</th> <th>Total Salary</th> <th>Retirement</th> <th>Health/Dental</th> <th>Other Benefits</th> <th>Total Benefits</th> <th>Total Compensation</th>\n",
       "        </tr>\n",
       "    </thead>\n",
       "    <tbody>\n",
       "        <tr>\n",
       "            <td>Calendar </td> <td>2015</td> <td>2                      </td> <td>Public Works, Transportation & Commerce </td> <td>WTR            </td> <td>PUC Water Department                  </td> <td>21        </td> <td>Prof & Tech Engineers - Miscellaneous, Local 21   </td> <td>2400           </td> <td>Lab, Pharmacy & Med Techs    </td> <td>2481    </td> <td>Water Qualitytech I/II        </td> <td>21538              </td> <td>82146   </td> <td>0       </td> <td>0             </td> <td>82146       </td> <td>16942.2   </td> <td>12340.9      </td> <td>6337.73       </td> <td>35620.8       </td> <td>117767            </td>\n",
       "        </tr>\n",
       "        <tr>\n",
       "            <td>Calendar </td> <td>2015</td> <td>2                      </td> <td>Public Works, Transportation & Commerce </td> <td>DPW            </td> <td>General Services Agency - Public Works</td> <td>12        </td> <td>Carpet, Linoleum and Soft Tile Workers, Local 12  </td> <td>7300           </td> <td>Journeyman Trade             </td> <td>7393    </td> <td>Soft Floor Coverer            </td> <td>5459               </td> <td>32165.8 </td> <td>973.19  </td> <td>848.96        </td> <td>33987.9     </td> <td>0         </td> <td>4587.51      </td> <td>2634.42       </td> <td>7221.93       </td> <td>41209.8           </td>\n",
       "        </tr>\n",
       "        <tr>\n",
       "            <td>Calendar </td> <td>2015</td> <td>4                      </td> <td>Community Health                        </td> <td>DPH            </td> <td>Public Health                         </td> <td>790       </td> <td>SEIU - Miscellaneous, Local 1021                  </td> <td>1600           </td> <td>Payroll, Billing & Accounting</td> <td>1636    </td> <td>Health Care Billing Clerk 2   </td> <td>41541              </td> <td>71311   </td> <td>5757.98 </td> <td>0             </td> <td>77069       </td> <td>14697.6   </td> <td>12424.5      </td> <td>6370.06       </td> <td>33492.2       </td> <td>110561            </td>\n",
       "        </tr>\n",
       "        <tr>\n",
       "            <td>Calendar </td> <td>2015</td> <td>4                      </td> <td>Community Health                        </td> <td>DPH            </td> <td>Public Health                         </td> <td>351       </td> <td>Municipal Executive Association - Miscellaneous   </td> <td>0900           </td> <td>Management                   </td> <td>2620    </td> <td>Food Service Mgr Administrator</td> <td>26718              </td> <td>28430.2 </td> <td>0       </td> <td>763.07        </td> <td>29193.3     </td> <td>0         </td> <td>4223.14      </td> <td>5208.51       </td> <td>9431.65       </td> <td>38625             </td>\n",
       "        </tr>\n",
       "        <tr>\n",
       "            <td>Calendar </td> <td>2015</td> <td>2                      </td> <td>Public Works, Transportation & Commerce </td> <td>MTA            </td> <td>Municipal Transportation Agency       </td> <td>790       </td> <td>SEIU - Miscellaneous, Local 1021                  </td> <td>8200           </td> <td>Protection & Apprehension    </td> <td>8201    </td> <td>School Crossing Guard         </td> <td>45810              </td> <td>7948.75 </td> <td>0       </td> <td>0             </td> <td>7948.75     </td> <td>0         </td> <td>2873.17      </td> <td>616.24        </td> <td>3489.41       </td> <td>11438.2           </td>\n",
       "        </tr>\n",
       "        <tr>\n",
       "            <td>Calendar </td> <td>2015</td> <td>1                      </td> <td>Public Protection                       </td> <td>POL            </td> <td>Police                                </td> <td>911       </td> <td>Police Officers' Association                      </td> <td>Q000           </td> <td>Police Services              </td> <td>Q002    </td> <td>Police Officer                </td> <td>32906              </td> <td>2235    </td> <td>0       </td> <td>0             </td> <td>2235        </td> <td>490.36    </td> <td>286.72       </td> <td>176.57        </td> <td>953.65        </td> <td>3188.65           </td>\n",
       "        </tr>\n",
       "        <tr>\n",
       "            <td>Calendar </td> <td>2015</td> <td>4                      </td> <td>Community Health                        </td> <td>DPH            </td> <td>Public Health                         </td> <td>791       </td> <td>SEIU - Staff and Per Diem Nurses, Local 1021      </td> <td>2300           </td> <td>Nursing                      </td> <td>2328    </td> <td>Nurse Practitioner            </td> <td>7506               </td> <td>187247  </td> <td>0       </td> <td>11704.1       </td> <td>198951      </td> <td>37683.7   </td> <td>12424.5      </td> <td>11221.7       </td> <td>61329.9       </td> <td>260281            </td>\n",
       "        </tr>\n",
       "        <tr>\n",
       "            <td>Calendar </td> <td>2015</td> <td>2                      </td> <td>Public Works, Transportation & Commerce </td> <td>MTA            </td> <td>Municipal Transportation Agency       </td> <td>253       </td> <td>Transport Workers - Transit Operators, Local 250-A</td> <td>9100           </td> <td>Street Transit               </td> <td>9163    </td> <td>Transit Operator              </td> <td>36773              </td> <td>66988.5 </td> <td>3512.88 </td> <td>2770.39       </td> <td>73271.8     </td> <td>19127.2   </td> <td>13203        </td> <td>5455.1        </td> <td>37785.3       </td> <td>111057            </td>\n",
       "        </tr>\n",
       "        <tr>\n",
       "            <td>Calendar </td> <td>2015</td> <td>6                      </td> <td>General Administration & Finance        </td> <td>CAT            </td> <td>City Attorney                         </td> <td>311       </td> <td>Municipal Attorneys' Association                  </td> <td>8100           </td> <td>Legal & Court                </td> <td>8177    </td> <td>Attorney (Civil/Criminal)     </td> <td>12963              </td> <td>135190  </td> <td>0       </td> <td>1562.5        </td> <td>136752      </td> <td>27501.8   </td> <td>12424.5      </td> <td>10103         </td> <td>50029.3       </td> <td>186781            </td>\n",
       "        </tr>\n",
       "        <tr>\n",
       "            <td>Calendar </td> <td>2015</td> <td>3                      </td> <td>Human Welfare & Neighborhood Development</td> <td>DSS            </td> <td>Human Services                        </td> <td>535       </td> <td>SEIU - Human Services, Local 1021                 </td> <td>9700           </td> <td>Community Development        </td> <td>9703    </td> <td>Emp & Training Spec 2         </td> <td>35179              </td> <td>70474.8 </td> <td>147.28  </td> <td>1647.24       </td> <td>72269.3     </td> <td>14650.3   </td> <td>10696.9      </td> <td>5993.11       </td> <td>31340.3       </td> <td>103610            </td>\n",
       "        </tr>\n",
       "    </tbody>\n",
       "</table>\n",
       "<p>... (42979 rows omitted)</p>"
      ],
      "text/plain": [
       "Year Type | Year | Organization Group Code | Organization Group                       | Department Code | Department                             | Union Code | Union                                              | Job Family Code | Job Family                    | Job Code | Job                            | Employee Identifier | Salaries | Overtime | Other Salaries | Total Salary | Retirement | Health/Dental | Other Benefits | Total Benefits | Total Compensation\n",
       "Calendar  | 2015 | 2                       | Public Works, Transportation & Commerce  | WTR             | PUC Water Department                   | 21         | Prof & Tech Engineers - Miscellaneous, Local 21    | 2400            | Lab, Pharmacy & Med Techs     | 2481     | Water Qualitytech I/II         | 21538               | 82146    | 0        | 0              | 82146        | 16942.2    | 12340.9       | 6337.73        | 35620.8        | 117767\n",
       "Calendar  | 2015 | 2                       | Public Works, Transportation & Commerce  | DPW             | General Services Agency - Public Works | 12         | Carpet, Linoleum and Soft Tile Workers, Local 12   | 7300            | Journeyman Trade              | 7393     | Soft Floor Coverer             | 5459                | 32165.8  | 973.19   | 848.96         | 33987.9      | 0          | 4587.51       | 2634.42        | 7221.93        | 41209.8\n",
       "Calendar  | 2015 | 4                       | Community Health                         | DPH             | Public Health                          | 790        | SEIU - Miscellaneous, Local 1021                   | 1600            | Payroll, Billing & Accounting | 1636     | Health Care Billing Clerk 2    | 41541               | 71311    | 5757.98  | 0              | 77069        | 14697.6    | 12424.5       | 6370.06        | 33492.2        | 110561\n",
       "Calendar  | 2015 | 4                       | Community Health                         | DPH             | Public Health                          | 351        | Municipal Executive Association - Miscellaneous    | 0900            | Management                    | 2620     | Food Service Mgr Administrator | 26718               | 28430.2  | 0        | 763.07         | 29193.3      | 0          | 4223.14       | 5208.51        | 9431.65        | 38625\n",
       "Calendar  | 2015 | 2                       | Public Works, Transportation & Commerce  | MTA             | Municipal Transportation Agency        | 790        | SEIU - Miscellaneous, Local 1021                   | 8200            | Protection & Apprehension     | 8201     | School Crossing Guard          | 45810               | 7948.75  | 0        | 0              | 7948.75      | 0          | 2873.17       | 616.24         | 3489.41        | 11438.2\n",
       "Calendar  | 2015 | 1                       | Public Protection                        | POL             | Police                                 | 911        | Police Officers' Association                       | Q000            | Police Services               | Q002     | Police Officer                 | 32906               | 2235     | 0        | 0              | 2235         | 490.36     | 286.72        | 176.57         | 953.65         | 3188.65\n",
       "Calendar  | 2015 | 4                       | Community Health                         | DPH             | Public Health                          | 791        | SEIU - Staff and Per Diem Nurses, Local 1021       | 2300            | Nursing                       | 2328     | Nurse Practitioner             | 7506                | 187247   | 0        | 11704.1        | 198951       | 37683.7    | 12424.5       | 11221.7        | 61329.9        | 260281\n",
       "Calendar  | 2015 | 2                       | Public Works, Transportation & Commerce  | MTA             | Municipal Transportation Agency        | 253        | Transport Workers - Transit Operators, Local 250-A | 9100            | Street Transit                | 9163     | Transit Operator               | 36773               | 66988.5  | 3512.88  | 2770.39        | 73271.8      | 19127.2    | 13203         | 5455.1         | 37785.3        | 111057\n",
       "Calendar  | 2015 | 6                       | General Administration & Finance         | CAT             | City Attorney                          | 311        | Municipal Attorneys' Association                   | 8100            | Legal & Court                 | 8177     | Attorney (Civil/Criminal)      | 12963               | 135190   | 0        | 1562.5         | 136752       | 27501.8    | 12424.5       | 10103          | 50029.3        | 186781\n",
       "Calendar  | 2015 | 3                       | Human Welfare & Neighborhood Development | DSS             | Human Services                         | 535        | SEIU - Human Services, Local 1021                  | 9700            | Community Development         | 9703     | Emp & Training Spec 2          | 35179               | 70474.8  | 147.28   | 1647.24        | 72269.3      | 14650.3    | 10696.9       | 5993.11        | 31340.3        | 103610\n",
       "... (42979 rows omitted)"
      ]
     },
     "execution_count": 2,
     "metadata": {},
     "output_type": "execute_result"
    }
   ],
   "source": [
    "sf = Table.read_table('san_francisco_2015.csv')\n",
    "sf"
   ]
  },
  {
   "cell_type": "code",
   "execution_count": 3,
   "metadata": {},
   "outputs": [
    {
     "data": {
      "text/html": [
       "<table border=\"1\" class=\"dataframe\">\n",
       "    <thead>\n",
       "        <tr>\n",
       "            <th>Year Type</th> <th>Year</th> <th>Organization Group Code</th> <th>Organization Group</th> <th>Department Code</th> <th>Department</th> <th>Union Code</th> <th>Union</th> <th>Job Family Code</th> <th>Job Family</th> <th>Job Code</th> <th>Job</th> <th>Employee Identifier</th> <th>Salaries</th> <th>Overtime</th> <th>Other Salaries</th> <th>Total Salary</th> <th>Retirement</th> <th>Health/Dental</th> <th>Other Benefits</th> <th>Total Benefits</th> <th>Total Compensation</th>\n",
       "        </tr>\n",
       "    </thead>\n",
       "    <tbody>\n",
       "        <tr>\n",
       "            <td>Calendar </td> <td>2015</td> <td>6                      </td> <td>General Administration & Finance       </td> <td>RET            </td> <td>Retirement System                   </td> <td>351       </td> <td>Municipal Executive Association - Miscellaneous</td> <td>1100           </td> <td>Administrative & Mgmt (Unrep)</td> <td>1119    </td> <td>Chief Investment Officer</td> <td>46881              </td> <td>507832  </td> <td>0       </td> <td>0             </td> <td>507832      </td> <td>105053    </td> <td>12424.5      </td> <td>23566.2       </td> <td>141044        </td> <td>648875            </td>\n",
       "        </tr>\n",
       "        <tr>\n",
       "            <td>Calendar </td> <td>2015</td> <td>6                      </td> <td>General Administration & Finance       </td> <td>ADM            </td> <td>General Services Agency - City Admin</td> <td>164       </td> <td>Physicians and Dentists - Miscellaneous        </td> <td>2500           </td> <td>Med Therapy & Auxiliary      </td> <td>2598    </td> <td>Asst Med Examiner       </td> <td>1016               </td> <td>279311  </td> <td>3829.36 </td> <td>114434        </td> <td>397574      </td> <td>56211.6   </td> <td>12424.5      </td> <td>14299.1       </td> <td>82935.2       </td> <td>480509            </td>\n",
       "        </tr>\n",
       "        <tr>\n",
       "            <td>Calendar </td> <td>2015</td> <td>6                      </td> <td>General Administration & Finance       </td> <td>ADM            </td> <td>General Services Agency - City Admin</td> <td>164       </td> <td>Physicians and Dentists - Miscellaneous        </td> <td>2500           </td> <td>Med Therapy & Auxiliary      </td> <td>2598    </td> <td>Asst Med Examiner       </td> <td>13746              </td> <td>279311  </td> <td>9046.92 </td> <td>56742.6       </td> <td>345101      </td> <td>56211.6   </td> <td>12424.5      </td> <td>13482.7       </td> <td>82118.8       </td> <td>427219            </td>\n",
       "        </tr>\n",
       "        <tr>\n",
       "            <td>Calendar </td> <td>2015</td> <td>2                      </td> <td>Public Works, Transportation & Commerce</td> <td>AIR            </td> <td>Airport Commission                  </td> <td>351       </td> <td>Municipal Executive Association - Miscellaneous</td> <td>0900           </td> <td>Management                   </td> <td>0965    </td> <td>Dept Head V             </td> <td>17356              </td> <td>326764  </td> <td>0       </td> <td>0             </td> <td>326764      </td> <td>65806.3   </td> <td>12424.5      </td> <td>21691.2       </td> <td>99922.1       </td> <td>426686            </td>\n",
       "        </tr>\n",
       "        <tr>\n",
       "            <td>Calendar </td> <td>2015</td> <td>4                      </td> <td>Community Health                       </td> <td>DPH            </td> <td>Public Health                       </td> <td>351       </td> <td>Municipal Executive Association - Miscellaneous</td> <td>0900           </td> <td>Management                   </td> <td>1164    </td> <td>Adm, SFGH Medical Center</td> <td>1523               </td> <td>256098  </td> <td>0       </td> <td>82292.3       </td> <td>338390      </td> <td>51977.5   </td> <td>11468.8      </td> <td>20963.3       </td> <td>84409.6       </td> <td>422800            </td>\n",
       "        </tr>\n",
       "    </tbody>\n",
       "</table>\n",
       "<p>... (42984 rows omitted)</p>"
      ],
      "text/plain": [
       "<IPython.core.display.HTML object>"
      ]
     },
     "metadata": {},
     "output_type": "display_data"
    }
   ],
   "source": [
    "# Who is making the most money\n",
    "sf.sort('Total Compensation', descending=True).show(5)"
   ]
  },
  {
   "cell_type": "code",
   "execution_count": 4,
   "metadata": {},
   "outputs": [
    {
     "data": {
      "text/html": [
       "<table border=\"1\" class=\"dataframe\">\n",
       "    <thead>\n",
       "        <tr>\n",
       "            <th>Year Type</th> <th>Year</th> <th>Organization Group Code</th> <th>Organization Group</th> <th>Department Code</th> <th>Department</th> <th>Union Code</th> <th>Union</th> <th>Job Family Code</th> <th>Job Family</th> <th>Job Code</th> <th>Job</th> <th>Employee Identifier</th> <th>Salaries</th> <th>Overtime</th> <th>Other Salaries</th> <th>Total Salary</th> <th>Retirement</th> <th>Health/Dental</th> <th>Other Benefits</th> <th>Total Benefits</th> <th>Total Compensation</th>\n",
       "        </tr>\n",
       "    </thead>\n",
       "    <tbody>\n",
       "        <tr>\n",
       "            <td>Calendar </td> <td>2015</td> <td>1                      </td> <td>Public Protection               </td> <td>FIR            </td> <td>Fire Department   </td> <td>798       </td> <td>Firefighters - Miscellaneous, Local 798        </td> <td>H000           </td> <td>Fire Services           </td> <td>H002    </td> <td>Firefighter               </td> <td>43833              </td> <td>0       </td> <td>0       </td> <td>0             </td> <td>0           </td> <td>0         </td> <td>0            </td> <td>-423.76       </td> <td>-423.76       </td> <td>-423.76           </td>\n",
       "        </tr>\n",
       "        <tr>\n",
       "            <td>Calendar </td> <td>2015</td> <td>4                      </td> <td>Community Health                </td> <td>DPH            </td> <td>Public Health     </td> <td>790       </td> <td>SEIU - Miscellaneous, Local 1021               </td> <td>9900           </td> <td>Public Service Aide     </td> <td>9924    </td> <td>PS Aide Health Services   </td> <td>27871              </td> <td>-292.4  </td> <td>0       </td> <td>0             </td> <td>-292.4      </td> <td>0         </td> <td>-95.58       </td> <td>-22.63        </td> <td>-118.21       </td> <td>-410.61           </td>\n",
       "        </tr>\n",
       "        <tr>\n",
       "            <td>Calendar </td> <td>2015</td> <td>1                      </td> <td>Public Protection               </td> <td>JUV            </td> <td>Juvenile Probation</td> <td>790       </td> <td>SEIU - Miscellaneous, Local 1021               </td> <td>8300           </td> <td>Correction & Detention  </td> <td>8320    </td> <td>Counselor, Juvenile Hall  </td> <td>10517              </td> <td>0       </td> <td>0       </td> <td>0             </td> <td>0           </td> <td>0         </td> <td>0            </td> <td>-159.12       </td> <td>-159.12       </td> <td>-159.12           </td>\n",
       "        </tr>\n",
       "        <tr>\n",
       "            <td>Calendar </td> <td>2015</td> <td>6                      </td> <td>General Administration & Finance</td> <td>CPC            </td> <td>City Planning     </td> <td>21        </td> <td>Prof & Tech Engineers - Miscellaneous, Local 21</td> <td>1000           </td> <td>Information Systems     </td> <td>1053    </td> <td>IS Business Analyst-Senior</td> <td>18961              </td> <td>0       </td> <td>0       </td> <td>0             </td> <td>0           </td> <td>0         </td> <td>0            </td> <td>-26.53        </td> <td>-26.53        </td> <td>-26.53            </td>\n",
       "        </tr>\n",
       "        <tr>\n",
       "            <td>Calendar </td> <td>2015</td> <td>6                      </td> <td>General Administration & Finance</td> <td>CPC            </td> <td>City Planning     </td> <td>21        </td> <td>Prof & Tech Engineers - Miscellaneous, Local 21</td> <td>5200           </td> <td>Professional Engineering</td> <td>5277    </td> <td>Planner 1                 </td> <td>19387              </td> <td>0       </td> <td>0       </td> <td>0             </td> <td>0           </td> <td>0         </td> <td>0            </td> <td>-9.51         </td> <td>-9.51         </td> <td>-9.51             </td>\n",
       "        </tr>\n",
       "    </tbody>\n",
       "</table>\n",
       "<p>... (42984 rows omitted)</p>"
      ],
      "text/plain": [
       "<IPython.core.display.HTML object>"
      ]
     },
     "metadata": {},
     "output_type": "display_data"
    }
   ],
   "source": [
    "# Who is making the least money\n",
    "sf.sort('Total Compensation', descending=False).show(5)"
   ]
  },
  {
   "cell_type": "code",
   "execution_count": 5,
   "metadata": {},
   "outputs": [],
   "source": [
    "# data cleaning\n",
    "min_salary = 10 * 20 * 52\n",
    "sf = sf.where('Total Compensation', are.above(min_salary))"
   ]
  },
  {
   "cell_type": "code",
   "execution_count": 6,
   "metadata": {},
   "outputs": [
    {
     "data": {
      "text/plain": [
       "107516.69"
      ]
     },
     "execution_count": 6,
     "metadata": {},
     "output_type": "execute_result"
    }
   ],
   "source": [
    "pop_median = percentile(50, sf.column('Total Compensation'))\n",
    "pop_median"
   ]
  },
  {
   "cell_type": "code",
   "execution_count": 7,
   "metadata": {},
   "outputs": [
    {
     "data": {
      "text/html": [
       "<table border=\"1\" class=\"dataframe\">\n",
       "    <thead>\n",
       "        <tr>\n",
       "            <th>Year Type</th> <th>Year</th> <th>Organization Group Code</th> <th>Organization Group</th> <th>Department Code</th> <th>Department</th> <th>Union Code</th> <th>Union</th> <th>Job Family Code</th> <th>Job Family</th> <th>Job Code</th> <th>Job</th> <th>Employee Identifier</th> <th>Salaries</th> <th>Overtime</th> <th>Other Salaries</th> <th>Total Salary</th> <th>Retirement</th> <th>Health/Dental</th> <th>Other Benefits</th> <th>Total Benefits</th> <th>Total Compensation</th>\n",
       "        </tr>\n",
       "    </thead>\n",
       "    <tbody>\n",
       "        <tr>\n",
       "            <td>Calendar </td> <td>2015</td> <td>3                      </td> <td>Human Welfare & Neighborhood Development</td> <td>DSS            </td> <td>Human Services                </td> <td>790       </td> <td>SEIU - Miscellaneous, Local 1021            </td> <td>1400           </td> <td>Clerical, Secretarial & Steno</td> <td>1404    </td> <td>Clerk                    </td> <td>5553               </td> <td>22453.1 </td> <td>268.05  </td> <td>480           </td> <td>23201.2     </td> <td>5212.92   </td> <td>5787.91      </td> <td>1893.46       </td> <td>12894.3       </td> <td>36095.5           </td>\n",
       "        </tr>\n",
       "        <tr>\n",
       "            <td>Calendar </td> <td>2015</td> <td>4                      </td> <td>Community Health                        </td> <td>DPH            </td> <td>Public Health                 </td> <td>791       </td> <td>SEIU - Staff and Per Diem Nurses, Local 1021</td> <td>2300           </td> <td>Nursing                      </td> <td>P103    </td> <td>Special Nurse            </td> <td>1756               </td> <td>26376.8 </td> <td>2642.04 </td> <td>6007.43       </td> <td>35026.2     </td> <td>2157.21   </td> <td>2028.66      </td> <td>3437.78       </td> <td>7623.65       </td> <td>42649.9           </td>\n",
       "        </tr>\n",
       "        <tr>\n",
       "            <td>Calendar </td> <td>2015</td> <td>5                      </td> <td>Culture & Recreation                    </td> <td>REC            </td> <td>Recreation and Park Commission</td> <td>261       </td> <td>Laborers, Local 261                         </td> <td>3400           </td> <td>Agriculture & Horticulture   </td> <td>3417    </td> <td>Gardener                 </td> <td>44004              </td> <td>66102   </td> <td>0       </td> <td>75.6          </td> <td>66177.6     </td> <td>13638.1   </td> <td>12424.5      </td> <td>5458.82       </td> <td>31521.4       </td> <td>97699             </td>\n",
       "        </tr>\n",
       "        <tr>\n",
       "            <td>Calendar </td> <td>2015</td> <td>4                      </td> <td>Community Health                        </td> <td>DPH            </td> <td>Public Health                 </td> <td>790       </td> <td>SEIU - Miscellaneous, Local 1021            </td> <td>2500           </td> <td>Med Therapy & Auxiliary      </td> <td>2585    </td> <td>Health Worker 1          </td> <td>48832              </td> <td>48653.7 </td> <td>0       </td> <td>0             </td> <td>48653.7     </td> <td>11668.3   </td> <td>12119.9      </td> <td>3956.77       </td> <td>27744.9       </td> <td>76398.6           </td>\n",
       "        </tr>\n",
       "        <tr>\n",
       "            <td>Calendar </td> <td>2015</td> <td>3                      </td> <td>Human Welfare & Neighborhood Development</td> <td>DSS            </td> <td>Human Services                </td> <td>535       </td> <td>SEIU - Human Services, Local 1021           </td> <td>2900           </td> <td>Human Services               </td> <td>2905    </td> <td>Senior Eligibility Worker</td> <td>12282              </td> <td>77071.1 </td> <td>0       </td> <td>624           </td> <td>77695.1     </td> <td>16013.4   </td> <td>12424.5      </td> <td>5991.27       </td> <td>34429.2       </td> <td>112124            </td>\n",
       "        </tr>\n",
       "    </tbody>\n",
       "</table>\n",
       "<p>... (295 rows omitted)</p>"
      ],
      "text/plain": [
       "<IPython.core.display.HTML object>"
      ]
     },
     "metadata": {},
     "output_type": "display_data"
    }
   ],
   "source": [
    "our_sample = sf.sample(300, with_replacement=False)\n",
    "our_sample.show(5)"
   ]
  },
  {
   "cell_type": "code",
   "execution_count": 9,
   "metadata": {},
   "outputs": [],
   "source": [
    "sf_bins = np.arange(0, 700000, 25000)"
   ]
  },
  {
   "cell_type": "markdown",
   "metadata": {},
   "source": [
    "# Bootstrap"
   ]
  },
  {
   "cell_type": "code",
   "execution_count": 15,
   "metadata": {},
   "outputs": [
    {
     "data": {
      "text/plain": [
       "106234.64"
      ]
     },
     "execution_count": 15,
     "metadata": {},
     "output_type": "execute_result"
    }
   ],
   "source": [
    "def generate_sample_median(samp_size):\n",
    "    our_sample = sf.sample(samp_size, with_replacement=False)\n",
    "    return percentile(50, our_sample.column('Total Compensation'))\n",
    "\n",
    "sample_median = generate_sample_median(300)\n",
    "sample_median"
   ]
  },
  {
   "cell_type": "code",
   "execution_count": 16,
   "metadata": {},
   "outputs": [
    {
     "name": "stdout",
     "output_type": "stream",
     "text": [
      "Population Median =        107516.69\n",
      "Our Sample Median =        106234.64\n",
      "Bootstrap Sample Median =  117890.06\n"
     ]
    },
    {
     "data": {
      "image/png": "[encoded data removed]",
      "text/plain": [
       "<Figure size 432x288 with 1 Axes>"
      ]
     },
     "metadata": {},
     "output_type": "display_data"
    }
   ],
   "source": [
    "# Take a bootstrap (re)sample of size 300, WITH replacement\n",
    "boot_sample = our_sample.sample(300, with_replacement=True)\n",
    "boot_sample.hist('Total Compensation', bins=sf_bins)\n",
    "plots.title('Bootstrap sample');\n",
    "\n",
    "print(\"Population Median =       \", pop_median)\n",
    "print(\"Our Sample Median =       \", sample_median)\n",
    "print(\"Bootstrap Sample Median = \", \n",
    "      percentile(50,boot_sample.column('Total Compensation')))"
   ]
  },
  {
   "cell_type": "code",
   "execution_count": 17,
   "metadata": {},
   "outputs": [],
   "source": [
    "def one_bootstrap_median():\n",
    "    boot_resample = our_sample.sample()\n",
    "    return percentile(50, boot_resample.column('Total Compensation'))"
   ]
  },
  {
   "cell_type": "code",
   "execution_count": 18,
   "metadata": {},
   "outputs": [],
   "source": [
    "bootstrap_medians = make_array()\n",
    "for i in np.arange(1000):\n",
    "    new_median = one_bootstrap_median()\n",
    "    bootstrap_medians = np.append(bootstrap_medians, new_median)"
   ]
  },
  {
   "cell_type": "code",
   "execution_count": 20,
   "metadata": {},
   "outputs": [
    {
     "data": {
      "image/png": "[encoded data removed]",
      "text/plain": [
       "<Figure size 432x288 with 1 Axes>"
      ]
     },
     "metadata": {},
     "output_type": "display_data"
    }
   ],
   "source": [
    "med_bins = np.arange(90000, 125001, 2500)\n",
    "Table().with_column(\n",
    "    'Bootstrap Medians', bootstrap_medians\n",
    ").hist('Bootstrap Medians', bins=med_bins)\n",
    "\n",
    "plots.scatter(pop_median, -1e-6, color=\"red\");\n",
    "plots.scatter(sample_median, -1e-6, color=\"blue\");"
   ]
  },
  {
   "cell_type": "markdown",
   "metadata": {},
   "source": [
    "## Confidence Intervals"
   ]
  },
  {
   "cell_type": "markdown",
   "metadata": {},
   "source": [
    "The confidence interval is an interval based on the middle 95% of bootstrap samples.  The interval will be shown in yellow, the sample median (our estimate) in blue, and the true population median (the parameter) in red."
   ]
  },
  {
   "cell_type": "code",
   "execution_count": 21,
   "metadata": {},
   "outputs": [
    {
     "data": {
      "image/png": "[encoded data removed]",
      "text/plain": [
       "<Figure size 432x288 with 1 Axes>"
      ]
     },
     "metadata": {},
     "output_type": "display_data"
    }
   ],
   "source": [
    "left = percentile(2.5, bootstrap_medians)\n",
    "right = percentile(97.5, bootstrap_medians)\n",
    "\n",
    "Table().with_column(\n",
    "    'Bootstrap Medians', bootstrap_medians\n",
    ").hist('Bootstrap Medians', bins=med_bins)\n",
    "\n",
    "plots.plot([left, right], [-1e-6,-1e-6], color=\"gold\",lw=3, zorder=1);\n",
    "plots.scatter(pop_median, -1e-6, color=\"red\", zorder=2);\n",
    "plots.scatter(sample_median, -1e-6, color=\"blue\", zorder=2);"
   ]
  },
  {
   "cell_type": "markdown",
   "metadata": {},
   "source": [
    "## Draw a fresh sample from population, then draw bootstrap samples and calculate a new Confidence Interval"
   ]
  },
  {
   "cell_type": "code",
   "execution_count": 24,
   "metadata": {},
   "outputs": [],
   "source": [
    "our_sample = sf.sample(300, with_replacement=False)\n",
    "bootstrap_medians = make_array()\n",
    "for i in np.arange(1000):\n",
    "    new_median = one_bootstrap_median()\n",
    "    bootstrap_medians = np.append(bootstrap_medians, new_median)"
   ]
  },
  {
   "cell_type": "code",
   "execution_count": 25,
   "metadata": {},
   "outputs": [
    {
     "data": {
      "image/png": "[encoded data removed]",
      "text/plain": [
       "<Figure size 432x288 with 1 Axes>"
      ]
     },
     "metadata": {},
     "output_type": "display_data"
    }
   ],
   "source": [
    "left = percentile(2.5, bootstrap_medians)\n",
    "right = percentile(97.5, bootstrap_medians)\n",
    "\n",
    "Table().with_column(\n",
    "    'Bootstrap Medians', bootstrap_medians\n",
    ").hist('Bootstrap Medians', bins=med_bins)\n",
    "\n",
    "plots.plot([left, right], [-1e-6,-1e-6], color=\"gold\",lw=3, zorder=1);\n",
    "plots.scatter(pop_median, -1e-6, color=\"red\", zorder=2);\n",
    "plots.scatter(sample_median, -1e-6, color=\"blue\", zorder=2);"
   ]
  },
  {
   "cell_type": "markdown",
   "metadata": {},
   "source": [
    "## Average (Mean) ##"
   ]
  },
  {
   "cell_type": "code",
   "execution_count": 150,
   "metadata": {},
   "outputs": [],
   "source": [
    "values = make_array(2, 3, 3, 9)"
   ]
  },
  {
   "cell_type": "code",
   "execution_count": 106,
   "metadata": {},
   "outputs": [
    {
     "data": {
      "text/plain": [
       "4.25"
      ]
     },
     "execution_count": 106,
     "metadata": {},
     "output_type": "execute_result"
    }
   ],
   "source": [
    "sum(values)/len(values)"
   ]
  },
  {
   "cell_type": "code",
   "execution_count": 151,
   "metadata": {},
   "outputs": [
    {
     "data": {
      "text/plain": [
       "4.25"
      ]
     },
     "execution_count": 151,
     "metadata": {},
     "output_type": "execute_result"
    }
   ],
   "source": [
    "np.average(values)"
   ]
  },
  {
   "cell_type": "code",
   "execution_count": 152,
   "metadata": {},
   "outputs": [
    {
     "data": {
      "text/plain": [
       "4.25"
      ]
     },
     "execution_count": 152,
     "metadata": {},
     "output_type": "execute_result"
    }
   ],
   "source": [
    "np.mean(values)"
   ]
  },
  {
   "cell_type": "code",
   "execution_count": 153,
   "metadata": {},
   "outputs": [
    {
     "data": {
      "text/html": [
       "<table border=\"1\" class=\"dataframe\">\n",
       "    <thead>\n",
       "        <tr>\n",
       "            <th>value</th>\n",
       "        </tr>\n",
       "    </thead>\n",
       "    <tbody>\n",
       "        <tr>\n",
       "            <td>2    </td>\n",
       "        </tr>\n",
       "        <tr>\n",
       "            <td>3    </td>\n",
       "        </tr>\n",
       "        <tr>\n",
       "            <td>3    </td>\n",
       "        </tr>\n",
       "        <tr>\n",
       "            <td>9    </td>\n",
       "        </tr>\n",
       "    </tbody>\n",
       "</table>"
      ],
      "text/plain": [
       "value\n",
       "2\n",
       "3\n",
       "3\n",
       "9"
      ]
     },
     "execution_count": 153,
     "metadata": {},
     "output_type": "execute_result"
    }
   ],
   "source": [
    "values_table = Table().with_columns('value', values)\n",
    "values_table"
   ]
  },
  {
   "cell_type": "markdown",
   "metadata": {},
   "source": [
    "## Standard Deviation ##"
   ]
  },
  {
   "cell_type": "code",
   "execution_count": 155,
   "metadata": {},
   "outputs": [
    {
     "data": {
      "text/html": [
       "<table border=\"1\" class=\"dataframe\">\n",
       "    <thead>\n",
       "        <tr>\n",
       "            <th>Value</th>\n",
       "        </tr>\n",
       "    </thead>\n",
       "    <tbody>\n",
       "        <tr>\n",
       "            <td>2    </td>\n",
       "        </tr>\n",
       "        <tr>\n",
       "            <td>3    </td>\n",
       "        </tr>\n",
       "        <tr>\n",
       "            <td>3    </td>\n",
       "        </tr>\n",
       "        <tr>\n",
       "            <td>9    </td>\n",
       "        </tr>\n",
       "    </tbody>\n",
       "</table>"
      ],
      "text/plain": [
       "Value\n",
       "2\n",
       "3\n",
       "3\n",
       "9"
      ]
     },
     "execution_count": 155,
     "metadata": {},
     "output_type": "execute_result"
    }
   ],
   "source": [
    "sd_table = Table().with_columns('Value', values)\n",
    "sd_table"
   ]
  },
  {
   "cell_type": "code",
   "execution_count": 156,
   "metadata": {},
   "outputs": [
    {
     "data": {
      "text/plain": [
       "4.25"
      ]
     },
     "execution_count": 156,
     "metadata": {},
     "output_type": "execute_result"
    }
   ],
   "source": [
    "average_value = np.average(sd_table.column(0))\n",
    "average_value"
   ]
  },
  {
   "cell_type": "code",
   "execution_count": 157,
   "metadata": {},
   "outputs": [
    {
     "data": {
      "text/html": [
       "<table border=\"1\" class=\"dataframe\">\n",
       "    <thead>\n",
       "        <tr>\n",
       "            <th>Value</th> <th>Deviation</th>\n",
       "        </tr>\n",
       "    </thead>\n",
       "    <tbody>\n",
       "        <tr>\n",
       "            <td>2    </td> <td>-2.25    </td>\n",
       "        </tr>\n",
       "        <tr>\n",
       "            <td>3    </td> <td>-1.25    </td>\n",
       "        </tr>\n",
       "        <tr>\n",
       "            <td>3    </td> <td>-1.25    </td>\n",
       "        </tr>\n",
       "        <tr>\n",
       "            <td>9    </td> <td>4.75     </td>\n",
       "        </tr>\n",
       "    </tbody>\n",
       "</table>"
      ],
      "text/plain": [
       "Value | Deviation\n",
       "2     | -2.25\n",
       "3     | -1.25\n",
       "3     | -1.25\n",
       "9     | 4.75"
      ]
     },
     "execution_count": 157,
     "metadata": {},
     "output_type": "execute_result"
    }
   ],
   "source": [
    "deviations = values - average_value\n",
    "sd_table = sd_table.with_column('Deviation', deviations)\n",
    "sd_table"
   ]
  },
  {
   "cell_type": "code",
   "execution_count": 158,
   "metadata": {},
   "outputs": [
    {
     "data": {
      "text/plain": [
       "0.0"
      ]
     },
     "execution_count": 158,
     "metadata": {},
     "output_type": "execute_result"
    }
   ],
   "source": [
    "sum(deviations)"
   ]
  },
  {
   "cell_type": "code",
   "execution_count": 115,
   "metadata": {},
   "outputs": [
    {
     "data": {
      "text/html": [
       "<table border=\"1\" class=\"dataframe\">\n",
       "    <thead>\n",
       "        <tr>\n",
       "            <th>Value</th> <th>Deviation</th> <th>Squared Deviation</th>\n",
       "        </tr>\n",
       "    </thead>\n",
       "    <tbody>\n",
       "        <tr>\n",
       "            <td>2    </td> <td>-2.25    </td> <td>5.0625           </td>\n",
       "        </tr>\n",
       "        <tr>\n",
       "            <td>3    </td> <td>-1.25    </td> <td>1.5625           </td>\n",
       "        </tr>\n",
       "        <tr>\n",
       "            <td>3    </td> <td>-1.25    </td> <td>1.5625           </td>\n",
       "        </tr>\n",
       "        <tr>\n",
       "            <td>9    </td> <td>4.75     </td> <td>22.5625          </td>\n",
       "        </tr>\n",
       "    </tbody>\n",
       "</table>"
      ],
      "text/plain": [
       "Value | Deviation | Squared Deviation\n",
       "2     | -2.25     | 5.0625\n",
       "3     | -1.25     | 1.5625\n",
       "3     | -1.25     | 1.5625\n",
       "9     | 4.75      | 22.5625"
      ]
     },
     "execution_count": 115,
     "metadata": {},
     "output_type": "execute_result"
    }
   ],
   "source": [
    "sd_table = sd_table.with_columns('Squared Deviation', deviations ** 2)\n",
    "sd_table"
   ]
  },
  {
   "cell_type": "code",
   "execution_count": 116,
   "metadata": {},
   "outputs": [
    {
     "data": {
      "text/plain": [
       "7.6875"
      ]
     },
     "execution_count": 116,
     "metadata": {},
     "output_type": "execute_result"
    }
   ],
   "source": [
    "# Variance of the data\n",
    "\n",
    "variance = np.mean(sd_table.column('Squared Deviation'))\n",
    "variance"
   ]
  },
  {
   "cell_type": "code",
   "execution_count": 21,
   "metadata": {},
   "outputs": [
    {
     "data": {
      "text/plain": [
       "2.7726341266023544"
      ]
     },
     "execution_count": 21,
     "metadata": {},
     "output_type": "execute_result"
    }
   ],
   "source": [
    "# Standard Deviation (SD) is the square root of the variance\n",
    "\n",
    "sd = variance ** 0.5\n",
    "sd"
   ]
  },
  {
   "cell_type": "code",
   "execution_count": 117,
   "metadata": {},
   "outputs": [
    {
     "data": {
      "text/plain": [
       "2.7726341266023544"
      ]
     },
     "execution_count": 117,
     "metadata": {},
     "output_type": "execute_result"
    }
   ],
   "source": [
    "np.std(values)"
   ]
  },
  {
   "cell_type": "code",
   "execution_count": 159,
   "metadata": {},
   "outputs": [
    {
     "data": {
      "text/plain": [
       "3.0"
      ]
     },
     "execution_count": 159,
     "metadata": {},
     "output_type": "execute_result"
    }
   ],
   "source": [
    "np.median(values)"
   ]
  }
 ],
 "metadata": {
  "anaconda-cloud": {},
  "kernelspec": {
   "display_name": "Python 3 (ipykernel)",
   "language": "python",
   "name": "python3"
  },
  "language_info": {
   "codemirror_mode": {
    "name": "ipython",
    "version": 3
   },
   "file_extension": ".py",
   "mimetype": "text/x-python",
   "name": "python",
   "nbconvert_exporter": "python",
   "pygments_lexer": "ipython3",
   "version": "3.10.9"
  }
 },
 "nbformat": 4,
 "nbformat_minor": 1
}
